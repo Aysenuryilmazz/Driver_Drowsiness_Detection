{
 "cells": [
  {
   "cell_type": "code",
   "execution_count": 1,
   "metadata": {
    "_cell_guid": "b1076dfc-b9ad-4769-8c92-a6c4dae69d19",
    "_uuid": "8f2839f25d086af736a60e9eeb907d3b93b6e0e5",
    "execution": {
     "iopub.execute_input": "2021-01-18T21:45:07.477850Z",
     "iopub.status.busy": "2021-01-18T21:45:07.477022Z",
     "iopub.status.idle": "2021-01-18T21:45:13.542932Z",
     "shell.execute_reply": "2021-01-18T21:45:13.542310Z"
    },
    "papermill": {
     "duration": 6.090988,
     "end_time": "2021-01-18T21:45:13.543038",
     "exception": false,
     "start_time": "2021-01-18T21:45:07.452050",
     "status": "completed"
    },
    "tags": []
   },
   "outputs": [],
   "source": [
    "# multivariate multi-step stacked lstm example\n",
    "import numpy as np\n",
    "from numpy import array\n",
    "from numpy import hstack\n",
    "from keras.models import Sequential\n",
    "from keras.layers import LSTM\n",
    "from keras.layers import Dense\n",
    "import pandas as pd\n",
    "import pickle as pkl\n",
    "from sklearn.metrics import mean_squared_error\n",
    "import tensorflow as tf\n",
    "from sklearn.preprocessing import MinMaxScaler"
   ]
  },
  {
   "cell_type": "code",
   "execution_count": 2,
   "metadata": {
    "_cell_guid": "79c7e3d0-c299-4dcb-8224-4455121ee9b0",
    "_uuid": "d629ff2d2480ee46fbb7e2d37f6b5fab8052498a",
    "execution": {
     "iopub.execute_input": "2021-01-18T21:45:13.581499Z",
     "iopub.status.busy": "2021-01-18T21:45:13.580834Z",
     "iopub.status.idle": "2021-01-18T21:46:12.504287Z",
     "shell.execute_reply": "2021-01-18T21:46:12.503220Z"
    },
    "papermill": {
     "duration": 58.944295,
     "end_time": "2021-01-18T21:46:12.504432",
     "exception": false,
     "start_time": "2021-01-18T21:45:13.560137",
     "status": "completed"
    },
    "tags": []
   },
   "outputs": [],
   "source": [
    "nthu_train_X = pkl.load(open(\"../input/ddd-data-preparation-nthu/nthu_train_X\", 'rb'))\n",
    "nthu_train_y = pkl.load(open(\"../input/ddd-data-preparation-nthu/nthu_train_y\", 'rb'))\n",
    "\n",
    "nthu_test_X = pkl.load(open(\"../input/ddd-data-preparation-nthu/nthu_test_X\", 'rb'))\n",
    "nthu_test_y = pkl.load(open(\"../input/ddd-data-preparation-nthu/nthu_test_y\", 'rb'))"
   ]
  },
  {
   "cell_type": "code",
   "execution_count": 3,
   "metadata": {
    "execution": {
     "iopub.execute_input": "2021-01-18T21:46:12.542064Z",
     "iopub.status.busy": "2021-01-18T21:46:12.541195Z",
     "iopub.status.idle": "2021-01-18T21:46:12.589673Z",
     "shell.execute_reply": "2021-01-18T21:46:12.589149Z"
    },
    "papermill": {
     "duration": 0.068732,
     "end_time": "2021-01-18T21:46:12.589767",
     "exception": false,
     "start_time": "2021-01-18T21:46:12.521035",
     "status": "completed"
    },
    "tags": []
   },
   "outputs": [],
   "source": [
    "nthu_train_y = nthu_train_y.mean(axis=1)\n",
    "nthu_test_y = nthu_test_y.mean(axis=1)"
   ]
  },
  {
   "cell_type": "code",
   "execution_count": 4,
   "metadata": {
    "execution": {
     "iopub.execute_input": "2021-01-18T21:46:13.613107Z",
     "iopub.status.busy": "2021-01-18T21:46:13.612140Z",
     "iopub.status.idle": "2021-01-18T21:46:15.674379Z",
     "shell.execute_reply": "2021-01-18T21:46:15.673269Z"
    },
    "papermill": {
     "duration": 3.068496,
     "end_time": "2021-01-18T21:46:15.674508",
     "exception": false,
     "start_time": "2021-01-18T21:46:12.606012",
     "status": "completed"
    },
    "tags": []
   },
   "outputs": [],
   "source": [
    "nthu_train_y_scaled = tf.keras.activations.sigmoid(tf.constant(nthu_train_y, dtype = tf.float32))\n",
    "nthu_train_y_scaled = nthu_train_y_scaled.numpy()"
   ]
  },
  {
   "cell_type": "code",
   "execution_count": 5,
   "metadata": {
    "execution": {
     "iopub.execute_input": "2021-01-18T21:46:15.714948Z",
     "iopub.status.busy": "2021-01-18T21:46:15.713673Z",
     "iopub.status.idle": "2021-01-18T21:46:15.717833Z",
     "shell.execute_reply": "2021-01-18T21:46:15.717324Z"
    },
    "papermill": {
     "duration": 0.025995,
     "end_time": "2021-01-18T21:46:15.717929",
     "exception": false,
     "start_time": "2021-01-18T21:46:15.691934",
     "status": "completed"
    },
    "tags": []
   },
   "outputs": [],
   "source": [
    "nthu_test_y_scaled = tf.keras.activations.sigmoid(tf.constant(nthu_test_y, dtype = tf.float32))\n",
    "nthu_test_y_scaled = nthu_test_y_scaled.numpy()"
   ]
  },
  {
   "cell_type": "code",
   "execution_count": 6,
   "metadata": {
    "execution": {
     "iopub.execute_input": "2021-01-18T21:46:15.757017Z",
     "iopub.status.busy": "2021-01-18T21:46:15.756123Z",
     "iopub.status.idle": "2021-01-18T21:46:15.763713Z",
     "shell.execute_reply": "2021-01-18T21:46:15.763175Z"
    },
    "papermill": {
     "duration": 0.029172,
     "end_time": "2021-01-18T21:46:15.763806",
     "exception": false,
     "start_time": "2021-01-18T21:46:15.734634",
     "status": "completed"
    },
    "tags": []
   },
   "outputs": [],
   "source": [
    "scaler = MinMaxScaler()\n",
    "nthu_train_y_normalized = scaler.fit_transform(nthu_train_y.reshape(-1, 1))"
   ]
  },
  {
   "cell_type": "code",
   "execution_count": 7,
   "metadata": {
    "execution": {
     "iopub.execute_input": "2021-01-18T21:46:15.802653Z",
     "iopub.status.busy": "2021-01-18T21:46:15.801405Z",
     "iopub.status.idle": "2021-01-18T21:46:15.805179Z",
     "shell.execute_reply": "2021-01-18T21:46:15.804715Z"
    },
    "papermill": {
     "duration": 0.024586,
     "end_time": "2021-01-18T21:46:15.805271",
     "exception": false,
     "start_time": "2021-01-18T21:46:15.780685",
     "status": "completed"
    },
    "tags": []
   },
   "outputs": [],
   "source": [
    "nthu_test_y_normalized = scaler.transform(nthu_test_y.reshape(-1, 1))"
   ]
  },
  {
   "cell_type": "code",
   "execution_count": 8,
   "metadata": {
    "execution": {
     "iopub.execute_input": "2021-01-18T21:46:15.861972Z",
     "iopub.status.busy": "2021-01-18T21:46:15.846713Z",
     "iopub.status.idle": "2021-01-18T21:46:15.960430Z",
     "shell.execute_reply": "2021-01-18T21:46:15.959936Z"
    },
    "papermill": {
     "duration": 0.138266,
     "end_time": "2021-01-18T21:46:15.960530",
     "exception": false,
     "start_time": "2021-01-18T21:46:15.822264",
     "status": "completed"
    },
    "tags": []
   },
   "outputs": [],
   "source": [
    "idx =[]\n",
    "np.random.seed(0)\n",
    "for i in range(10000):\n",
    "    idx.append(np.random.randint(420953))"
   ]
  },
  {
   "cell_type": "code",
   "execution_count": 9,
   "metadata": {
    "execution": {
     "iopub.execute_input": "2021-01-18T21:46:16.002705Z",
     "iopub.status.busy": "2021-01-18T21:46:16.001940Z",
     "iopub.status.idle": "2021-01-19T04:47:11.424120Z",
     "shell.execute_reply": "2021-01-19T04:47:11.423521Z"
    },
    "papermill": {
     "duration": 25255.446425,
     "end_time": "2021-01-19T04:47:11.424301",
     "exception": false,
     "start_time": "2021-01-18T21:46:15.977876",
     "status": "completed"
    },
    "tags": []
   },
   "outputs": [
    {
     "name": "stdout",
     "output_type": "stream",
     "text": [
      "Epoch 1/70\n",
      "52620/52620 - 360s - loss: 0.0163\n",
      "Epoch 2/70\n",
      "52620/52620 - 361s - loss: 0.0075\n",
      "Epoch 3/70\n",
      "52620/52620 - 365s - loss: 0.0045\n",
      "Epoch 4/70\n",
      "52620/52620 - 370s - loss: 0.0028\n",
      "Epoch 5/70\n",
      "52620/52620 - 369s - loss: 0.0020\n",
      "Epoch 6/70\n",
      "52620/52620 - 368s - loss: 0.0016\n",
      "Epoch 7/70\n",
      "52620/52620 - 366s - loss: 0.0013\n",
      "Epoch 8/70\n",
      "52620/52620 - 361s - loss: 0.0011\n",
      "Epoch 9/70\n",
      "52620/52620 - 358s - loss: 0.0013\n",
      "Epoch 10/70\n",
      "52620/52620 - 358s - loss: 0.0012\n",
      "Epoch 11/70\n",
      "52620/52620 - 363s - loss: 0.0078\n",
      "Epoch 12/70\n",
      "52620/52620 - 374s - loss: 0.0114\n",
      "Epoch 13/70\n",
      "52620/52620 - 361s - loss: 0.0196\n",
      "Epoch 14/70\n",
      "52620/52620 - 359s - loss: 0.0235\n",
      "Epoch 15/70\n",
      "52620/52620 - 359s - loss: 0.0257\n",
      "Epoch 16/70\n",
      "52620/52620 - 359s - loss: 0.0260\n",
      "Epoch 17/70\n",
      "52620/52620 - 359s - loss: 0.0256\n",
      "Epoch 18/70\n",
      "52620/52620 - 359s - loss: 0.0260\n",
      "Epoch 19/70\n",
      "52620/52620 - 359s - loss: 0.0265\n",
      "Epoch 20/70\n",
      "52620/52620 - 359s - loss: 0.0266\n",
      "Epoch 21/70\n",
      "52620/52620 - 359s - loss: 0.0264\n",
      "Epoch 22/70\n",
      "52620/52620 - 358s - loss: 0.0266\n",
      "Epoch 23/70\n",
      "52620/52620 - 359s - loss: 0.0263\n",
      "Epoch 24/70\n",
      "52620/52620 - 360s - loss: 0.0265\n",
      "Epoch 25/70\n",
      "52620/52620 - 364s - loss: 0.0269\n",
      "Epoch 26/70\n",
      "52620/52620 - 367s - loss: 0.0274\n",
      "Epoch 27/70\n",
      "52620/52620 - 361s - loss: 0.0274\n",
      "Epoch 28/70\n",
      "52620/52620 - 359s - loss: 0.0274\n",
      "Epoch 29/70\n",
      "52620/52620 - 359s - loss: 0.0273\n",
      "Epoch 30/70\n",
      "52620/52620 - 360s - loss: 0.0272\n",
      "Epoch 31/70\n",
      "52620/52620 - 358s - loss: 0.0268\n",
      "Epoch 32/70\n",
      "52620/52620 - 358s - loss: 0.0265\n",
      "Epoch 33/70\n",
      "52620/52620 - 358s - loss: 0.0267\n",
      "Epoch 34/70\n",
      "52620/52620 - 359s - loss: 0.0268\n",
      "Epoch 35/70\n",
      "52620/52620 - 359s - loss: 0.0270\n",
      "Epoch 36/70\n",
      "52620/52620 - 358s - loss: 0.0271\n",
      "Epoch 37/70\n",
      "52620/52620 - 358s - loss: 0.0272\n",
      "Epoch 38/70\n",
      "52620/52620 - 359s - loss: 0.0274\n",
      "Epoch 39/70\n",
      "52620/52620 - 359s - loss: 0.0272\n",
      "Epoch 40/70\n",
      "52620/52620 - 358s - loss: 0.0269\n",
      "Epoch 41/70\n",
      "52620/52620 - 358s - loss: 0.0269\n",
      "Epoch 42/70\n",
      "52620/52620 - 360s - loss: 0.0267\n",
      "Epoch 43/70\n",
      "52620/52620 - 359s - loss: 0.0270\n",
      "Epoch 44/70\n",
      "52620/52620 - 358s - loss: 0.0268\n",
      "Epoch 45/70\n",
      "52620/52620 - 360s - loss: 0.0268\n",
      "Epoch 46/70\n",
      "52620/52620 - 358s - loss: 0.0267\n",
      "Epoch 47/70\n",
      "52620/52620 - 358s - loss: 0.0267\n",
      "Epoch 48/70\n",
      "52620/52620 - 359s - loss: 0.0268\n",
      "Epoch 49/70\n",
      "52620/52620 - 358s - loss: 0.0269\n",
      "Epoch 50/70\n",
      "52620/52620 - 358s - loss: 0.0269\n",
      "Epoch 51/70\n",
      "52620/52620 - 358s - loss: 0.0266\n",
      "Epoch 52/70\n",
      "52620/52620 - 360s - loss: 0.0269\n",
      "Epoch 53/70\n",
      "52620/52620 - 358s - loss: 0.0267\n",
      "Epoch 54/70\n",
      "52620/52620 - 358s - loss: 0.0265\n",
      "Epoch 55/70\n",
      "52620/52620 - 358s - loss: 0.0266\n",
      "Epoch 56/70\n",
      "52620/52620 - 359s - loss: 0.0266\n",
      "Epoch 57/70\n",
      "52620/52620 - 365s - loss: 0.0268\n",
      "Epoch 58/70\n",
      "52620/52620 - 366s - loss: 0.0269\n",
      "Epoch 59/70\n",
      "52620/52620 - 359s - loss: 0.0270\n",
      "Epoch 60/70\n",
      "52620/52620 - 358s - loss: 0.0272\n",
      "Epoch 61/70\n",
      "52620/52620 - 358s - loss: 0.0271\n",
      "Epoch 62/70\n",
      "52620/52620 - 358s - loss: 0.0270\n",
      "Epoch 63/70\n",
      "52620/52620 - 358s - loss: 0.0272\n",
      "Epoch 64/70\n",
      "52620/52620 - 358s - loss: 0.0272\n",
      "Epoch 65/70\n",
      "52620/52620 - 359s - loss: 0.0273\n",
      "Epoch 66/70\n",
      "52620/52620 - 361s - loss: 0.0271\n",
      "Epoch 67/70\n",
      "52620/52620 - 366s - loss: 0.0272\n",
      "Epoch 68/70\n",
      "52620/52620 - 368s - loss: 0.0271\n",
      "Epoch 69/70\n",
      "52620/52620 - 368s - loss: 0.0269\n",
      "Epoch 70/70\n",
      "52620/52620 - 367s - loss: 0.0268\n"
     ]
    },
    {
     "data": {
      "text/plain": [
       "<tensorflow.python.keras.callbacks.History at 0x7f6e980730d0>"
      ]
     },
     "execution_count": 9,
     "metadata": {},
     "output_type": "execute_result"
    }
   ],
   "source": [
    "n_steps_in, n_features, n_steps_out= 150, 8, 1\n",
    "\n",
    "# define model\n",
    "model = Sequential()\n",
    "model.add(LSTM(100, activation='tanh', input_shape=(n_steps_in, n_features)))\n",
    "model.add(Dense(n_steps_out, activation='sigmoid'))\n",
    "model.compile(optimizer='adam', loss='mse')\n",
    "# fit model\n",
    "model.fit(nthu_train_X, np.ravel(nthu_train_y_scaled), batch_size=8, epochs=70, verbose=2)"
   ]
  },
  {
   "cell_type": "code",
   "execution_count": 10,
   "metadata": {
    "execution": {
     "iopub.execute_input": "2021-01-19T04:47:11.571710Z",
     "iopub.status.busy": "2021-01-19T04:47:11.570533Z",
     "iopub.status.idle": "2021-01-19T04:47:28.602784Z",
     "shell.execute_reply": "2021-01-19T04:47:28.602113Z"
    },
    "papermill": {
     "duration": 17.1086,
     "end_time": "2021-01-19T04:47:28.602900",
     "exception": false,
     "start_time": "2021-01-19T04:47:11.494300",
     "status": "completed"
    },
    "tags": []
   },
   "outputs": [
    {
     "name": "stdout",
     "output_type": "stream",
     "text": [
      "4101/4101 [==============================] - 15s 4ms/step\n",
      "[[0.76565015]\n",
      " [0.7105164 ]\n",
      " [0.7115036 ]\n",
      " ...\n",
      " [0.7526588 ]\n",
      " [0.8018341 ]\n",
      " [0.7753376 ]]\n"
     ]
    }
   ],
   "source": [
    "# demonstrate prediction\n",
    "yhat = model.predict(nthu_test_X, verbose=1)\n",
    "print(yhat)"
   ]
  },
  {
   "cell_type": "code",
   "execution_count": 11,
   "metadata": {
    "execution": {
     "iopub.execute_input": "2021-01-19T04:47:28.976782Z",
     "iopub.status.busy": "2021-01-19T04:47:28.975145Z",
     "iopub.status.idle": "2021-01-19T04:47:28.979289Z",
     "shell.execute_reply": "2021-01-19T04:47:28.979735Z"
    },
    "papermill": {
     "duration": 0.187742,
     "end_time": "2021-01-19T04:47:28.979858",
     "exception": false,
     "start_time": "2021-01-19T04:47:28.792116",
     "status": "completed"
    },
    "tags": []
   },
   "outputs": [
    {
     "data": {
      "text/plain": [
       "array([0., 0., 0., ..., 2., 2., 2.])"
      ]
     },
     "execution_count": 11,
     "metadata": {},
     "output_type": "execute_result"
    }
   ],
   "source": [
    "nthu_test_y"
   ]
  },
  {
   "cell_type": "code",
   "execution_count": 12,
   "metadata": {
    "execution": {
     "iopub.execute_input": "2021-01-19T04:47:29.348270Z",
     "iopub.status.busy": "2021-01-19T04:47:29.347432Z",
     "iopub.status.idle": "2021-01-19T04:47:29.353226Z",
     "shell.execute_reply": "2021-01-19T04:47:29.352730Z"
    },
    "papermill": {
     "duration": 0.191144,
     "end_time": "2021-01-19T04:47:29.353329",
     "exception": false,
     "start_time": "2021-01-19T04:47:29.162185",
     "status": "completed"
    },
    "tags": []
   },
   "outputs": [
    {
     "data": {
      "text/plain": [
       "0.40545344"
      ]
     },
     "execution_count": 12,
     "metadata": {},
     "output_type": "execute_result"
    }
   ],
   "source": [
    "yhat.min()"
   ]
  },
  {
   "cell_type": "code",
   "execution_count": 13,
   "metadata": {
    "execution": {
     "iopub.execute_input": "2021-01-19T04:47:29.747286Z",
     "iopub.status.busy": "2021-01-19T04:47:29.745864Z",
     "iopub.status.idle": "2021-01-19T04:47:29.749673Z",
     "shell.execute_reply": "2021-01-19T04:47:29.747865Z"
    },
    "papermill": {
     "duration": 0.192884,
     "end_time": "2021-01-19T04:47:29.749787",
     "exception": false,
     "start_time": "2021-01-19T04:47:29.556903",
     "status": "completed"
    },
    "tags": []
   },
   "outputs": [
    {
     "data": {
      "text/plain": [
       "(131228, 1)"
      ]
     },
     "execution_count": 13,
     "metadata": {},
     "output_type": "execute_result"
    }
   ],
   "source": [
    "yhat.shape"
   ]
  },
  {
   "cell_type": "code",
   "execution_count": 14,
   "metadata": {
    "execution": {
     "iopub.execute_input": "2021-01-19T04:47:30.123193Z",
     "iopub.status.busy": "2021-01-19T04:47:30.122233Z",
     "iopub.status.idle": "2021-01-19T04:47:30.125390Z",
     "shell.execute_reply": "2021-01-19T04:47:30.125885Z"
    },
    "papermill": {
     "duration": 0.198539,
     "end_time": "2021-01-19T04:47:30.126179",
     "exception": false,
     "start_time": "2021-01-19T04:47:29.927640",
     "status": "completed"
    },
    "tags": []
   },
   "outputs": [
    {
     "data": {
      "text/plain": [
       "(131228,)"
      ]
     },
     "execution_count": 14,
     "metadata": {},
     "output_type": "execute_result"
    }
   ],
   "source": [
    "nthu_test_y.shape"
   ]
  },
  {
   "cell_type": "code",
   "execution_count": 15,
   "metadata": {
    "execution": {
     "iopub.execute_input": "2021-01-19T04:47:30.494816Z",
     "iopub.status.busy": "2021-01-19T04:47:30.493871Z",
     "iopub.status.idle": "2021-01-19T04:47:30.511505Z",
     "shell.execute_reply": "2021-01-19T04:47:30.512049Z"
    },
    "papermill": {
     "duration": 0.204206,
     "end_time": "2021-01-19T04:47:30.512220",
     "exception": false,
     "start_time": "2021-01-19T04:47:30.308014",
     "status": "completed"
    },
    "tags": []
   },
   "outputs": [
    {
     "data": {
      "text/plain": [
       "array([0.40545344, 0.4160897 , 0.41682026, ..., 0.9538388 , 0.9604874 ,\n",
       "       0.9605762 ], dtype=float32)"
      ]
     },
     "execution_count": 15,
     "metadata": {},
     "output_type": "execute_result"
    }
   ],
   "source": [
    "np.unique(yhat)"
   ]
  },
  {
   "cell_type": "code",
   "execution_count": 16,
   "metadata": {
    "execution": {
     "iopub.execute_input": "2021-01-19T04:47:30.889122Z",
     "iopub.status.busy": "2021-01-19T04:47:30.888243Z",
     "iopub.status.idle": "2021-01-19T04:47:30.904515Z",
     "shell.execute_reply": "2021-01-19T04:47:30.905699Z"
    },
    "papermill": {
     "duration": 0.214424,
     "end_time": "2021-01-19T04:47:30.905985",
     "exception": false,
     "start_time": "2021-01-19T04:47:30.691561",
     "status": "completed"
    },
    "tags": []
   },
   "outputs": [
    {
     "data": {
      "text/plain": [
       "array([0.        , 0.01666667, 0.03333333, 0.05      , 0.06666667,\n",
       "       0.08333333, 0.1       , 0.11666667, 0.13333333, 0.15      ,\n",
       "       0.16666667, 0.18333333, 0.2       , 0.21666667, 0.23333333,\n",
       "       0.25      , 0.26666667, 0.28333333, 0.3       , 0.31666667,\n",
       "       0.33333333, 0.35      , 0.36666667, 0.38333333, 0.4       ,\n",
       "       0.41666667, 0.43333333, 0.45      , 0.46666667, 0.48333333,\n",
       "       0.5       , 0.51666667, 0.53333333, 0.55      , 0.56666667,\n",
       "       0.58333333, 0.6       , 0.61666667, 0.63333333, 0.65      ,\n",
       "       0.66666667, 0.68333333, 0.7       , 0.71666667, 0.73333333,\n",
       "       0.75      , 0.76666667, 0.78333333, 0.8       , 0.81666667,\n",
       "       0.83333333, 0.85      , 0.86666667, 0.88333333, 0.9       ,\n",
       "       0.91666667, 0.93333333, 0.95      , 0.96666667, 0.98333333,\n",
       "       1.        ])"
      ]
     },
     "execution_count": 16,
     "metadata": {},
     "output_type": "execute_result"
    }
   ],
   "source": [
    "np.unique(nthu_test_y_normalized)"
   ]
  },
  {
   "cell_type": "code",
   "execution_count": 17,
   "metadata": {
    "execution": {
     "iopub.execute_input": "2021-01-19T04:47:31.291823Z",
     "iopub.status.busy": "2021-01-19T04:47:31.291074Z",
     "iopub.status.idle": "2021-01-19T04:47:31.297357Z",
     "shell.execute_reply": "2021-01-19T04:47:31.296790Z"
    },
    "papermill": {
     "duration": 0.196966,
     "end_time": "2021-01-19T04:47:31.297465",
     "exception": false,
     "start_time": "2021-01-19T04:47:31.100499",
     "status": "completed"
    },
    "tags": []
   },
   "outputs": [
    {
     "data": {
      "text/plain": [
       "<tf.Tensor: shape=(), dtype=float32, numpy=0.7310586>"
      ]
     },
     "execution_count": 17,
     "metadata": {},
     "output_type": "execute_result"
    }
   ],
   "source": [
    "tf.keras.activations.sigmoid(tf.constant(1, dtype = tf.float32))"
   ]
  },
  {
   "cell_type": "code",
   "execution_count": 18,
   "metadata": {
    "execution": {
     "iopub.execute_input": "2021-01-19T04:47:31.667568Z",
     "iopub.status.busy": "2021-01-19T04:47:31.665693Z",
     "iopub.status.idle": "2021-01-19T04:47:31.668428Z",
     "shell.execute_reply": "2021-01-19T04:47:31.668962Z"
    },
    "papermill": {
     "duration": 0.191631,
     "end_time": "2021-01-19T04:47:31.669084",
     "exception": false,
     "start_time": "2021-01-19T04:47:31.477453",
     "status": "completed"
    },
    "tags": []
   },
   "outputs": [],
   "source": [
    "def logit(x):\n",
    "    \"\"\" Computes the logit function, i.e. the logistic sigmoid inverse. \"\"\"\n",
    "    if (x<=0.5):\n",
    "        return float(0)\n",
    "    if (x>=0.880797):\n",
    "        return float(2)\n",
    "    return float(- tf.math.log(1. / x - 1.))"
   ]
  },
  {
   "cell_type": "code",
   "execution_count": 19,
   "metadata": {
    "execution": {
     "iopub.execute_input": "2021-01-19T04:47:32.040050Z",
     "iopub.status.busy": "2021-01-19T04:47:32.039305Z",
     "iopub.status.idle": "2021-01-19T04:48:09.783687Z",
     "shell.execute_reply": "2021-01-19T04:48:09.782987Z"
    },
    "papermill": {
     "duration": 37.930358,
     "end_time": "2021-01-19T04:48:09.783805",
     "exception": false,
     "start_time": "2021-01-19T04:47:31.853447",
     "status": "completed"
    },
    "tags": []
   },
   "outputs": [],
   "source": [
    "yhat_inversed = np.array([logit(x) for x in yhat])"
   ]
  },
  {
   "cell_type": "code",
   "execution_count": 20,
   "metadata": {
    "execution": {
     "iopub.execute_input": "2021-01-19T04:48:10.141414Z",
     "iopub.status.busy": "2021-01-19T04:48:10.140605Z",
     "iopub.status.idle": "2021-01-19T04:48:10.146537Z",
     "shell.execute_reply": "2021-01-19T04:48:10.146982Z"
    },
    "papermill": {
     "duration": 0.188475,
     "end_time": "2021-01-19T04:48:10.147131",
     "exception": false,
     "start_time": "2021-01-19T04:48:09.958656",
     "status": "completed"
    },
    "tags": []
   },
   "outputs": [
    {
     "data": {
      "text/plain": [
       "0"
      ]
     },
     "execution_count": 20,
     "metadata": {},
     "output_type": "execute_result"
    }
   ],
   "source": [
    "(yhat==1).sum()"
   ]
  },
  {
   "cell_type": "code",
   "execution_count": 21,
   "metadata": {
    "execution": {
     "iopub.execute_input": "2021-01-19T04:48:10.501829Z",
     "iopub.status.busy": "2021-01-19T04:48:10.500931Z",
     "iopub.status.idle": "2021-01-19T04:48:10.506356Z",
     "shell.execute_reply": "2021-01-19T04:48:10.505851Z"
    },
    "papermill": {
     "duration": 0.182925,
     "end_time": "2021-01-19T04:48:10.506454",
     "exception": false,
     "start_time": "2021-01-19T04:48:10.323529",
     "status": "completed"
    },
    "tags": []
   },
   "outputs": [],
   "source": [
    "yhat_inversed2 = scaler.inverse_transform(yhat)"
   ]
  },
  {
   "cell_type": "code",
   "execution_count": 22,
   "metadata": {
    "execution": {
     "iopub.execute_input": "2021-01-19T04:48:10.862213Z",
     "iopub.status.busy": "2021-01-19T04:48:10.861484Z",
     "iopub.status.idle": "2021-01-19T04:48:10.880097Z",
     "shell.execute_reply": "2021-01-19T04:48:10.879582Z"
    },
    "papermill": {
     "duration": 0.198242,
     "end_time": "2021-01-19T04:48:10.880225",
     "exception": false,
     "start_time": "2021-01-19T04:48:10.681983",
     "status": "completed"
    },
    "tags": []
   },
   "outputs": [
    {
     "data": {
      "text/plain": [
       "0.9314243693924137"
      ]
     },
     "execution_count": 22,
     "metadata": {},
     "output_type": "execute_result"
    }
   ],
   "source": [
    "mean_squared_error(yhat_inversed,nthu_test_y)"
   ]
  },
  {
   "cell_type": "markdown",
   "metadata": {
    "papermill": {
     "duration": 0.17838,
     "end_time": "2021-01-19T04:48:11.236417",
     "exception": false,
     "start_time": "2021-01-19T04:48:11.058037",
     "status": "completed"
    },
    "tags": []
   },
   "source": [
    "1.3878689692067376\n",
    "\n",
    "2.482321472640477\n",
    "\n",
    "3.3216619367005453\n",
    "\n",
    "tanh + sigmoid: 1.108981281677717\n",
    "\n",
    "tanh + minmax: 1.5659759629822405\n"
   ]
  },
  {
   "cell_type": "code",
   "execution_count": 23,
   "metadata": {
    "execution": {
     "iopub.execute_input": "2021-01-19T04:48:11.597872Z",
     "iopub.status.busy": "2021-01-19T04:48:11.595917Z",
     "iopub.status.idle": "2021-01-19T04:48:11.600329Z",
     "shell.execute_reply": "2021-01-19T04:48:11.599754Z"
    },
    "papermill": {
     "duration": 0.187798,
     "end_time": "2021-01-19T04:48:11.600434",
     "exception": false,
     "start_time": "2021-01-19T04:48:11.412636",
     "status": "completed"
    },
    "tags": []
   },
   "outputs": [
    {
     "data": {
      "text/plain": [
       "1.1780785072340203"
      ]
     },
     "execution_count": 23,
     "metadata": {},
     "output_type": "execute_result"
    }
   ],
   "source": [
    "1.3878689692067376**0.5"
   ]
  },
  {
   "cell_type": "code",
   "execution_count": 24,
   "metadata": {
    "execution": {
     "iopub.execute_input": "2021-01-19T04:48:11.988554Z",
     "iopub.status.busy": "2021-01-19T04:48:11.987289Z",
     "iopub.status.idle": "2021-01-19T04:48:12.048730Z",
     "shell.execute_reply": "2021-01-19T04:48:12.048094Z"
    },
    "papermill": {
     "duration": 0.273233,
     "end_time": "2021-01-19T04:48:12.048846",
     "exception": false,
     "start_time": "2021-01-19T04:48:11.775613",
     "status": "completed"
    },
    "tags": []
   },
   "outputs": [],
   "source": [
    "model.save(\"lstm_vanilla.h5\")"
   ]
  }
 ],
 "metadata": {
  "kernelspec": {
   "display_name": "Python 3",
   "language": "python",
   "name": "python3"
  },
  "language_info": {
   "codemirror_mode": {
    "name": "ipython",
    "version": 3
   },
   "file_extension": ".py",
   "mimetype": "text/x-python",
   "name": "python",
   "nbconvert_exporter": "python",
   "pygments_lexer": "ipython3",
   "version": "3.7.6"
  },
  "papermill": {
   "duration": 25391.504944,
   "end_time": "2021-01-19T04:48:14.505781",
   "environment_variables": {},
   "exception": null,
   "input_path": "__notebook__.ipynb",
   "output_path": "__notebook__.ipynb",
   "parameters": {},
   "start_time": "2021-01-18T21:45:03.000837",
   "version": "2.1.0"
  }
 },
 "nbformat": 4,
 "nbformat_minor": 4
}
