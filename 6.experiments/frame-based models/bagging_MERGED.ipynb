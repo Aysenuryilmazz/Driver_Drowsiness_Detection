{
 "cells": [
  {
   "cell_type": "code",
   "execution_count": 1,
   "metadata": {
    "_cell_guid": "b1076dfc-b9ad-4769-8c92-a6c4dae69d19",
    "_uuid": "8f2839f25d086af736a60e9eeb907d3b93b6e0e5",
    "execution": {
     "iopub.execute_input": "2020-12-30T18:26:22.034355Z",
     "iopub.status.busy": "2020-12-30T18:26:22.033346Z",
     "iopub.status.idle": "2020-12-30T18:26:23.359279Z",
     "shell.execute_reply": "2020-12-30T18:26:23.358655Z"
    },
    "papermill": {
     "duration": 1.336033,
     "end_time": "2020-12-30T18:26:23.359393",
     "exception": false,
     "start_time": "2020-12-30T18:26:22.023360",
     "status": "completed"
    },
    "tags": []
   },
   "outputs": [],
   "source": [
    "import os \n",
    "import pandas as pd\n",
    "import numpy as np\n",
    "\n",
    "# import sklearn methods \n",
    "from sklearn.metrics import accuracy_score, roc_curve, confusion_matrix, classification_report, roc_auc_score\n",
    "from sklearn.model_selection import train_test_split\n",
    "from sklearn.model_selection import StratifiedShuffleSplit\n",
    "from sklearn.model_selection import GridSearchCV\n",
    "import sys \n",
    "from sklearn.model_selection import learning_curve\n",
    "from sklearn.datasets import make_classification\n",
    "from sklearn.ensemble import BaggingClassifier"
   ]
  },
  {
   "cell_type": "code",
   "execution_count": 2,
   "metadata": {
    "_cell_guid": "79c7e3d0-c299-4dcb-8224-4455121ee9b0",
    "_uuid": "d629ff2d2480ee46fbb7e2d37f6b5fab8052498a",
    "execution": {
     "iopub.execute_input": "2020-12-30T18:26:23.385398Z",
     "iopub.status.busy": "2020-12-30T18:26:23.384504Z",
     "iopub.status.idle": "2020-12-30T18:26:23.386986Z",
     "shell.execute_reply": "2020-12-30T18:26:23.387430Z"
    },
    "papermill": {
     "duration": 0.021834,
     "end_time": "2020-12-30T18:26:23.387572",
     "exception": false,
     "start_time": "2020-12-30T18:26:23.365738",
     "status": "completed"
    },
    "tags": []
   },
   "outputs": [],
   "source": [
    "# display test scores and return result string and indexes of false samples\n",
    "def display_test_scores(test, pred):\n",
    "    str_out = \"\"\n",
    "    str_out += (\"TEST SCORES\\n\")\n",
    "    str_out += (\"\\n\")\n",
    "\n",
    "    #print accuracy\n",
    "    accuracy = accuracy_score(test, pred)\n",
    "    str_out += (\"ACCURACY: {:.4f}\\n\".format(accuracy))\n",
    "    str_out += (\"\\n\")\n",
    "\n",
    "\n",
    "    #print confusion matrix\n",
    "    str_out += (\"CONFUSION MATRIX:\\n\")\n",
    "    conf_mat = confusion_matrix(test, pred)\n",
    "    str_out += (\"{}\".format(conf_mat))\n",
    "    str_out += (\"\\n\")\n",
    "    str_out += (\"\\n\")\n",
    "\n",
    "    #print FP, FN\n",
    "    str_out += (\"FALSE POSITIVES:\\n\")\n",
    "    fp = conf_mat[1][0]\n",
    "    pos_labels = conf_mat[1][0]+conf_mat[1][1]\n",
    "    str_out += (\"{} out of {} positive labels ({:.4f}%)\\n\".format(fp, pos_labels,fp/pos_labels))\n",
    "    str_out += (\"\\n\")\n",
    "\n",
    "    str_out += (\"FALSE NEGATIVES:\\n\")\n",
    "    fn = conf_mat[0][1]\n",
    "    neg_labels = conf_mat[0][1]+conf_mat[0][0]\n",
    "    str_out += (\"{} out of {} negative labels ({:.4f}%)\\n\".format(fn, neg_labels, fn/neg_labels))\n",
    "    str_out += (\"\\n\")\n",
    "\n",
    "    #print classification report\n",
    "    str_out += (\"PRECISION, RECALL, F1 scores:\\n\")\n",
    "    str_out += (\"{}\".format(classification_report(test, pred)))\n",
    "    \n",
    "    false_indexes = np.where(test != pred)\n",
    "    return str_out, false_indexes"
   ]
  },
  {
   "cell_type": "code",
   "execution_count": 3,
   "metadata": {
    "execution": {
     "iopub.execute_input": "2020-12-30T18:26:23.402992Z",
     "iopub.status.busy": "2020-12-30T18:26:23.402242Z",
     "iopub.status.idle": "2020-12-30T18:26:31.449871Z",
     "shell.execute_reply": "2020-12-30T18:26:31.450427Z"
    },
    "papermill": {
     "duration": 8.057042,
     "end_time": "2020-12-30T18:26:31.450585",
     "exception": false,
     "start_time": "2020-12-30T18:26:23.393543",
     "status": "completed"
    },
    "tags": []
   },
   "outputs": [],
   "source": [
    "################ not scaled dataset ###################\n",
    "df_original = pd.read_pickle('../input/rlddandmerged/merged_normalized_scaled.pkl')\n",
    "\n",
    "X = df_original.loc[:, [\"n_EAR\", \n",
    "                    \"n_MAR\", \"n_MOE\", \"n_EC\",\n",
    "                    \"n_LEB\", \"n_SOP\", \"PERCLOS\", \"CLOSENESS\"]]\n",
    "\n",
    "\n",
    "y = df_original.loc[:, \"DROWSINESS\"]\n",
    "y = y.map({0: 0, 0.5: 1, 1:2})\n",
    "df_original.loc[:, \"DROWSINESS\"] = y\n",
    "\n",
    "y = df_original.loc[:, \"DROWSINESS\"]\n",
    "\n",
    "\n",
    "X_train, X_test, y_train, y_test = train_test_split(X, y, test_size = 0.2, stratify = y)"
   ]
  },
  {
   "cell_type": "code",
   "execution_count": null,
   "metadata": {
    "papermill": {
     "duration": 0.00577,
     "end_time": "2020-12-30T18:26:31.462670",
     "exception": false,
     "start_time": "2020-12-30T18:26:31.456900",
     "status": "completed"
    },
    "tags": []
   },
   "outputs": [],
   "source": []
  },
  {
   "cell_type": "code",
   "execution_count": 4,
   "metadata": {
    "execution": {
     "iopub.execute_input": "2020-12-30T18:26:31.477962Z",
     "iopub.status.busy": "2020-12-30T18:26:31.477236Z",
     "iopub.status.idle": "2020-12-30T18:26:31.481751Z",
     "shell.execute_reply": "2020-12-30T18:26:31.482277Z"
    },
    "papermill": {
     "duration": 0.013755,
     "end_time": "2020-12-30T18:26:31.482421",
     "exception": false,
     "start_time": "2020-12-30T18:26:31.468666",
     "status": "completed"
    },
    "tags": []
   },
   "outputs": [],
   "source": [
    "# cross-validation with 5 splits\n",
    "cv = StratifiedShuffleSplit(n_splits=10, random_state = 42)\n",
    "\n",
    "# CART decision tree\n",
    "bagging = BaggingClassifier(random_state=0)\n",
    "\n",
    "# parameters \n",
    "parameters = {\n",
    "                #\"max_features\": [0.3, 1],\n",
    "                #\"max_samples\": [0.3, 1],\n",
    "                #\"n_estimators\": [10, 100]\n",
    "                }"
   ]
  },
  {
   "cell_type": "code",
   "execution_count": 5,
   "metadata": {
    "execution": {
     "iopub.execute_input": "2020-12-30T18:26:31.498384Z",
     "iopub.status.busy": "2020-12-30T18:26:31.497671Z",
     "iopub.status.idle": "2020-12-30T19:02:19.400671Z",
     "shell.execute_reply": "2020-12-30T19:02:19.399684Z"
    },
    "papermill": {
     "duration": 2147.912058,
     "end_time": "2020-12-30T19:02:19.400824",
     "exception": false,
     "start_time": "2020-12-30T18:26:31.488766",
     "status": "completed"
    },
    "tags": []
   },
   "outputs": [
    {
     "name": "stdout",
     "output_type": "stream",
     "text": [
      "The best parameters are {} with a score of 0.8268\n",
      "TEST SCORES\n",
      "\n",
      "ACCURACY: 0.8307\n",
      "\n",
      "CONFUSION MATRIX:\n",
      "[[212944  12761  24004]\n",
      " [ 22611 159980  15729]\n",
      " [ 32976  14356 227655]]\n",
      "\n",
      "FALSE POSITIVES:\n",
      "22611 out of 182591 positive labels (0.1238%)\n",
      "\n",
      "FALSE NEGATIVES:\n",
      "12761 out of 225705 negative labels (0.0565%)\n",
      "\n",
      "PRECISION, RECALL, F1 scores:\n",
      "              precision    recall  f1-score   support\n",
      "\n",
      "           0       0.79      0.85      0.82    249709\n",
      "           1       0.86      0.81      0.83    198320\n",
      "           2       0.85      0.83      0.84    274987\n",
      "\n",
      "    accuracy                           0.83    723016\n",
      "   macro avg       0.83      0.83      0.83    723016\n",
      "weighted avg       0.83      0.83      0.83    723016\n",
      "\n"
     ]
    }
   ],
   "source": [
    "# grid search for parameters\n",
    "grid = GridSearchCV(estimator=bagging, param_grid=parameters, cv=cv, n_jobs=-1)\n",
    "grid.fit(X_train, y_train)\n",
    "\n",
    "# print best scores\n",
    "print(\"The best parameters are %s with a score of %0.4f\"\n",
    "      % (grid.best_params_, grid.best_score_))\n",
    "\n",
    "# prediction results\n",
    "y_pred = grid.predict(X_test)\n",
    "\n",
    "# print accuracy metrics\n",
    "results, false = display_test_scores(y_test, y_pred)\n",
    "print(results)"
   ]
  },
  {
   "cell_type": "code",
   "execution_count": null,
   "metadata": {
    "papermill": {
     "duration": 0.006831,
     "end_time": "2020-12-30T19:02:19.414952",
     "exception": false,
     "start_time": "2020-12-30T19:02:19.408121",
     "status": "completed"
    },
    "tags": []
   },
   "outputs": [],
   "source": []
  }
 ],
 "metadata": {
  "kernelspec": {
   "display_name": "Python 3",
   "language": "python",
   "name": "python3"
  },
  "language_info": {
   "codemirror_mode": {
    "name": "ipython",
    "version": 3
   },
   "file_extension": ".py",
   "mimetype": "text/x-python",
   "name": "python",
   "nbconvert_exporter": "python",
   "pygments_lexer": "ipython3",
   "version": "3.7.6"
  },
  "papermill": {
   "duration": 2162.021769,
   "end_time": "2020-12-30T19:02:19.529270",
   "environment_variables": {},
   "exception": null,
   "input_path": "__notebook__.ipynb",
   "output_path": "__notebook__.ipynb",
   "parameters": {},
   "start_time": "2020-12-30T18:26:17.507501",
   "version": "2.1.0"
  }
 },
 "nbformat": 4,
 "nbformat_minor": 4
}
