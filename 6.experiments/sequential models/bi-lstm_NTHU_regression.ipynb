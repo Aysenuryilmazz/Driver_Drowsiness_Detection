{
 "cells": [
  {
   "cell_type": "code",
   "execution_count": 1,
   "metadata": {
    "_cell_guid": "b1076dfc-b9ad-4769-8c92-a6c4dae69d19",
    "_uuid": "8f2839f25d086af736a60e9eeb907d3b93b6e0e5",
    "execution": {
     "iopub.execute_input": "2021-01-18T22:37:35.111760Z",
     "iopub.status.busy": "2021-01-18T22:37:35.110954Z",
     "iopub.status.idle": "2021-01-18T22:37:40.123138Z",
     "shell.execute_reply": "2021-01-18T22:37:40.122517Z"
    },
    "papermill": {
     "duration": 5.028548,
     "end_time": "2021-01-18T22:37:40.123266",
     "exception": false,
     "start_time": "2021-01-18T22:37:35.094718",
     "status": "completed"
    },
    "tags": []
   },
   "outputs": [],
   "source": [
    "# multivariate multi-step stacked lstm example\n",
    "import numpy as np\n",
    "from numpy import array\n",
    "from numpy import hstack\n",
    "from keras.models import Sequential\n",
    "from keras.layers import LSTM\n",
    "from keras.layers import Dense\n",
    "from keras.layers import Bidirectional\n",
    "import pandas as pd\n",
    "import pickle as pkl\n",
    "from sklearn.metrics import mean_squared_error\n",
    "import tensorflow as tf"
   ]
  },
  {
   "cell_type": "code",
   "execution_count": 2,
   "metadata": {
    "_cell_guid": "79c7e3d0-c299-4dcb-8224-4455121ee9b0",
    "_uuid": "d629ff2d2480ee46fbb7e2d37f6b5fab8052498a",
    "execution": {
     "iopub.execute_input": "2021-01-18T22:37:40.146235Z",
     "iopub.status.busy": "2021-01-18T22:37:40.145570Z",
     "iopub.status.idle": "2021-01-18T22:38:37.123391Z",
     "shell.execute_reply": "2021-01-18T22:38:37.121801Z"
    },
    "papermill": {
     "duration": 56.991383,
     "end_time": "2021-01-18T22:38:37.123578",
     "exception": false,
     "start_time": "2021-01-18T22:37:40.132195",
     "status": "completed"
    },
    "tags": []
   },
   "outputs": [],
   "source": [
    "nthu_train_X = pkl.load(open(\"../input/ddd-data-preparation-nthu/nthu_train_X\", 'rb'))\n",
    "nthu_train_y = pkl.load(open(\"../input/ddd-data-preparation-nthu/nthu_train_y\", 'rb'))\n",
    "\n",
    "nthu_test_X = pkl.load(open(\"../input/ddd-data-preparation-nthu/nthu_test_X\", 'rb'))\n",
    "nthu_test_y = pkl.load(open(\"../input/ddd-data-preparation-nthu/nthu_test_y\", 'rb'))"
   ]
  },
  {
   "cell_type": "code",
   "execution_count": 3,
   "metadata": {
    "execution": {
     "iopub.execute_input": "2021-01-18T22:38:37.145886Z",
     "iopub.status.busy": "2021-01-18T22:38:37.144958Z",
     "iopub.status.idle": "2021-01-18T22:38:37.194262Z",
     "shell.execute_reply": "2021-01-18T22:38:37.193734Z"
    },
    "papermill": {
     "duration": 0.06189,
     "end_time": "2021-01-18T22:38:37.194362",
     "exception": false,
     "start_time": "2021-01-18T22:38:37.132472",
     "status": "completed"
    },
    "tags": []
   },
   "outputs": [],
   "source": [
    "nthu_train_y = nthu_train_y.mean(axis=1)\n",
    "nthu_test_y = nthu_test_y.mean(axis=1)"
   ]
  },
  {
   "cell_type": "code",
   "execution_count": 4,
   "metadata": {
    "execution": {
     "iopub.execute_input": "2021-01-18T22:38:39.721417Z",
     "iopub.status.busy": "2021-01-18T22:38:39.720630Z",
     "iopub.status.idle": "2021-01-18T22:38:40.064265Z",
     "shell.execute_reply": "2021-01-18T22:38:40.063722Z"
    },
    "papermill": {
     "duration": 2.861615,
     "end_time": "2021-01-18T22:38:40.064389",
     "exception": false,
     "start_time": "2021-01-18T22:38:37.202774",
     "status": "completed"
    },
    "tags": []
   },
   "outputs": [],
   "source": [
    "nthu_train_y_scaled = tf.keras.activations.sigmoid(tf.constant(nthu_train_y, dtype = tf.float32))\n",
    "nthu_train_y_scaled = nthu_train_y_scaled.numpy()"
   ]
  },
  {
   "cell_type": "code",
   "execution_count": 5,
   "metadata": {
    "execution": {
     "iopub.execute_input": "2021-01-18T22:38:40.089058Z",
     "iopub.status.busy": "2021-01-18T22:38:40.087797Z",
     "iopub.status.idle": "2021-01-18T22:38:40.091629Z",
     "shell.execute_reply": "2021-01-18T22:38:40.091157Z"
    },
    "papermill": {
     "duration": 0.017275,
     "end_time": "2021-01-18T22:38:40.091722",
     "exception": false,
     "start_time": "2021-01-18T22:38:40.074447",
     "status": "completed"
    },
    "tags": []
   },
   "outputs": [],
   "source": [
    "nthu_test_y_scaled = tf.keras.activations.sigmoid(tf.constant(nthu_test_y, dtype = tf.float32))\n",
    "nthu_test_y_scaled = nthu_test_y_scaled.numpy()"
   ]
  },
  {
   "cell_type": "code",
   "execution_count": 6,
   "metadata": {
    "execution": {
     "iopub.execute_input": "2021-01-18T22:38:40.115079Z",
     "iopub.status.busy": "2021-01-18T22:38:40.114509Z",
     "iopub.status.idle": "2021-01-19T04:30:06.219620Z",
     "shell.execute_reply": "2021-01-19T04:30:06.219078Z"
    },
    "papermill": {
     "duration": 21086.11964,
     "end_time": "2021-01-19T04:30:06.219730",
     "exception": false,
     "start_time": "2021-01-18T22:38:40.100090",
     "status": "completed"
    },
    "tags": []
   },
   "outputs": [
    {
     "name": "stdout",
     "output_type": "stream",
     "text": [
      "Epoch 1/32\n",
      "52620/52620 - 658s - loss: 0.0184\n",
      "Epoch 2/32\n",
      "52620/52620 - 661s - loss: 0.0098\n",
      "Epoch 3/32\n",
      "52620/52620 - 658s - loss: 0.0060\n",
      "Epoch 4/32\n",
      "52620/52620 - 657s - loss: 0.0043\n",
      "Epoch 5/32\n",
      "52620/52620 - 661s - loss: 0.0029\n",
      "Epoch 6/32\n",
      "52620/52620 - 657s - loss: 0.0022\n",
      "Epoch 7/32\n",
      "52620/52620 - 656s - loss: 0.0016\n",
      "Epoch 8/32\n",
      "52620/52620 - 656s - loss: 0.0013\n",
      "Epoch 9/32\n",
      "52620/52620 - 657s - loss: 0.0011\n",
      "Epoch 10/32\n",
      "52620/52620 - 665s - loss: 9.0502e-04\n",
      "Epoch 11/32\n",
      "52620/52620 - 663s - loss: 7.9550e-04\n",
      "Epoch 12/32\n",
      "52620/52620 - 660s - loss: 7.0833e-04\n",
      "Epoch 13/32\n",
      "52620/52620 - 656s - loss: 6.7532e-04\n",
      "Epoch 14/32\n",
      "52620/52620 - 656s - loss: 6.2202e-04\n",
      "Epoch 15/32\n",
      "52620/52620 - 656s - loss: 5.3928e-04\n",
      "Epoch 16/32\n",
      "52620/52620 - 660s - loss: 5.2704e-04\n",
      "Epoch 17/32\n",
      "52620/52620 - 657s - loss: 4.7184e-04\n",
      "Epoch 18/32\n",
      "52620/52620 - 660s - loss: 4.5117e-04\n",
      "Epoch 19/32\n",
      "52620/52620 - 663s - loss: 4.3531e-04\n",
      "Epoch 20/32\n",
      "52620/52620 - 664s - loss: 4.3302e-04\n",
      "Epoch 21/32\n",
      "52620/52620 - 657s - loss: 0.0017\n",
      "Epoch 22/32\n",
      "52620/52620 - 657s - loss: 9.3178e-04\n",
      "Epoch 23/32\n",
      "52620/52620 - 655s - loss: 4.3142e-04\n",
      "Epoch 24/32\n",
      "52620/52620 - 656s - loss: 3.6624e-04\n",
      "Epoch 25/32\n",
      "52620/52620 - 656s - loss: 3.8981e-04\n",
      "Epoch 26/32\n",
      "52620/52620 - 656s - loss: 3.5829e-04\n",
      "Epoch 27/32\n",
      "52620/52620 - 656s - loss: 0.0037\n",
      "Epoch 28/32\n",
      "52620/52620 - 658s - loss: 0.0052\n",
      "Epoch 29/32\n",
      "52620/52620 - 662s - loss: 0.0140\n",
      "Epoch 30/32\n",
      "52620/52620 - 661s - loss: 0.0126\n",
      "Epoch 31/32\n",
      "52620/52620 - 659s - loss: 0.0107\n",
      "Epoch 32/32\n",
      "52620/52620 - 660s - loss: 0.0151\n"
     ]
    },
    {
     "data": {
      "text/plain": [
       "<tensorflow.python.keras.callbacks.History at 0x7fd95a171e50>"
      ]
     },
     "execution_count": 6,
     "metadata": {},
     "output_type": "execute_result"
    }
   ],
   "source": [
    "n_steps_in, n_features, n_steps_out= 150, 8, 1\n",
    "\n",
    "# define model\n",
    "model = Sequential()\n",
    "model.add(Bidirectional(LSTM(100, activation='tanh'), input_shape=(n_steps_in, n_features)))\n",
    "model.add(Dense(n_steps_out))\n",
    "model.compile(optimizer='adam', loss='mse')\n",
    "# fit model\n",
    "model.fit(nthu_train_X, np.ravel(nthu_train_y_scaled), batch_size=8, epochs=32, verbose=2)"
   ]
  },
  {
   "cell_type": "code",
   "execution_count": 7,
   "metadata": {
    "execution": {
     "iopub.execute_input": "2021-01-19T04:30:06.285255Z",
     "iopub.status.busy": "2021-01-19T04:30:06.284640Z",
     "iopub.status.idle": "2021-01-19T04:30:33.825810Z",
     "shell.execute_reply": "2021-01-19T04:30:33.825055Z"
    },
    "papermill": {
     "duration": 27.575774,
     "end_time": "2021-01-19T04:30:33.825947",
     "exception": false,
     "start_time": "2021-01-19T04:30:06.250173",
     "status": "completed"
    },
    "tags": []
   },
   "outputs": [
    {
     "name": "stdout",
     "output_type": "stream",
     "text": [
      "4101/4101 [==============================] - 25s 6ms/step\n",
      "[[0.7423377 ]\n",
      " [0.6883625 ]\n",
      " [0.7156741 ]\n",
      " ...\n",
      " [0.76782435]\n",
      " [0.77155197]\n",
      " [0.6880797 ]]\n"
     ]
    }
   ],
   "source": [
    "# demonstrate prediction\n",
    "yhat = model.predict(nthu_test_X, verbose=1)\n",
    "print(yhat)"
   ]
  },
  {
   "cell_type": "code",
   "execution_count": 8,
   "metadata": {
    "execution": {
     "iopub.execute_input": "2021-01-19T04:30:34.231493Z",
     "iopub.status.busy": "2021-01-19T04:30:34.230687Z",
     "iopub.status.idle": "2021-01-19T04:30:34.234880Z",
     "shell.execute_reply": "2021-01-19T04:30:34.234347Z"
    },
    "papermill": {
     "duration": 0.20722,
     "end_time": "2021-01-19T04:30:34.235006",
     "exception": false,
     "start_time": "2021-01-19T04:30:34.027786",
     "status": "completed"
    },
    "tags": []
   },
   "outputs": [],
   "source": [
    "def logit(x):\n",
    "    \"\"\" Computes the logit function, i.e. the logistic sigmoid inverse. \"\"\"\n",
    "    if (x<=0.5):\n",
    "        return float(0)\n",
    "    if (x>=0.880797):\n",
    "        return float(2)\n",
    "    return float(- tf.math.log(1. / x - 1.))"
   ]
  },
  {
   "cell_type": "code",
   "execution_count": 9,
   "metadata": {
    "execution": {
     "iopub.execute_input": "2021-01-19T04:30:34.659973Z",
     "iopub.status.busy": "2021-01-19T04:30:34.659298Z",
     "iopub.status.idle": "2021-01-19T04:31:05.205802Z",
     "shell.execute_reply": "2021-01-19T04:31:05.204653Z"
    },
    "papermill": {
     "duration": 30.751736,
     "end_time": "2021-01-19T04:31:05.205961",
     "exception": false,
     "start_time": "2021-01-19T04:30:34.454225",
     "status": "completed"
    },
    "tags": []
   },
   "outputs": [],
   "source": [
    "yhat_inversed = np.array([logit(x) for x in yhat])"
   ]
  },
  {
   "cell_type": "code",
   "execution_count": 10,
   "metadata": {
    "execution": {
     "iopub.execute_input": "2021-01-19T04:31:05.604958Z",
     "iopub.status.busy": "2021-01-19T04:31:05.604159Z",
     "iopub.status.idle": "2021-01-19T04:31:05.619596Z",
     "shell.execute_reply": "2021-01-19T04:31:05.619069Z"
    },
    "papermill": {
     "duration": 0.214542,
     "end_time": "2021-01-19T04:31:05.619695",
     "exception": false,
     "start_time": "2021-01-19T04:31:05.405153",
     "status": "completed"
    },
    "tags": []
   },
   "outputs": [
    {
     "data": {
      "text/plain": [
       "0.9583501190462538"
      ]
     },
     "execution_count": 10,
     "metadata": {},
     "output_type": "execute_result"
    }
   ],
   "source": [
    "mean_squared_error(yhat_inversed,nthu_test_y)"
   ]
  },
  {
   "cell_type": "code",
   "execution_count": 11,
   "metadata": {
    "execution": {
     "iopub.execute_input": "2021-01-19T04:31:06.059881Z",
     "iopub.status.busy": "2021-01-19T04:31:06.045450Z",
     "iopub.status.idle": "2021-01-19T04:31:06.133251Z",
     "shell.execute_reply": "2021-01-19T04:31:06.132630Z"
    },
    "papermill": {
     "duration": 0.312538,
     "end_time": "2021-01-19T04:31:06.133376",
     "exception": false,
     "start_time": "2021-01-19T04:31:05.820838",
     "status": "completed"
    },
    "tags": []
   },
   "outputs": [],
   "source": [
    "model.save(\"lstm_bidirectional.h5\")"
   ]
  }
 ],
 "metadata": {
  "kernelspec": {
   "display_name": "Python 3",
   "language": "python",
   "name": "python3"
  },
  "language_info": {
   "codemirror_mode": {
    "name": "ipython",
    "version": 3
   },
   "file_extension": ".py",
   "mimetype": "text/x-python",
   "name": "python",
   "nbconvert_exporter": "python",
   "pygments_lexer": "ipython3",
   "version": "3.7.6"
  },
  "papermill": {
   "duration": 21216.875675,
   "end_time": "2021-01-19T04:31:07.762468",
   "environment_variables": {},
   "exception": null,
   "input_path": "__notebook__.ipynb",
   "output_path": "__notebook__.ipynb",
   "parameters": {},
   "start_time": "2021-01-18T22:37:30.886793",
   "version": "2.1.0"
  }
 },
 "nbformat": 4,
 "nbformat_minor": 4
}
