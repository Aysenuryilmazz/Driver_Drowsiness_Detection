{
 "cells": [
  {
   "cell_type": "code",
   "execution_count": 1,
   "metadata": {
    "_cell_guid": "b1076dfc-b9ad-4769-8c92-a6c4dae69d19",
    "_uuid": "8f2839f25d086af736a60e9eeb907d3b93b6e0e5",
    "execution": {
     "iopub.execute_input": "2021-02-11T16:12:14.132600Z",
     "iopub.status.busy": "2021-02-11T16:12:14.131861Z",
     "iopub.status.idle": "2021-02-11T16:12:15.634716Z",
     "shell.execute_reply": "2021-02-11T16:12:15.634281Z"
    },
    "papermill": {
     "duration": 1.519665,
     "end_time": "2021-02-11T16:12:15.634836",
     "exception": false,
     "start_time": "2021-02-11T16:12:14.115171",
     "status": "completed"
    },
    "tags": []
   },
   "outputs": [],
   "source": [
    "import os \n",
    "import pandas as pd\n",
    "import numpy as np\n",
    "from sklearn.model_selection import train_test_split\n",
    "from sklearn.metrics import accuracy_score, roc_curve, confusion_matrix, classification_report, roc_auc_score"
   ]
  },
  {
   "cell_type": "code",
   "execution_count": 2,
   "metadata": {
    "_cell_guid": "79c7e3d0-c299-4dcb-8224-4455121ee9b0",
    "_uuid": "d629ff2d2480ee46fbb7e2d37f6b5fab8052498a",
    "execution": {
     "iopub.execute_input": "2021-02-11T16:12:15.668636Z",
     "iopub.status.busy": "2021-02-11T16:12:15.662751Z",
     "iopub.status.idle": "2021-02-11T16:12:15.673662Z",
     "shell.execute_reply": "2021-02-11T16:12:15.674208Z"
    },
    "papermill": {
     "duration": 0.031436,
     "end_time": "2021-02-11T16:12:15.674374",
     "exception": false,
     "start_time": "2021-02-11T16:12:15.642938",
     "status": "completed"
    },
    "tags": []
   },
   "outputs": [],
   "source": [
    "# display test scores and return result string and indexes of false samples\n",
    "def display_test_scores(test, pred):\n",
    "    str_out = \"\"\n",
    "    str_out += (\"TEST SCORES\\n\")\n",
    "    str_out += (\"\\n\")\n",
    "\n",
    "    #print accuracy\n",
    "    accuracy = accuracy_score(test, pred)\n",
    "    str_out += (\"ACCURACY: {:.4f}\\n\".format(accuracy))\n",
    "    str_out += (\"\\n\")\n",
    "    \n",
    "    #print confusion matrix\n",
    "    str_out += (\"CONFUSION MATRIX:\\n\")\n",
    "    conf_mat = confusion_matrix(test, pred)\n",
    "    str_out += (\"{}\".format(conf_mat))\n",
    "    str_out += (\"\\n\")\n",
    "    str_out += (\"\\n\")\n",
    "\n",
    "    #print FP, FN\n",
    "    str_out += (\"FALSE POSITIVES:\\n\")\n",
    "    fp = conf_mat[1][0]\n",
    "    pos_labels = conf_mat[1][0]+conf_mat[1][1]\n",
    "    str_out += (\"{} out of {} positive labels ({:.4f}%)\\n\".format(fp, pos_labels,fp/pos_labels))\n",
    "    str_out += (\"\\n\")\n",
    "\n",
    "    str_out += (\"FALSE NEGATIVES:\\n\")\n",
    "    fn = conf_mat[0][1]\n",
    "    neg_labels = conf_mat[0][1]+conf_mat[0][0]\n",
    "    str_out += (\"{} out of {} negative labels ({:.4f}%)\\n\".format(fn, neg_labels, fn/neg_labels))\n",
    "    str_out += (\"\\n\")\n",
    "\n",
    "    \n",
    "    #print classification report\n",
    "    str_out += (\"PRECISION, RECALL, F1 scores:\\n\")\n",
    "    str_out += (\"{}\".format(classification_report(test, pred)))\n",
    "    \n",
    "    false_indexes = np.where(test != pred)\n",
    "    return str_out, false_indexes"
   ]
  },
  {
   "cell_type": "code",
   "execution_count": 3,
   "metadata": {
    "execution": {
     "iopub.execute_input": "2021-02-11T16:12:15.699652Z",
     "iopub.status.busy": "2021-02-11T16:12:15.698863Z",
     "iopub.status.idle": "2021-02-11T16:12:25.761404Z",
     "shell.execute_reply": "2021-02-11T16:12:25.762126Z"
    },
    "papermill": {
     "duration": 10.079364,
     "end_time": "2021-02-11T16:12:25.762317",
     "exception": false,
     "start_time": "2021-02-11T16:12:15.682953",
     "status": "completed"
    },
    "tags": []
   },
   "outputs": [
    {
     "name": "stderr",
     "output_type": "stream",
     "text": [
      "/opt/conda/lib/python3.7/site-packages/sklearn/metrics/_classification.py:1221: UndefinedMetricWarning: Precision and F-score are ill-defined and being set to 0.0 in labels with no predicted samples. Use `zero_division` parameter to control this behavior.\n",
      "  _warn_prf(average, modifier, msg_start, len(result))\n"
     ]
    },
    {
     "name": "stdout",
     "output_type": "stream",
     "text": [
      "TEST SCORES\n",
      "\n",
      "ACCURACY: 0.4271\n",
      "\n",
      "CONFUSION MATRIX:\n",
      "[[626698      0 367724]\n",
      " [497122      0 494477]\n",
      " [359592      0 654870]]\n",
      "\n",
      "FALSE POSITIVES:\n",
      "497122 out of 497122 positive labels (1.0000%)\n",
      "\n",
      "FALSE NEGATIVES:\n",
      "0 out of 626698 negative labels (0.0000%)\n",
      "\n",
      "PRECISION, RECALL, F1 scores:\n",
      "              precision    recall  f1-score   support\n",
      "\n",
      "           0       0.42      0.63      0.51    994422\n",
      "           1       0.00      0.00      0.00    991599\n",
      "           2       0.43      0.65      0.52   1014462\n",
      "\n",
      "    accuracy                           0.43   3000483\n",
      "   macro avg       0.28      0.43      0.34   3000483\n",
      "weighted avg       0.29      0.43      0.34   3000483\n",
      "\n"
     ]
    }
   ],
   "source": [
    "df_rldd = pd.read_pickle('../input/rlddandmerged/rldd_normalized_scaled.pkl')\n",
    "\n",
    "X = df_rldd.loc[:, [\"n_EAR\", \n",
    "                    \"n_MAR\", \"n_MOE\", \"n_EC\",\n",
    "                    \"n_LEB\", \"n_SOP\", \"PERCLOS\", \"CLOSENESS\"]]\n",
    "\n",
    "y = df_rldd.loc[:, \"DROWSINESS\"].map({0: 0, 0.5: 1, 1:2})\n",
    "\n",
    "\n",
    "y_pred = X[\"n_EAR\"]<0.23\n",
    "y_pred = y_pred.astype(int)*2\n",
    "results, false = display_test_scores(y, y_pred)\n",
    "print(results)"
   ]
  },
  {
   "cell_type": "code",
   "execution_count": 4,
   "metadata": {
    "execution": {
     "iopub.execute_input": "2021-02-11T16:12:25.788210Z",
     "iopub.status.busy": "2021-02-11T16:12:25.787539Z",
     "iopub.status.idle": "2021-02-11T16:12:25.815080Z",
     "shell.execute_reply": "2021-02-11T16:12:25.815649Z"
    },
    "papermill": {
     "duration": 0.04259,
     "end_time": "2021-02-11T16:12:25.815828",
     "exception": false,
     "start_time": "2021-02-11T16:12:25.773238",
     "status": "completed"
    },
    "tags": []
   },
   "outputs": [
    {
     "data": {
      "text/plain": [
       "array([0, 2, 1])"
      ]
     },
     "execution_count": 4,
     "metadata": {},
     "output_type": "execute_result"
    }
   ],
   "source": [
    "y.unique()"
   ]
  },
  {
   "cell_type": "code",
   "execution_count": 5,
   "metadata": {
    "execution": {
     "iopub.execute_input": "2021-02-11T16:12:25.840728Z",
     "iopub.status.busy": "2021-02-11T16:12:25.839436Z",
     "iopub.status.idle": "2021-02-11T16:12:37.435422Z",
     "shell.execute_reply": "2021-02-11T16:12:37.436039Z"
    },
    "papermill": {
     "duration": 11.609886,
     "end_time": "2021-02-11T16:12:37.436164",
     "exception": false,
     "start_time": "2021-02-11T16:12:25.826278",
     "status": "completed"
    },
    "tags": []
   },
   "outputs": [
    {
     "name": "stderr",
     "output_type": "stream",
     "text": [
      "/opt/conda/lib/python3.7/site-packages/sklearn/metrics/_classification.py:1221: UndefinedMetricWarning: Precision and F-score are ill-defined and being set to 0.0 in labels with no predicted samples. Use `zero_division` parameter to control this behavior.\n",
      "  _warn_prf(average, modifier, msg_start, len(result))\n"
     ]
    },
    {
     "name": "stdout",
     "output_type": "stream",
     "text": [
      "TEST SCORES\n",
      "\n",
      "ACCURACY: 0.4570\n",
      "\n",
      "CONFUSION MATRIX:\n",
      "[[761753      0 486791]\n",
      " [491025      0 500574]\n",
      " [484538      0 890395]]\n",
      "\n",
      "FALSE POSITIVES:\n",
      "491025 out of 491025 positive labels (1.0000%)\n",
      "\n",
      "FALSE NEGATIVES:\n",
      "0 out of 761753 negative labels (0.0000%)\n",
      "\n",
      "PRECISION, RECALL, F1 scores:\n",
      "              precision    recall  f1-score   support\n",
      "\n",
      "           0       0.44      0.61      0.51   1248544\n",
      "           1       0.00      0.00      0.00    991599\n",
      "           2       0.47      0.65      0.55   1374933\n",
      "\n",
      "    accuracy                           0.46   3615076\n",
      "   macro avg       0.30      0.42      0.35   3615076\n",
      "weighted avg       0.33      0.46      0.38   3615076\n",
      "\n"
     ]
    }
   ],
   "source": [
    "df_merged = pd.read_pickle('../input/rlddandmerged/merged_normalized_scaled.pkl')\n",
    "\n",
    "X2 = df_merged.loc[:, [\"n_EAR\", \n",
    "                    \"n_MAR\", \"n_MOE\", \"n_EC\",\n",
    "                    \"n_LEB\", \"n_SOP\", \"PERCLOS\", \"CLOSENESS\"]]\n",
    "\n",
    "y2 = df_merged.loc[:, \"DROWSINESS\"].map({0: 0, 0.5: 1, 1:2})\n",
    "\n",
    "y_pred2 = X2[\"n_EAR\"]<0.23\n",
    "y_pred2 = y_pred2.astype(int)*2\n",
    "results2, false2 = display_test_scores(y2, y_pred2)\n",
    "print(results2)"
   ]
  },
  {
   "cell_type": "code",
   "execution_count": 6,
   "metadata": {
    "execution": {
     "iopub.execute_input": "2021-02-11T16:12:37.461099Z",
     "iopub.status.busy": "2021-02-11T16:12:37.460614Z",
     "iopub.status.idle": "2021-02-11T16:12:37.484308Z",
     "shell.execute_reply": "2021-02-11T16:12:37.483539Z"
    },
    "papermill": {
     "duration": 0.039428,
     "end_time": "2021-02-11T16:12:37.484431",
     "exception": false,
     "start_time": "2021-02-11T16:12:37.445003",
     "status": "completed"
    },
    "tags": []
   },
   "outputs": [
    {
     "data": {
      "text/plain": [
       "array([0, 2, 1])"
      ]
     },
     "execution_count": 6,
     "metadata": {},
     "output_type": "execute_result"
    }
   ],
   "source": [
    "y2.unique()"
   ]
  },
  {
   "cell_type": "code",
   "execution_count": 7,
   "metadata": {
    "execution": {
     "iopub.execute_input": "2021-02-11T16:12:37.515962Z",
     "iopub.status.busy": "2021-02-11T16:12:37.515222Z",
     "iopub.status.idle": "2021-02-11T16:12:39.821715Z",
     "shell.execute_reply": "2021-02-11T16:12:39.820527Z"
    },
    "papermill": {
     "duration": 2.326984,
     "end_time": "2021-02-11T16:12:39.821990",
     "exception": false,
     "start_time": "2021-02-11T16:12:37.495006",
     "status": "completed"
    },
    "tags": []
   },
   "outputs": [
    {
     "name": "stdout",
     "output_type": "stream",
     "text": [
      "TEST SCORES\n",
      "\n",
      "ACCURACY: 0.6073\n",
      "\n",
      "CONFUSION MATRIX:\n",
      "[[137140 116982]\n",
      " [124342 236129]]\n",
      "\n",
      "FALSE POSITIVES:\n",
      "124342 out of 360471 positive labels (0.3449%)\n",
      "\n",
      "FALSE NEGATIVES:\n",
      "116982 out of 254122 negative labels (0.4603%)\n",
      "\n",
      "PRECISION, RECALL, F1 scores:\n",
      "              precision    recall  f1-score   support\n",
      "\n",
      "           0       0.52      0.54      0.53    254122\n",
      "           2       0.67      0.66      0.66    360471\n",
      "\n",
      "    accuracy                           0.61    614593\n",
      "   macro avg       0.60      0.60      0.60    614593\n",
      "weighted avg       0.61      0.61      0.61    614593\n",
      "\n"
     ]
    }
   ],
   "source": [
    "df_nthu = pd.read_pickle('../input/ddd-final-datasets/final_step2_scaled.pkl')\n",
    "\n",
    "X3 = df_nthu.loc[:, [\"n_EAR\", \n",
    "                    \"n_MAR\", \"n_MOE\", \"n_EC\",\n",
    "                    \"n_LEB\", \"n_SOP\", \"PERCLOS\", \"CLOSENESS\"]]\n",
    "\n",
    "y3 = df_nthu.loc[:, \"DROWSINESS\"].map({0: 0, 1:2})\n",
    "\n",
    "y_pred3 = X3[\"n_EAR\"]<0.23\n",
    "y_pred3 = y_pred3.astype(int)*2\n",
    "results3, false3 = display_test_scores(y3, y_pred3)\n",
    "print(results3)"
   ]
  },
  {
   "cell_type": "code",
   "execution_count": 8,
   "metadata": {
    "execution": {
     "iopub.execute_input": "2021-02-11T16:12:39.854258Z",
     "iopub.status.busy": "2021-02-11T16:12:39.853482Z",
     "iopub.status.idle": "2021-02-11T16:12:39.865528Z",
     "shell.execute_reply": "2021-02-11T16:12:39.865034Z"
    },
    "papermill": {
     "duration": 0.029402,
     "end_time": "2021-02-11T16:12:39.865626",
     "exception": false,
     "start_time": "2021-02-11T16:12:39.836224",
     "status": "completed"
    },
    "tags": []
   },
   "outputs": [
    {
     "data": {
      "text/plain": [
       "array([0, 2])"
      ]
     },
     "execution_count": 8,
     "metadata": {},
     "output_type": "execute_result"
    }
   ],
   "source": [
    "y3.unique()"
   ]
  },
  {
   "cell_type": "code",
   "execution_count": null,
   "metadata": {
    "papermill": {
     "duration": 0.007801,
     "end_time": "2021-02-11T16:12:39.881713",
     "exception": false,
     "start_time": "2021-02-11T16:12:39.873912",
     "status": "completed"
    },
    "tags": []
   },
   "outputs": [],
   "source": [
    "\n",
    "    "
   ]
  }
 ],
 "metadata": {
  "kernelspec": {
   "display_name": "Python 3",
   "language": "python",
   "name": "python3"
  },
  "language_info": {
   "codemirror_mode": {
    "name": "ipython",
    "version": 3
   },
   "file_extension": ".py",
   "mimetype": "text/x-python",
   "name": "python",
   "nbconvert_exporter": "python",
   "pygments_lexer": "ipython3",
   "version": "3.7.6"
  },
  "papermill": {
   "duration": 33.392739,
   "end_time": "2021-02-11T16:12:40.983584",
   "environment_variables": {},
   "exception": null,
   "input_path": "__notebook__.ipynb",
   "output_path": "__notebook__.ipynb",
   "parameters": {},
   "start_time": "2021-02-11T16:12:07.590845",
   "version": "2.1.0"
  }
 },
 "nbformat": 4,
 "nbformat_minor": 4
}
