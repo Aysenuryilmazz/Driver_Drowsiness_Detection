{
 "cells": [
  {
   "cell_type": "code",
   "execution_count": 1,
   "metadata": {
    "_cell_guid": "b1076dfc-b9ad-4769-8c92-a6c4dae69d19",
    "_uuid": "8f2839f25d086af736a60e9eeb907d3b93b6e0e5",
    "execution": {
     "iopub.execute_input": "2021-01-02T13:45:35.955395Z",
     "iopub.status.busy": "2021-01-02T13:45:35.954564Z",
     "iopub.status.idle": "2021-01-02T13:45:37.156116Z",
     "shell.execute_reply": "2021-01-02T13:45:37.155450Z"
    },
    "papermill": {
     "duration": 1.213366,
     "end_time": "2021-01-02T13:45:37.156241",
     "exception": false,
     "start_time": "2021-01-02T13:45:35.942875",
     "status": "completed"
    },
    "tags": []
   },
   "outputs": [],
   "source": [
    "import os \n",
    "import pandas as pd\n",
    "import numpy as np\n",
    "\n",
    "# import sklearn methods \n",
    "from sklearn.metrics import accuracy_score, roc_curve, confusion_matrix, classification_report, roc_auc_score\n",
    "from sklearn.model_selection import train_test_split\n",
    "from sklearn.model_selection import StratifiedShuffleSplit\n",
    "from sklearn.model_selection import GridSearchCV\n",
    "import sys \n",
    "from sklearn.model_selection import learning_curve\n",
    "from sklearn.datasets import make_classification\n",
    "from sklearn.tree import DecisionTreeClassifier"
   ]
  },
  {
   "cell_type": "code",
   "execution_count": 2,
   "metadata": {
    "_cell_guid": "79c7e3d0-c299-4dcb-8224-4455121ee9b0",
    "_uuid": "d629ff2d2480ee46fbb7e2d37f6b5fab8052498a",
    "collapsed": true,
    "execution": {
     "iopub.execute_input": "2021-01-02T13:45:37.179763Z",
     "iopub.status.busy": "2021-01-02T13:45:37.179100Z",
     "iopub.status.idle": "2021-01-02T13:45:37.182455Z",
     "shell.execute_reply": "2021-01-02T13:45:37.181809Z"
    },
    "papermill": {
     "duration": 0.021757,
     "end_time": "2021-01-02T13:45:37.182560",
     "exception": false,
     "start_time": "2021-01-02T13:45:37.160803",
     "status": "completed"
    },
    "tags": []
   },
   "outputs": [],
   "source": [
    "# display test scores and return result string and indexes of false samples\n",
    "def display_test_scores(test, pred):\n",
    "    str_out = \"\"\n",
    "    str_out += (\"TEST SCORES\\n\")\n",
    "    str_out += (\"\\n\")\n",
    "\n",
    "    #print accuracy\n",
    "    accuracy = accuracy_score(test, pred)\n",
    "    str_out += (\"ACCURACY: {:.4f}\\n\".format(accuracy))\n",
    "    str_out += (\"\\n\")\n",
    "    \n",
    "    #print confusion matrix\n",
    "    str_out += (\"CONFUSION MATRIX:\\n\")\n",
    "    conf_mat = confusion_matrix(test, pred)\n",
    "    str_out += (\"{}\".format(conf_mat))\n",
    "    str_out += (\"\\n\")\n",
    "    str_out += (\"\\n\")\n",
    "\n",
    "    #print FP, FN\n",
    "    str_out += (\"FALSE POSITIVES:\\n\")\n",
    "    fp = conf_mat[1][0]\n",
    "    pos_labels = conf_mat[1][0]+conf_mat[1][1]\n",
    "    str_out += (\"{} out of {} positive labels ({:.4f}%)\\n\".format(fp, pos_labels,fp/pos_labels))\n",
    "    str_out += (\"\\n\")\n",
    "\n",
    "    str_out += (\"FALSE NEGATIVES:\\n\")\n",
    "    fn = conf_mat[0][1]\n",
    "    neg_labels = conf_mat[0][1]+conf_mat[0][0]\n",
    "    str_out += (\"{} out of {} negative labels ({:.4f}%)\\n\".format(fn, neg_labels, fn/neg_labels))\n",
    "    str_out += (\"\\n\")\n",
    "\n",
    "    \n",
    "    #print classification report\n",
    "    str_out += (\"PRECISION, RECALL, F1 scores:\\n\")\n",
    "    str_out += (\"{}\".format(classification_report(test, pred)))\n",
    "    \n",
    "    false_indexes = np.where(test != pred)\n",
    "    return str_out, false_indexes"
   ]
  },
  {
   "cell_type": "markdown",
   "metadata": {
    "papermill": {
     "duration": 0.00564,
     "end_time": "2021-01-02T13:45:37.192531",
     "exception": false,
     "start_time": "2021-01-02T13:45:37.186891",
     "status": "completed"
    },
    "tags": []
   },
   "source": [
    "# RLDD DATA"
   ]
  },
  {
   "cell_type": "code",
   "execution_count": 3,
   "metadata": {
    "execution": {
     "iopub.execute_input": "2021-01-02T13:45:37.213142Z",
     "iopub.status.busy": "2021-01-02T13:45:37.212278Z",
     "iopub.status.idle": "2021-01-02T14:06:12.861269Z",
     "shell.execute_reply": "2021-01-02T14:06:12.862710Z"
    },
    "papermill": {
     "duration": 1235.666328,
     "end_time": "2021-01-02T14:06:12.863004",
     "exception": false,
     "start_time": "2021-01-02T13:45:37.196676",
     "status": "completed"
    },
    "tags": []
   },
   "outputs": [
    {
     "name": "stdout",
     "output_type": "stream",
     "text": [
      "The best parameters are {'class_weight': None, 'criterion': 'entropy', 'splitter': 'best'} with a score of 0.8247\n",
      "TEST SCORES\n",
      "\n",
      "ACCURACY: 0.8288\n",
      "\n",
      "CONFUSION MATRIX:\n",
      "[[164276  19652  14956]\n",
      " [ 19551 161789  16980]\n",
      " [ 14785  16821 171287]]\n",
      "\n",
      "FALSE POSITIVES:\n",
      "19551 out of 181340 positive labels (0.1078%)\n",
      "\n",
      "FALSE NEGATIVES:\n",
      "19652 out of 183928 negative labels (0.1068%)\n",
      "\n",
      "PRECISION, RECALL, F1 scores:\n",
      "              precision    recall  f1-score   support\n",
      "\n",
      "           0       0.83      0.83      0.83    198884\n",
      "           1       0.82      0.82      0.82    198320\n",
      "           2       0.84      0.84      0.84    202893\n",
      "\n",
      "    accuracy                           0.83    600097\n",
      "   macro avg       0.83      0.83      0.83    600097\n",
      "weighted avg       0.83      0.83      0.83    600097\n",
      "\n"
     ]
    }
   ],
   "source": [
    "df_original2 = pd.read_pickle('../input/rlddandmerged/rldd_normalized_scaled.pkl')\n",
    "\n",
    "X2 = df_original2.loc[:, [\"n_EAR\", \n",
    "                    \"n_MAR\", \"n_MOE\", \"n_EC\",\n",
    "                    \"n_LEB\", \"n_SOP\", \"PERCLOS\", \"CLOSENESS\"]]\n",
    "\n",
    "y2 = df_original2.loc[:, \"DROWSINESS\"].map({0: 0, 0.5: 1, 1:2})\n",
    "\n",
    "X_train2, X_test2, y_train2, y_test2 = train_test_split(X2, y2, test_size = 0.2, stratify = y2)\n",
    "\n",
    "# cross-validation with 5 splits\n",
    "cross_val = StratifiedShuffleSplit(n_splits=10, random_state = 42)\n",
    "\n",
    "# DT\n",
    "dt = DecisionTreeClassifier(random_state = 0)\n",
    "\n",
    "# parameters \n",
    "parameters = {\n",
    "                \"criterion\": [\"gini\",\"entropy\"],\n",
    "                \"splitter\": [\"best\",\"random\"],\n",
    "                \"class_weight\": [None, \"balanced\"],\n",
    "                }\n",
    "\n",
    "# grid search for parameters\n",
    "grid2 = GridSearchCV(estimator=dt, param_grid=parameters, cv=cross_val, n_jobs=-1)#multithreading; all cores are used\n",
    "grid2.fit(X_train2, y_train2)\n",
    "\n",
    "# print best scores\n",
    "print(\"The best parameters are %s with a score of %0.4f\"\n",
    "      % (grid2.best_params_, grid2.best_score_))\n",
    "\n",
    "# prediction results\n",
    "y_pred2 = grid2.predict(X_test2)\n",
    "\n",
    "# print accuracy metrics\n",
    "results2, false2 = display_test_scores(y_test2, y_pred2)\n",
    "print(results2)"
   ]
  }
 ],
 "metadata": {
  "kernelspec": {
   "display_name": "Python 3",
   "language": "python",
   "name": "python3"
  },
  "language_info": {
   "codemirror_mode": {
    "name": "ipython",
    "version": 3
   },
   "file_extension": ".py",
   "mimetype": "text/x-python",
   "name": "python",
   "nbconvert_exporter": "python",
   "pygments_lexer": "ipython3",
   "version": "3.7.6"
  },
  "papermill": {
   "duration": 1241.525698,
   "end_time": "2021-01-02T14:06:12.995549",
   "environment_variables": {},
   "exception": null,
   "input_path": "__notebook__.ipynb",
   "output_path": "__notebook__.ipynb",
   "parameters": {},
   "start_time": "2021-01-02T13:45:31.469851",
   "version": "2.1.0"
  }
 },
 "nbformat": 4,
 "nbformat_minor": 4
}
