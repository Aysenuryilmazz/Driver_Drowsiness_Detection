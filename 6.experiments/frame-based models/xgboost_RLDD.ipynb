{
 "cells": [
  {
   "cell_type": "code",
   "execution_count": 1,
   "metadata": {
    "_cell_guid": "b1076dfc-b9ad-4769-8c92-a6c4dae69d19",
    "_uuid": "8f2839f25d086af736a60e9eeb907d3b93b6e0e5",
    "execution": {
     "iopub.execute_input": "2020-12-28T10:22:55.158601Z",
     "iopub.status.busy": "2020-12-28T10:22:55.157745Z",
     "iopub.status.idle": "2020-12-28T10:22:56.114796Z",
     "shell.execute_reply": "2020-12-28T10:22:56.113302Z"
    },
    "papermill": {
     "duration": 0.970705,
     "end_time": "2020-12-28T10:22:56.114917",
     "exception": false,
     "start_time": "2020-12-28T10:22:55.144212",
     "status": "completed"
    },
    "tags": []
   },
   "outputs": [],
   "source": [
    "import os \n",
    "import pandas as pd\n",
    "import numpy as np \n",
    "from sklearn.metrics import accuracy_score, roc_curve, confusion_matrix, classification_report, roc_auc_score\n",
    "from sklearn.model_selection import train_test_split\n",
    "from sklearn.model_selection import StratifiedShuffleSplit\n",
    "from sklearn.model_selection import GridSearchCV\n",
    "import sys \n",
    "from sklearn.model_selection import learning_curve\n",
    "from sklearn.datasets import make_classification\n",
    "from sklearn.preprocessing import StandardScaler"
   ]
  },
  {
   "cell_type": "code",
   "execution_count": 2,
   "metadata": {
    "_cell_guid": "79c7e3d0-c299-4dcb-8224-4455121ee9b0",
    "_uuid": "d629ff2d2480ee46fbb7e2d37f6b5fab8052498a",
    "collapsed": true,
    "execution": {
     "iopub.execute_input": "2020-12-28T10:22:56.139999Z",
     "iopub.status.busy": "2020-12-28T10:22:56.138156Z",
     "iopub.status.idle": "2020-12-28T10:22:56.140787Z",
     "shell.execute_reply": "2020-12-28T10:22:56.141255Z"
    },
    "papermill": {
     "duration": 0.020998,
     "end_time": "2020-12-28T10:22:56.141366",
     "exception": false,
     "start_time": "2020-12-28T10:22:56.120368",
     "status": "completed"
    },
    "tags": []
   },
   "outputs": [],
   "source": [
    "# display test scores and return result string and indexes of false samples\n",
    "def display_test_scores(test, pred):\n",
    "    str_out = \"\"\n",
    "    str_out += (\"TEST SCORES\\n\")\n",
    "    str_out += (\"\\n\")\n",
    "\n",
    "    #print accuracy\n",
    "    accuracy = accuracy_score(test, pred)\n",
    "    str_out += (\"ACCURACY: {:.4f}\\n\".format(accuracy))\n",
    "    str_out += (\"\\n\")\n",
    "\n",
    "  \n",
    "    #print confusion matrix\n",
    "    str_out += (\"CONFUSION MATRIX:\\n\")\n",
    "    conf_mat = confusion_matrix(test, pred)\n",
    "    str_out += (\"{}\".format(conf_mat))\n",
    "    str_out += (\"\\n\")\n",
    "    str_out += (\"\\n\")\n",
    "\n",
    "    #print FP, FN\n",
    "    str_out += (\"FALSE POSITIVES:\\n\")\n",
    "    fp = conf_mat[1][0]\n",
    "    pos_labels = conf_mat[1][0]+conf_mat[1][1]\n",
    "    str_out += (\"{} out of {} positive labels ({:.4f}%)\\n\".format(fp, pos_labels,fp/pos_labels))\n",
    "    str_out += (\"\\n\")\n",
    "\n",
    "    str_out += (\"FALSE NEGATIVES:\\n\")\n",
    "    fn = conf_mat[0][1]\n",
    "    neg_labels = conf_mat[0][1]+conf_mat[0][0]\n",
    "    str_out += (\"{} out of {} negative labels ({:.4f}%)\\n\".format(fn, neg_labels, fn/neg_labels))\n",
    "    str_out += (\"\\n\")\n",
    "\n",
    "    #print classification report\n",
    "    str_out += (\"PRECISION, RECALL, F1 scores:\\n\")\n",
    "    str_out += (\"{}\".format(classification_report(test, pred)))\n",
    "    \n",
    "    false_indexes = np.where(test != pred)\n",
    "    return str_out, false_indexes"
   ]
  },
  {
   "cell_type": "code",
   "execution_count": 3,
   "metadata": {
    "execution": {
     "iopub.execute_input": "2020-12-28T10:22:56.159019Z",
     "iopub.status.busy": "2020-12-28T10:22:56.158172Z",
     "iopub.status.idle": "2020-12-28T10:23:03.495870Z",
     "shell.execute_reply": "2020-12-28T10:23:03.495238Z"
    },
    "papermill": {
     "duration": 7.349864,
     "end_time": "2020-12-28T10:23:03.495987",
     "exception": false,
     "start_time": "2020-12-28T10:22:56.146123",
     "status": "completed"
    },
    "tags": []
   },
   "outputs": [],
   "source": [
    "################ rldd_normalized_scaled dataset ###################\n",
    "df_original = pd.read_pickle('../input/rlddandmerged/rldd_normalized_scaled.pkl')\n",
    "\n",
    "X = df_original.loc[:, [\"n_EAR\", \n",
    "                    \"n_MAR\", \"n_MOE\", \"n_EC\",\n",
    "                    \"n_LEB\", \"n_SOP\", \"PERCLOS\", \"CLOSENESS\"]]\n",
    "\n",
    "\n",
    "\n",
    "### encode y values to multiclass ###\n",
    "y = df_original.loc[:, \"DROWSINESS\"]\n",
    "y = y.map({0: 0, 0.5: 1, 1:2})\n",
    "df_original.loc[:, \"DROWSINESS\"] = y\n",
    "\n",
    "y_f = df_original.loc[:, \"DROWSINESS\"]\n",
    "\n",
    "\n",
    "X_train, X_test, y_train, y_test = train_test_split(X, y_f, test_size = 0.2, stratify = y)"
   ]
  },
  {
   "cell_type": "code",
   "execution_count": 4,
   "metadata": {
    "execution": {
     "iopub.execute_input": "2020-12-28T10:23:03.512939Z",
     "iopub.status.busy": "2020-12-28T10:23:03.512173Z",
     "iopub.status.idle": "2020-12-28T10:23:07.901389Z",
     "shell.execute_reply": "2020-12-28T10:23:07.899856Z"
    },
    "papermill": {
     "duration": 4.40031,
     "end_time": "2020-12-28T10:23:07.901535",
     "exception": false,
     "start_time": "2020-12-28T10:23:03.501225",
     "status": "completed"
    },
    "tags": []
   },
   "outputs": [],
   "source": [
    "# cross-validation with 5 splits\n",
    "cv = StratifiedShuffleSplit(n_splits=5, random_state = 42)\n",
    "\n",
    "#Importing XGBM Classifier \n",
    "from xgboost import XGBClassifier\n",
    "\n",
    "#creating an extreme Gradient boosting instance\n",
    "xgb = XGBClassifier(random_state=0, tree_method = \"gpu_hist\")\n",
    "\n",
    "# parameters \n",
    "parameters = {\n",
    "                \"n_estimators\": [100, 200, 300],\n",
    "                \"max_depth\": [7, 9, 11],\n",
    "                \"subsample\": [0.3, 0.5, 0.7, 0.9, 1]            \n",
    "}"
   ]
  },
  {
   "cell_type": "code",
   "execution_count": 5,
   "metadata": {
    "execution": {
     "iopub.execute_input": "2020-12-28T10:23:07.925081Z",
     "iopub.status.busy": "2020-12-28T10:23:07.924384Z",
     "iopub.status.idle": "2020-12-28T13:00:00.234560Z",
     "shell.execute_reply": "2020-12-28T13:00:00.235338Z"
    },
    "papermill": {
     "duration": 9412.328604,
     "end_time": "2020-12-28T13:00:00.235596",
     "exception": false,
     "start_time": "2020-12-28T10:23:07.906992",
     "status": "completed"
    },
    "tags": []
   },
   "outputs": [
    {
     "name": "stderr",
     "output_type": "stream",
     "text": [
      "/opt/conda/lib/python3.7/site-packages/joblib/externals/loky/process_executor.py:706: UserWarning: A worker stopped while some jobs were given to the executor. This can be caused by a too short worker timeout or by a memory leak.\n",
      "  \"timeout or by a memory leak.\", UserWarning\n"
     ]
    },
    {
     "name": "stdout",
     "output_type": "stream",
     "text": [
      "The best parameters are {'max_depth': 11, 'n_estimators': 300, 'subsample': 0.7} with a score of 0.8778\n",
      "TEST SCORES\n",
      "\n",
      "ACCURACY: 0.8785\n",
      "\n",
      "CONFUSION MATRIX:\n",
      "[[179565  10881   8438]\n",
      " [ 18150 168145  12025]\n",
      " [ 12889  10515 179489]]\n",
      "\n",
      "FALSE POSITIVES:\n",
      "18150 out of 186295 positive labels (0.0974%)\n",
      "\n",
      "FALSE NEGATIVES:\n",
      "10881 out of 190446 negative labels (0.0571%)\n",
      "\n",
      "PRECISION, RECALL, F1 scores:\n",
      "              precision    recall  f1-score   support\n",
      "\n",
      "           0       0.85      0.90      0.88    198884\n",
      "           1       0.89      0.85      0.87    198320\n",
      "           2       0.90      0.88      0.89    202893\n",
      "\n",
      "    accuracy                           0.88    600097\n",
      "   macro avg       0.88      0.88      0.88    600097\n",
      "weighted avg       0.88      0.88      0.88    600097\n",
      "\n"
     ]
    }
   ],
   "source": [
    "# grid search for parameters\n",
    "grid = GridSearchCV(estimator=xgb, param_grid=parameters, cv=cv, n_jobs=-1)\n",
    "grid.fit(X_train, y_train)\n",
    "\n",
    "# print best scores\n",
    "print(\"The best parameters are %s with a score of %0.4f\"\n",
    "      % (grid.best_params_, grid.best_score_))\n",
    "\n",
    "# prediction results\n",
    "y_pred = grid.predict(X_test)\n",
    "\n",
    "# print accuracy metrics\n",
    "results, false = display_test_scores(y_test, y_pred)\n",
    "print(results)"
   ]
  }
 ],
 "metadata": {
  "kernelspec": {
   "display_name": "Python 3",
   "language": "python",
   "name": "python3"
  },
  "language_info": {
   "codemirror_mode": {
    "name": "ipython",
    "version": 3
   },
   "file_extension": ".py",
   "mimetype": "text/x-python",
   "name": "python",
   "nbconvert_exporter": "python",
   "pygments_lexer": "ipython3",
   "version": "3.7.6"
  },
  "papermill": {
   "duration": 9429.512962,
   "end_time": "2020-12-28T13:00:00.376182",
   "environment_variables": {},
   "exception": null,
   "input_path": "__notebook__.ipynb",
   "output_path": "__notebook__.ipynb",
   "parameters": {},
   "start_time": "2020-12-28T10:22:50.863220",
   "version": "2.1.0"
  }
 },
 "nbformat": 4,
 "nbformat_minor": 4
}
