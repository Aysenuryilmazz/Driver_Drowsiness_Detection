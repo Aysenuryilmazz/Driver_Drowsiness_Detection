{
 "cells": [
  {
   "cell_type": "code",
   "execution_count": 1,
   "metadata": {
    "_cell_guid": "b1076dfc-b9ad-4769-8c92-a6c4dae69d19",
    "_uuid": "8f2839f25d086af736a60e9eeb907d3b93b6e0e5",
    "execution": {
     "iopub.execute_input": "2020-12-28T10:23:44.412931Z",
     "iopub.status.busy": "2020-12-28T10:23:44.411896Z",
     "iopub.status.idle": "2020-12-28T10:23:45.980994Z",
     "shell.execute_reply": "2020-12-28T10:23:45.978991Z"
    },
    "papermill": {
     "duration": 1.585161,
     "end_time": "2020-12-28T10:23:45.981162",
     "exception": false,
     "start_time": "2020-12-28T10:23:44.396001",
     "status": "completed"
    },
    "tags": []
   },
   "outputs": [],
   "source": [
    "import os \n",
    "import pandas as pd\n",
    "import numpy as np \n",
    "from sklearn.metrics import accuracy_score, roc_curve, confusion_matrix, classification_report, roc_auc_score\n",
    "from sklearn.model_selection import train_test_split\n",
    "from sklearn.model_selection import StratifiedShuffleSplit\n",
    "from sklearn.model_selection import GridSearchCV\n",
    "import sys \n",
    "from sklearn.model_selection import learning_curve\n",
    "from sklearn.datasets import make_classification\n",
    "from sklearn.preprocessing import StandardScaler\n",
    "from sklearn.ensemble import AdaBoostClassifier"
   ]
  },
  {
   "cell_type": "code",
   "execution_count": 2,
   "metadata": {
    "execution": {
     "iopub.execute_input": "2020-12-28T10:23:46.013430Z",
     "iopub.status.busy": "2020-12-28T10:23:46.009491Z",
     "iopub.status.idle": "2020-12-28T10:23:46.014897Z",
     "shell.execute_reply": "2020-12-28T10:23:46.014219Z"
    },
    "papermill": {
     "duration": 0.027474,
     "end_time": "2020-12-28T10:23:46.015033",
     "exception": false,
     "start_time": "2020-12-28T10:23:45.987559",
     "status": "completed"
    },
    "tags": []
   },
   "outputs": [],
   "source": [
    "# display test scores and return result string and indexes of false samples\n",
    "def display_test_scores(test, pred):\n",
    "    str_out = \"\"\n",
    "    str_out += (\"TEST SCORES\\n\")\n",
    "    str_out += (\"\\n\")\n",
    "\n",
    "    #print accuracy\n",
    "    accuracy = accuracy_score(test, pred)\n",
    "    str_out += (\"ACCURACY: {:.4f}\\n\".format(accuracy))\n",
    "    str_out += (\"\\n\")\n",
    "\n",
    "\n",
    "    #print confusion matrix\n",
    "    str_out += (\"CONFUSION MATRIX:\\n\")\n",
    "    conf_mat = confusion_matrix(test, pred)\n",
    "    str_out += (\"{}\".format(conf_mat))\n",
    "    str_out += (\"\\n\")\n",
    "    str_out += (\"\\n\")\n",
    "\n",
    "    #print FP, FN\n",
    "    str_out += (\"FALSE POSITIVES:\\n\")\n",
    "    fp = conf_mat[1][0]\n",
    "    pos_labels = conf_mat[1][0]+conf_mat[1][1]\n",
    "    str_out += (\"{} out of {} positive labels ({:.4f}%)\\n\".format(fp, pos_labels,fp/pos_labels))\n",
    "    str_out += (\"\\n\")\n",
    "\n",
    "    str_out += (\"FALSE NEGATIVES:\\n\")\n",
    "    fn = conf_mat[0][1]\n",
    "    neg_labels = conf_mat[0][1]+conf_mat[0][0]\n",
    "    str_out += (\"{} out of {} negative labels ({:.4f}%)\\n\".format(fn, neg_labels, fn/neg_labels))\n",
    "    str_out += (\"\\n\")\n",
    "\n",
    "    #print classification report\n",
    "    str_out += (\"PRECISION, RECALL, F1 scores:\\n\")\n",
    "    str_out += (\"{}\".format(classification_report(test, pred)))\n",
    "    \n",
    "    false_indexes = np.where(test != pred)\n",
    "    return str_out, false_indexes"
   ]
  },
  {
   "cell_type": "code",
   "execution_count": 3,
   "metadata": {
    "execution": {
     "iopub.execute_input": "2020-12-28T10:23:46.037919Z",
     "iopub.status.busy": "2020-12-28T10:23:46.037009Z",
     "iopub.status.idle": "2020-12-28T10:23:55.079308Z",
     "shell.execute_reply": "2020-12-28T10:23:55.078690Z"
    },
    "papermill": {
     "duration": 9.058337,
     "end_time": "2020-12-28T10:23:55.079454",
     "exception": false,
     "start_time": "2020-12-28T10:23:46.021117",
     "status": "completed"
    },
    "tags": []
   },
   "outputs": [],
   "source": [
    "################ rldd+nthu dataset ###################\n",
    "df_original = pd.read_pickle('../input/rlddandmerged/merged_normalized_scaled.pkl')\n",
    "\n",
    "X = df_original.loc[:, [\"n_EAR\", \n",
    "                    \"n_MAR\", \"n_MOE\", \"n_EC\",\n",
    "                    \"n_LEB\", \"n_SOP\", \"PERCLOS\", \"CLOSENESS\"]]\n",
    "\n",
    "### encode y values to multiclass ###\n",
    "y = df_original.loc[:, \"DROWSINESS\"]\n",
    "y = y.map({0: 0, 0.5: 1, 1:2})\n",
    "df_original.loc[:, \"DROWSINESS\"] = y\n",
    "\n",
    "y_f = df_original.loc[:, \"DROWSINESS\"]\n",
    "\n",
    "X_train, X_test, y_train, y_test = train_test_split(X, y_f, test_size = 0.2, stratify = y)"
   ]
  },
  {
   "cell_type": "code",
   "execution_count": 4,
   "metadata": {
    "execution": {
     "iopub.execute_input": "2020-12-28T10:23:55.099846Z",
     "iopub.status.busy": "2020-12-28T10:23:55.098929Z",
     "iopub.status.idle": "2020-12-28T10:23:55.102750Z",
     "shell.execute_reply": "2020-12-28T10:23:55.101943Z"
    },
    "papermill": {
     "duration": 0.017108,
     "end_time": "2020-12-28T10:23:55.102888",
     "exception": false,
     "start_time": "2020-12-28T10:23:55.085780",
     "status": "completed"
    },
    "tags": []
   },
   "outputs": [],
   "source": [
    "# cross-validation with 5 splits\n",
    "cv = StratifiedShuffleSplit(n_splits=5, random_state = 42)\n",
    "\n",
    "#creating an AdaBoost instance\n",
    "ada = AdaBoostClassifier(random_state=0)\n",
    "\n",
    "# parameters \n",
    "parameters = {\n",
    "                \"n_estimators\": [200, 300, 400]\n",
    "                \n",
    "}"
   ]
  },
  {
   "cell_type": "code",
   "execution_count": 5,
   "metadata": {
    "_cell_guid": "79c7e3d0-c299-4dcb-8224-4455121ee9b0",
    "_uuid": "d629ff2d2480ee46fbb7e2d37f6b5fab8052498a",
    "collapsed": true,
    "execution": {
     "iopub.execute_input": "2020-12-28T10:23:55.125341Z",
     "iopub.status.busy": "2020-12-28T10:23:55.124457Z",
     "iopub.status.idle": "2020-12-28T14:06:45.903093Z",
     "shell.execute_reply": "2020-12-28T14:06:45.903783Z"
    },
    "papermill": {
     "duration": 13370.794669,
     "end_time": "2020-12-28T14:06:45.903986",
     "exception": false,
     "start_time": "2020-12-28T10:23:55.109317",
     "status": "completed"
    },
    "tags": []
   },
   "outputs": [
    {
     "name": "stdout",
     "output_type": "stream",
     "text": [
      "The best parameters are {'n_estimators': 400} with a score of 0.6015\n",
      "TEST SCORES\n",
      "\n",
      "ACCURACY: 0.6016\n",
      "\n",
      "CONFUSION MATRIX:\n",
      "[[187635  19755  42319]\n",
      " [ 65921  72237  60162]\n",
      " [ 64606  35306 175075]]\n",
      "\n",
      "FALSE POSITIVES:\n",
      "65921 out of 138158 positive labels (0.4771%)\n",
      "\n",
      "FALSE NEGATIVES:\n",
      "19755 out of 207390 negative labels (0.0953%)\n",
      "\n",
      "PRECISION, RECALL, F1 scores:\n",
      "              precision    recall  f1-score   support\n",
      "\n",
      "           0       0.59      0.75      0.66    249709\n",
      "           1       0.57      0.36      0.44    198320\n",
      "           2       0.63      0.64      0.63    274987\n",
      "\n",
      "    accuracy                           0.60    723016\n",
      "   macro avg       0.60      0.58      0.58    723016\n",
      "weighted avg       0.60      0.60      0.59    723016\n",
      "\n"
     ]
    }
   ],
   "source": [
    "# grid search for parameters\n",
    "grid = GridSearchCV(estimator=ada, param_grid=parameters, cv=cv, n_jobs=-1)\n",
    "grid.fit(X_train, y_train)\n",
    "\n",
    "# print best scores\n",
    "print(\"The best parameters are %s with a score of %0.4f\"\n",
    "      % (grid.best_params_, grid.best_score_))\n",
    "\n",
    "# prediction results\n",
    "y_pred = grid.predict(X_test)\n",
    "\n",
    "# print accuracy metrics\n",
    "results, false = display_test_scores(y_test, y_pred)\n",
    "print(results)"
   ]
  }
 ],
 "metadata": {
  "kernelspec": {
   "display_name": "Python 3",
   "language": "python",
   "name": "python3"
  },
  "language_info": {
   "codemirror_mode": {
    "name": "ipython",
    "version": 3
   },
   "file_extension": ".py",
   "mimetype": "text/x-python",
   "name": "python",
   "nbconvert_exporter": "python",
   "pygments_lexer": "ipython3",
   "version": "3.7.6"
  },
  "papermill": {
   "duration": 13387.485549,
   "end_time": "2020-12-28T14:06:46.019805",
   "environment_variables": {},
   "exception": null,
   "input_path": "__notebook__.ipynb",
   "output_path": "__notebook__.ipynb",
   "parameters": {},
   "start_time": "2020-12-28T10:23:38.534256",
   "version": "2.1.0"
  }
 },
 "nbformat": 4,
 "nbformat_minor": 4
}
