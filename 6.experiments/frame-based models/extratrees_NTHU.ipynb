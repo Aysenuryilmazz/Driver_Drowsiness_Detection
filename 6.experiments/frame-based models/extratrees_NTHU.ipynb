{
 "cells": [
  {
   "cell_type": "code",
   "execution_count": 1,
   "metadata": {
    "_cell_guid": "b1076dfc-b9ad-4769-8c92-a6c4dae69d19",
    "_uuid": "8f2839f25d086af736a60e9eeb907d3b93b6e0e5",
    "execution": {
     "iopub.execute_input": "2020-11-10T19:30:49.632351Z",
     "iopub.status.busy": "2020-11-10T19:30:49.631486Z",
     "iopub.status.idle": "2020-11-10T19:30:51.118323Z",
     "shell.execute_reply": "2020-11-10T19:30:51.117412Z"
    },
    "papermill": {
     "duration": 1.502223,
     "end_time": "2020-11-10T19:30:51.118466",
     "exception": false,
     "start_time": "2020-11-10T19:30:49.616243",
     "status": "completed"
    },
    "tags": []
   },
   "outputs": [],
   "source": [
    "import os \n",
    "import pandas as pd\n",
    "import numpy as np\n",
    "\n",
    "# import sklearn methods \n",
    "from sklearn.metrics import accuracy_score, roc_curve, confusion_matrix, classification_report, roc_auc_score\n",
    "from sklearn.model_selection import train_test_split\n",
    "from sklearn.model_selection import StratifiedShuffleSplit\n",
    "from sklearn.model_selection import GridSearchCV\n",
    "import sys \n",
    "from sklearn.model_selection import learning_curve\n",
    "from sklearn.datasets import make_classification\n",
    "from sklearn.ensemble import ExtraTreesClassifier"
   ]
  },
  {
   "cell_type": "code",
   "execution_count": 2,
   "metadata": {
    "_cell_guid": "79c7e3d0-c299-4dcb-8224-4455121ee9b0",
    "_uuid": "d629ff2d2480ee46fbb7e2d37f6b5fab8052498a",
    "collapsed": true,
    "execution": {
     "iopub.execute_input": "2020-11-10T19:30:51.150276Z",
     "iopub.status.busy": "2020-11-10T19:30:51.149459Z",
     "iopub.status.idle": "2020-11-10T19:30:51.153181Z",
     "shell.execute_reply": "2020-11-10T19:30:51.152453Z"
    },
    "papermill": {
     "duration": 0.028409,
     "end_time": "2020-11-10T19:30:51.153327",
     "exception": false,
     "start_time": "2020-11-10T19:30:51.124918",
     "status": "completed"
    },
    "tags": []
   },
   "outputs": [],
   "source": [
    "def display_test_scores(test, pred):\n",
    "    str_out = \"\"\n",
    "    str_out += (\"TEST SCORES\\n\")\n",
    "    str_out += (\"\\n\")\n",
    "\n",
    "    #print accuracy\n",
    "    accuracy = accuracy_score(test, pred)\n",
    "    str_out += (\"ACCURACY: {:.4f}\\n\".format(accuracy))\n",
    "    str_out += (\"\\n\")\n",
    "\n",
    "    #print AUC score\n",
    "    auc = roc_auc_score(test, pred)\n",
    "    str_out += (\"AUC: {:.4f}\\n\".format(auc))\n",
    "    str_out += (\"\\n\")\n",
    "\n",
    "    #print confusion matrix\n",
    "    str_out += (\"CONFUSION MATRIX:\\n\")\n",
    "    conf_mat = confusion_matrix(test, pred)\n",
    "    str_out += (\"{}\".format(conf_mat))\n",
    "    str_out += (\"\\n\")\n",
    "    str_out += (\"\\n\")\n",
    "\n",
    "    #print FP, FN\n",
    "    str_out += (\"FALSE POSITIVES:\\n\")\n",
    "    fp = conf_mat[1][0]\n",
    "    pos_labels = conf_mat[1][0]+conf_mat[1][1]\n",
    "    str_out += (\"{} out of {} positive labels ({:.4f}%)\\n\".format(fp, pos_labels,fp/pos_labels))\n",
    "    str_out += (\"\\n\")\n",
    "\n",
    "    str_out += (\"FALSE NEGATIVES:\\n\")\n",
    "    fn = conf_mat[0][1]\n",
    "    neg_labels = conf_mat[0][1]+conf_mat[0][0]\n",
    "    str_out += (\"{} out of {} negative labels ({:.4f}%)\\n\".format(fn, neg_labels, fn/neg_labels))\n",
    "    str_out += (\"\\n\")\n",
    "\n",
    "    #print classification report\n",
    "    str_out += (\"PRECISION, RECALL, F1 scores:\\n\")\n",
    "    str_out += (\"{}\".format(classification_report(test, pred)))\n",
    "    \n",
    "    false_indexes = np.where(test != pred)\n",
    "    return str_out, false_indexes"
   ]
  },
  {
   "cell_type": "code",
   "execution_count": 3,
   "metadata": {
    "execution": {
     "iopub.execute_input": "2020-11-10T19:30:51.174169Z",
     "iopub.status.busy": "2020-11-10T19:30:51.173344Z",
     "iopub.status.idle": "2020-11-10T19:30:52.313992Z",
     "shell.execute_reply": "2020-11-10T19:30:52.313199Z"
    },
    "papermill": {
     "duration": 1.154739,
     "end_time": "2020-11-10T19:30:52.314116",
     "exception": false,
     "start_time": "2020-11-10T19:30:51.159377",
     "status": "completed"
    },
    "tags": []
   },
   "outputs": [],
   "source": [
    "################ scaled dataset ###################\n",
    "df_original2 = pd.read_pickle('../input/extratrees4/final_step2_scaled.pkl')\n",
    "\n",
    "X2 = df_original2.loc[:, [\"n_EAR\", \n",
    "                    \"n_MAR\", \"n_MOE\", \"n_EC\",\n",
    "                    \"n_LEB\", \"n_SOP\", \"PERCLOS\", \"CLOSENESS\"]]\n",
    "\n",
    "y2 = df_original2.loc[:, \"DROWSINESS\"]\n",
    "\n",
    "\n",
    "X_train2, X_test2, y_train2, y_test2 = train_test_split(X2, y2, test_size = 0.2, stratify = y2)"
   ]
  },
  {
   "cell_type": "code",
   "execution_count": 4,
   "metadata": {
    "execution": {
     "iopub.execute_input": "2020-11-10T19:30:52.335316Z",
     "iopub.status.busy": "2020-11-10T19:30:52.334264Z",
     "iopub.status.idle": "2020-11-10T19:30:52.337675Z",
     "shell.execute_reply": "2020-11-10T19:30:52.337059Z"
    },
    "papermill": {
     "duration": 0.017498,
     "end_time": "2020-11-10T19:30:52.337820",
     "exception": false,
     "start_time": "2020-11-10T19:30:52.320322",
     "status": "completed"
    },
    "tags": []
   },
   "outputs": [],
   "source": [
    "# cross-validation with 5 splits\n",
    "cv = StratifiedShuffleSplit(n_splits=10, random_state = 42)\n",
    "\n",
    "# CART decision tree\n",
    "extra_trees = ExtraTreesClassifier(random_state=0)\n",
    "\n",
    "\n",
    "# parameters \n",
    "parameters = {\n",
    "                \"max_features\": [None, \"sqrt\"],\n",
    "                \"class_weight\": [None, \"balanced_subsample\"],\n",
    "                \"max_samples\": [0.3, 0.7],\n",
    "                \"n_estimators\": [10, 100]\n",
    "                }"
   ]
  },
  {
   "cell_type": "code",
   "execution_count": 5,
   "metadata": {
    "execution": {
     "iopub.execute_input": "2020-11-10T19:30:52.359997Z",
     "iopub.status.busy": "2020-11-10T19:30:52.359170Z",
     "iopub.status.idle": "2020-11-10T21:04:05.668715Z",
     "shell.execute_reply": "2020-11-10T21:04:05.669540Z"
    },
    "papermill": {
     "duration": 5593.325699,
     "end_time": "2020-11-10T21:04:05.669863",
     "exception": false,
     "start_time": "2020-11-10T19:30:52.344164",
     "status": "completed"
    },
    "tags": []
   },
   "outputs": [
    {
     "name": "stderr",
     "output_type": "stream",
     "text": [
      "/opt/conda/lib/python3.7/site-packages/joblib/externals/loky/process_executor.py:706: UserWarning: A worker stopped while some jobs were given to the executor. This can be caused by a too short worker timeout or by a memory leak.\n",
      "  \"timeout or by a memory leak.\", UserWarning\n"
     ]
    },
    {
     "name": "stdout",
     "output_type": "stream",
     "text": [
      "The best parameters are {'class_weight': None, 'max_features': None, 'max_samples': 0.3, 'n_estimators': 100} with a score of 0.8015\n",
      "TEST SCORES\n",
      "\n",
      "ACCURACY: 0.8060\n",
      "\n",
      "AUC: 0.7962\n",
      "\n",
      "CONFUSION MATRIX:\n",
      "[[37588 13237]\n",
      " [10612 61482]]\n",
      "\n",
      "FALSE POSITIVES:\n",
      "10612 out of 72094 positive labels (0.1472%)\n",
      "\n",
      "FALSE NEGATIVES:\n",
      "13237 out of 50825 negative labels (0.2604%)\n",
      "\n",
      "PRECISION, RECALL, F1 scores:\n",
      "              precision    recall  f1-score   support\n",
      "\n",
      "           0       0.78      0.74      0.76     50825\n",
      "           1       0.82      0.85      0.84     72094\n",
      "\n",
      "    accuracy                           0.81    122919\n",
      "   macro avg       0.80      0.80      0.80    122919\n",
      "weighted avg       0.81      0.81      0.81    122919\n",
      "\n"
     ]
    }
   ],
   "source": [
    "# grid search for parameters\n",
    "grid2 = GridSearchCV(estimator=extra_trees, param_grid=parameters, cv=cv, n_jobs=-1)\n",
    "grid2.fit(X_train2, y_train2)\n",
    "\n",
    "# print best scores\n",
    "print(\"The best parameters are %s with a score of %0.4f\"\n",
    "      % (grid2.best_params_, grid2.best_score_))\n",
    "\n",
    "# prediction results\n",
    "y_pred2 = grid2.predict(X_test2)\n",
    "\n",
    "# print accuracy metrics\n",
    "results2, false2 = display_test_scores(y_test2, y_pred2)\n",
    "print(results2)"
   ]
  }
 ],
 "metadata": {
  "kernelspec": {
   "display_name": "Python 3",
   "language": "python",
   "name": "python3"
  },
  "language_info": {
   "codemirror_mode": {
    "name": "ipython",
    "version": 3
   },
   "file_extension": ".py",
   "mimetype": "text/x-python",
   "name": "python",
   "nbconvert_exporter": "python",
   "pygments_lexer": "ipython3",
   "version": "3.7.6"
  },
  "papermill": {
   "duration": 5601.780706,
   "end_time": "2020-11-10T21:04:05.890441",
   "environment_variables": {},
   "exception": null,
   "input_path": "__notebook__.ipynb",
   "output_path": "__notebook__.ipynb",
   "parameters": {},
   "start_time": "2020-11-10T19:30:44.109735",
   "version": "2.1.0"
  }
 },
 "nbformat": 4,
 "nbformat_minor": 4
}
