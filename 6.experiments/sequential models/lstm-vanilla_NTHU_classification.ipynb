{
 "cells": [
  {
   "cell_type": "code",
   "execution_count": 1,
   "metadata": {
    "_cell_guid": "b1076dfc-b9ad-4769-8c92-a6c4dae69d19",
    "_uuid": "8f2839f25d086af736a60e9eeb907d3b93b6e0e5",
    "execution": {
     "iopub.execute_input": "2021-01-21T13:16:13.576671Z",
     "iopub.status.busy": "2021-01-21T13:16:13.575926Z",
     "iopub.status.idle": "2021-01-21T13:16:18.502602Z",
     "shell.execute_reply": "2021-01-21T13:16:18.501532Z"
    },
    "papermill": {
     "duration": 4.944062,
     "end_time": "2021-01-21T13:16:18.502731",
     "exception": false,
     "start_time": "2021-01-21T13:16:13.558669",
     "status": "completed"
    },
    "tags": []
   },
   "outputs": [],
   "source": [
    "# multivariate multi-step stacked lstm example\n",
    "import numpy as np\n",
    "from numpy import array\n",
    "from numpy import hstack\n",
    "from keras.models import Sequential\n",
    "from keras.layers import LSTM\n",
    "from keras.layers import Dense\n",
    "import pandas as pd\n",
    "import pickle as pkl\n",
    "from sklearn.metrics import mean_squared_error\n",
    "import tensorflow as tf\n",
    "from sklearn.preprocessing import MinMaxScaler\n",
    "from sklearn.metrics import f1_score\n",
    "from sklearn.metrics import accuracy_score, roc_curve, confusion_matrix, classification_report, roc_auc_score"
   ]
  },
  {
   "cell_type": "code",
   "execution_count": 2,
   "metadata": {
    "execution": {
     "iopub.execute_input": "2021-01-21T13:16:18.526046Z",
     "iopub.status.busy": "2021-01-21T13:16:18.525517Z",
     "iopub.status.idle": "2021-01-21T13:17:28.984360Z",
     "shell.execute_reply": "2021-01-21T13:17:28.983146Z"
    },
    "papermill": {
     "duration": 70.471875,
     "end_time": "2021-01-21T13:17:28.984481",
     "exception": false,
     "start_time": "2021-01-21T13:16:18.512606",
     "status": "completed"
    },
    "tags": []
   },
   "outputs": [],
   "source": [
    "nthu_train_X = pkl.load(open(\"../input/ddd-data-preparation-nthu/nthu_train_X\", 'rb'))\n",
    "nthu_train_y = pkl.load(open(\"../input/ddd-data-preparation-nthu/nthu_train_y\", 'rb'))\n",
    "\n",
    "nthu_test_X = pkl.load(open(\"../input/ddd-data-preparation-nthu/nthu_test_X\", 'rb'))\n",
    "nthu_test_y = pkl.load(open(\"../input/ddd-data-preparation-nthu/nthu_test_y\", 'rb'))"
   ]
  },
  {
   "cell_type": "code",
   "execution_count": 3,
   "metadata": {
    "execution": {
     "iopub.execute_input": "2021-01-21T13:17:29.040532Z",
     "iopub.status.busy": "2021-01-21T13:17:29.035394Z",
     "iopub.status.idle": "2021-01-21T13:17:29.869108Z",
     "shell.execute_reply": "2021-01-21T13:17:29.868616Z"
    },
    "papermill": {
     "duration": 0.875581,
     "end_time": "2021-01-21T13:17:29.869225",
     "exception": false,
     "start_time": "2021-01-21T13:17:28.993644",
     "status": "completed"
    },
    "tags": []
   },
   "outputs": [],
   "source": [
    "nthu_train_y=np.array([int(nthu_train_y[i][0]/2) for i in range(len(nthu_train_y))])\n",
    "nthu_test_y=np.array([int(nthu_test_y[i][0]/2) for i in range(len(nthu_test_y))])"
   ]
  },
  {
   "cell_type": "code",
   "execution_count": 4,
   "metadata": {
    "execution": {
     "iopub.execute_input": "2021-01-21T13:17:29.891987Z",
     "iopub.status.busy": "2021-01-21T13:17:29.890299Z",
     "iopub.status.idle": "2021-01-21T13:17:29.892601Z",
     "shell.execute_reply": "2021-01-21T13:17:29.893008Z"
    },
    "papermill": {
     "duration": 0.014914,
     "end_time": "2021-01-21T13:17:29.893105",
     "exception": false,
     "start_time": "2021-01-21T13:17:29.878191",
     "status": "completed"
    },
    "tags": []
   },
   "outputs": [],
   "source": [
    "#nthu_train_y = nthu_train_y.mean(axis=1)\n",
    "#nthu_test_y = nthu_test_y.mean(axis=1)"
   ]
  },
  {
   "cell_type": "code",
   "execution_count": 5,
   "metadata": {
    "execution": {
     "iopub.execute_input": "2021-01-21T13:17:29.915357Z",
     "iopub.status.busy": "2021-01-21T13:17:29.913675Z",
     "iopub.status.idle": "2021-01-21T13:17:29.916016Z",
     "shell.execute_reply": "2021-01-21T13:17:29.916433Z"
    },
    "papermill": {
     "duration": 0.014681,
     "end_time": "2021-01-21T13:17:29.916528",
     "exception": false,
     "start_time": "2021-01-21T13:17:29.901847",
     "status": "completed"
    },
    "tags": []
   },
   "outputs": [],
   "source": [
    "#nthu_train_y_scaled = tf.keras.activations.sigmoid(tf.constant(nthu_train_y, dtype = tf.float32))\n",
    "#nthu_train_y_scaled = nthu_train_y_scaled.numpy()"
   ]
  },
  {
   "cell_type": "code",
   "execution_count": 6,
   "metadata": {
    "execution": {
     "iopub.execute_input": "2021-01-21T13:17:29.938241Z",
     "iopub.status.busy": "2021-01-21T13:17:29.937717Z",
     "iopub.status.idle": "2021-01-21T13:17:29.941537Z",
     "shell.execute_reply": "2021-01-21T13:17:29.941108Z"
    },
    "papermill": {
     "duration": 0.016026,
     "end_time": "2021-01-21T13:17:29.941623",
     "exception": false,
     "start_time": "2021-01-21T13:17:29.925597",
     "status": "completed"
    },
    "tags": []
   },
   "outputs": [],
   "source": [
    "#nthu_test_y_scaled = tf.keras.activations.sigmoid(tf.constant(nthu_test_y, dtype = tf.float32))\n",
    "#nthu_test_y_scaled = nthu_test_y_scaled.numpy()"
   ]
  },
  {
   "cell_type": "code",
   "execution_count": 7,
   "metadata": {
    "execution": {
     "iopub.execute_input": "2021-01-21T13:17:29.973019Z",
     "iopub.status.busy": "2021-01-21T13:17:29.972268Z",
     "iopub.status.idle": "2021-01-21T13:17:29.979141Z",
     "shell.execute_reply": "2021-01-21T13:17:29.979598Z"
    },
    "papermill": {
     "duration": 0.029022,
     "end_time": "2021-01-21T13:17:29.979696",
     "exception": false,
     "start_time": "2021-01-21T13:17:29.950674",
     "status": "completed"
    },
    "tags": []
   },
   "outputs": [],
   "source": [
    "idx =[]\n",
    "np.random.seed(0)\n",
    "for i in range(1000):\n",
    "    idx.append(np.random.randint(420953))"
   ]
  },
  {
   "cell_type": "code",
   "execution_count": 8,
   "metadata": {
    "execution": {
     "iopub.execute_input": "2021-01-21T13:17:30.004184Z",
     "iopub.status.busy": "2021-01-21T13:17:30.003691Z",
     "iopub.status.idle": "2021-01-21T16:49:49.128530Z",
     "shell.execute_reply": "2021-01-21T16:49:49.127738Z"
    },
    "papermill": {
     "duration": 12739.139732,
     "end_time": "2021-01-21T16:49:49.128687",
     "exception": false,
     "start_time": "2021-01-21T13:17:29.988955",
     "status": "completed"
    },
    "tags": []
   },
   "outputs": [
    {
     "name": "stdout",
     "output_type": "stream",
     "text": [
      "Epoch 1/35\n",
      "52620/52620 - 364s - loss: 0.4319\n",
      "Epoch 2/35\n",
      "52620/52620 - 364s - loss: 0.2091\n",
      "Epoch 3/35\n",
      "52620/52620 - 364s - loss: 0.1009\n",
      "Epoch 4/35\n",
      "52620/52620 - 363s - loss: 0.0593\n",
      "Epoch 5/35\n",
      "52620/52620 - 363s - loss: 0.0446\n",
      "Epoch 6/35\n",
      "52620/52620 - 364s - loss: 0.0360\n",
      "Epoch 7/35\n",
      "52620/52620 - 364s - loss: 0.0311\n",
      "Epoch 8/35\n",
      "52620/52620 - 364s - loss: 0.0283\n",
      "Epoch 9/35\n",
      "52620/52620 - 363s - loss: 0.0263\n",
      "Epoch 10/35\n",
      "52620/52620 - 366s - loss: 0.0251\n",
      "Epoch 11/35\n",
      "52620/52620 - 364s - loss: 0.0228\n",
      "Epoch 12/35\n",
      "52620/52620 - 363s - loss: 0.0227\n",
      "Epoch 13/35\n",
      "52620/52620 - 363s - loss: 0.0218\n",
      "Epoch 14/35\n",
      "52620/52620 - 363s - loss: 0.0274\n",
      "Epoch 15/35\n",
      "52620/52620 - 363s - loss: 0.0211\n",
      "Epoch 16/35\n",
      "52620/52620 - 363s - loss: 0.0236\n",
      "Epoch 17/35\n",
      "52620/52620 - 364s - loss: 0.0263\n",
      "Epoch 18/35\n",
      "52620/52620 - 363s - loss: 0.0897\n",
      "Epoch 19/35\n",
      "52620/52620 - 363s - loss: 0.2439\n",
      "Epoch 20/35\n",
      "52620/52620 - 363s - loss: 0.3421\n",
      "Epoch 21/35\n",
      "52620/52620 - 365s - loss: 0.3785\n",
      "Epoch 22/35\n",
      "52620/52620 - 363s - loss: 0.3773\n",
      "Epoch 23/35\n",
      "52620/52620 - 363s - loss: 0.4162\n",
      "Epoch 24/35\n",
      "52620/52620 - 363s - loss: 0.4580\n",
      "Epoch 25/35\n",
      "52620/52620 - 364s - loss: 0.4758\n",
      "Epoch 26/35\n",
      "52620/52620 - 364s - loss: 0.5027\n",
      "Epoch 27/35\n",
      "52620/52620 - 363s - loss: 0.5189\n",
      "Epoch 28/35\n",
      "52620/52620 - 364s - loss: 0.5384\n",
      "Epoch 29/35\n",
      "52620/52620 - 363s - loss: 0.5398\n",
      "Epoch 30/35\n",
      "52620/52620 - 363s - loss: 0.5440\n",
      "Epoch 31/35\n",
      "52620/52620 - 364s - loss: 0.5388\n",
      "Epoch 32/35\n",
      "52620/52620 - 365s - loss: 0.5430\n",
      "Epoch 33/35\n",
      "52620/52620 - 363s - loss: 0.5439\n",
      "Epoch 34/35\n",
      "52620/52620 - 368s - loss: 0.5359\n",
      "Epoch 35/35\n",
      "52620/52620 - 364s - loss: 0.5353\n"
     ]
    },
    {
     "data": {
      "text/plain": [
       "<tensorflow.python.keras.callbacks.History at 0x7fd2380f70d0>"
      ]
     },
     "execution_count": 8,
     "metadata": {},
     "output_type": "execute_result"
    }
   ],
   "source": [
    "n_steps_in, n_features, n_steps_out= 150, 8, 1\n",
    "\n",
    "# define model\n",
    "model = Sequential()\n",
    "model.add(LSTM(100, activation='tanh', input_shape=(n_steps_in, n_features)))\n",
    "model.add(Dense(1, activation='sigmoid'))\n",
    "model.compile(optimizer='adam', loss='binary_crossentropy')\n",
    "# fit model\n",
    "model.fit(nthu_train_X, np.ravel(nthu_train_y), batch_size=8, epochs=35, verbose=2)"
   ]
  },
  {
   "cell_type": "code",
   "execution_count": 9,
   "metadata": {
    "execution": {
     "iopub.execute_input": "2021-01-21T16:49:49.199797Z",
     "iopub.status.busy": "2021-01-21T16:49:49.198827Z",
     "iopub.status.idle": "2021-01-21T16:50:04.504937Z",
     "shell.execute_reply": "2021-01-21T16:50:04.503980Z"
    },
    "papermill": {
     "duration": 15.339498,
     "end_time": "2021-01-21T16:50:04.505038",
     "exception": false,
     "start_time": "2021-01-21T16:49:49.165540",
     "status": "completed"
    },
    "tags": []
   },
   "outputs": [
    {
     "name": "stdout",
     "output_type": "stream",
     "text": [
      "4101/4101 [==============================] - 14s 3ms/step\n",
      "[[0]\n",
      " [0]\n",
      " [0]\n",
      " ...\n",
      " [1]\n",
      " [1]\n",
      " [1]]\n"
     ]
    }
   ],
   "source": [
    "# demonstrate prediction\n",
    "yhat = model.predict_classes(nthu_test_X, verbose=1)\n",
    "print(yhat)"
   ]
  },
  {
   "cell_type": "code",
   "execution_count": 10,
   "metadata": {
    "execution": {
     "iopub.execute_input": "2021-01-21T16:50:04.764001Z",
     "iopub.status.busy": "2021-01-21T16:50:04.763473Z",
     "iopub.status.idle": "2021-01-21T16:50:04.767325Z",
     "shell.execute_reply": "2021-01-21T16:50:04.766826Z"
    },
    "papermill": {
     "duration": 0.158225,
     "end_time": "2021-01-21T16:50:04.767454",
     "exception": false,
     "start_time": "2021-01-21T16:50:04.609229",
     "status": "completed"
    },
    "tags": []
   },
   "outputs": [],
   "source": [
    "def logit(x):\n",
    "    \"\"\" Computes the logit function, i.e. the logistic sigmoid inverse. \"\"\"\n",
    "    if (x<=0.5):\n",
    "        return float(0)\n",
    "    if (x>=0.880797):\n",
    "        return float(2)\n",
    "    return float(- tf.math.log(1. / x - 1.))"
   ]
  },
  {
   "cell_type": "code",
   "execution_count": 11,
   "metadata": {
    "execution": {
     "iopub.execute_input": "2021-01-21T16:50:04.980879Z",
     "iopub.status.busy": "2021-01-21T16:50:04.979127Z",
     "iopub.status.idle": "2021-01-21T16:50:04.981501Z",
     "shell.execute_reply": "2021-01-21T16:50:04.981908Z"
    },
    "papermill": {
     "duration": 0.110853,
     "end_time": "2021-01-21T16:50:04.982011",
     "exception": false,
     "start_time": "2021-01-21T16:50:04.871158",
     "status": "completed"
    },
    "tags": []
   },
   "outputs": [],
   "source": [
    "#yhat_inversed = np.array([logit(x) for x in yhat])"
   ]
  },
  {
   "cell_type": "code",
   "execution_count": 12,
   "metadata": {
    "execution": {
     "iopub.execute_input": "2021-01-21T16:50:05.194077Z",
     "iopub.status.busy": "2021-01-21T16:50:05.192896Z",
     "iopub.status.idle": "2021-01-21T16:50:05.198098Z",
     "shell.execute_reply": "2021-01-21T16:50:05.198545Z"
    },
    "papermill": {
     "duration": 0.113718,
     "end_time": "2021-01-21T16:50:05.198651",
     "exception": false,
     "start_time": "2021-01-21T16:50:05.084933",
     "status": "completed"
    },
    "tags": []
   },
   "outputs": [
    {
     "data": {
      "text/plain": [
       "0.3692657054896821"
      ]
     },
     "execution_count": 12,
     "metadata": {},
     "output_type": "execute_result"
    }
   ],
   "source": [
    "mean_squared_error(np.squeeze(yhat),nthu_test_y)"
   ]
  },
  {
   "cell_type": "code",
   "execution_count": 13,
   "metadata": {
    "execution": {
     "iopub.execute_input": "2021-01-21T16:50:05.475426Z",
     "iopub.status.busy": "2021-01-21T16:50:05.474542Z",
     "iopub.status.idle": "2021-01-21T16:50:05.479998Z",
     "shell.execute_reply": "2021-01-21T16:50:05.480821Z"
    },
    "papermill": {
     "duration": 0.177548,
     "end_time": "2021-01-21T16:50:05.480991",
     "exception": false,
     "start_time": "2021-01-21T16:50:05.303443",
     "status": "completed"
    },
    "tags": []
   },
   "outputs": [],
   "source": [
    "def display_test_scores(test, pred):\n",
    "    str_out = \"\"\n",
    "    str_out += (\"TEST SCORES\\n\")\n",
    "    str_out += (\"\\n\")\n",
    "\n",
    "    #print accuracy\n",
    "    accuracy = accuracy_score(test, pred)\n",
    "    str_out += (\"ACCURACY: {:.4f}\\n\".format(accuracy))\n",
    "    str_out += (\"\\n\")\n",
    "\n",
    "    #print AUC score\n",
    "    auc = roc_auc_score(test, pred)\n",
    "    str_out += (\"AUC: {:.4f}\\n\".format(auc))\n",
    "    str_out += (\"\\n\")\n",
    "\n",
    "    #print confusion matrix\n",
    "    str_out += (\"CONFUSION MATRIX:\\n\")\n",
    "    conf_mat = confusion_matrix(test, pred)\n",
    "    str_out += (\"{}\".format(conf_mat))\n",
    "    str_out += (\"\\n\")\n",
    "    str_out += (\"\\n\")\n",
    "\n",
    "    #print FP, FN\n",
    "    str_out += (\"FALSE POSITIVES:\\n\")\n",
    "    fp = conf_mat[1][0]\n",
    "    pos_labels = conf_mat[1][0]+conf_mat[1][1]\n",
    "    str_out += (\"{} out of {} positive labels ({:.4f}%)\\n\".format(fp, pos_labels,fp/pos_labels))\n",
    "    str_out += (\"\\n\")\n",
    "\n",
    "    str_out += (\"FALSE NEGATIVES:\\n\")\n",
    "    fn = conf_mat[0][1]\n",
    "    neg_labels = conf_mat[0][1]+conf_mat[0][0]\n",
    "    str_out += (\"{} out of {} negative labels ({:.4f}%)\\n\".format(fn, neg_labels, fn/neg_labels))\n",
    "    str_out += (\"\\n\")\n",
    "\n",
    "    #print classification report\n",
    "    str_out += (\"PRECISION, RECALL, F1 scores:\\n\")\n",
    "    str_out += (\"{}\".format(classification_report(test, pred)))\n",
    "    \n",
    "    false_indexes = np.where(test != pred)\n",
    "    return str_out, false_indexes"
   ]
  },
  {
   "cell_type": "code",
   "execution_count": 14,
   "metadata": {
    "execution": {
     "iopub.execute_input": "2021-01-21T16:50:05.855499Z",
     "iopub.status.busy": "2021-01-21T16:50:05.854645Z",
     "iopub.status.idle": "2021-01-21T16:50:06.335076Z",
     "shell.execute_reply": "2021-01-21T16:50:06.334231Z"
    },
    "papermill": {
     "duration": 0.656437,
     "end_time": "2021-01-21T16:50:06.335179",
     "exception": false,
     "start_time": "2021-01-21T16:50:05.678742",
     "status": "completed"
    },
    "tags": []
   },
   "outputs": [
    {
     "name": "stdout",
     "output_type": "stream",
     "text": [
      "TEST SCORES\n",
      "\n",
      "ACCURACY: 0.6307\n",
      "\n",
      "AUC: 0.6184\n",
      "\n",
      "CONFUSION MATRIX:\n",
      "[[23005 39353]\n",
      " [ 9105 59765]]\n",
      "\n",
      "FALSE POSITIVES:\n",
      "9105 out of 68870 positive labels (0.1322%)\n",
      "\n",
      "FALSE NEGATIVES:\n",
      "39353 out of 62358 negative labels (0.6311%)\n",
      "\n",
      "PRECISION, RECALL, F1 scores:\n",
      "              precision    recall  f1-score   support\n",
      "\n",
      "           0       0.72      0.37      0.49     62358\n",
      "           1       0.60      0.87      0.71     68870\n",
      "\n",
      "    accuracy                           0.63    131228\n",
      "   macro avg       0.66      0.62      0.60    131228\n",
      "weighted avg       0.66      0.63      0.60    131228\n",
      "\n"
     ]
    },
    {
     "data": {
      "text/plain": [
       "(131228,)"
      ]
     },
     "execution_count": 14,
     "metadata": {},
     "output_type": "execute_result"
    }
   ],
   "source": [
    "y_pred = np.squeeze(yhat)\n",
    "results, false = display_test_scores(nthu_test_y, y_pred)\n",
    "print(results)\n",
    "y_pred.shape"
   ]
  },
  {
   "cell_type": "code",
   "execution_count": 15,
   "metadata": {
    "execution": {
     "iopub.execute_input": "2021-01-21T16:50:06.604786Z",
     "iopub.status.busy": "2021-01-21T16:50:06.580571Z",
     "iopub.status.idle": "2021-01-21T16:50:06.653425Z",
     "shell.execute_reply": "2021-01-21T16:50:06.652618Z"
    },
    "papermill": {
     "duration": 0.195235,
     "end_time": "2021-01-21T16:50:06.653525",
     "exception": false,
     "start_time": "2021-01-21T16:50:06.458290",
     "status": "completed"
    },
    "tags": []
   },
   "outputs": [],
   "source": [
    "model.save(\"lstm_vanilla_v2.h5\")"
   ]
  }
 ],
 "metadata": {
  "kernelspec": {
   "display_name": "Python 3",
   "language": "python",
   "name": "python3"
  },
  "language_info": {
   "codemirror_mode": {
    "name": "ipython",
    "version": 3
   },
   "file_extension": ".py",
   "mimetype": "text/x-python",
   "name": "python",
   "nbconvert_exporter": "python",
   "pygments_lexer": "ipython3",
   "version": "3.7.6"
  },
  "papermill": {
   "duration": 12839.368239,
   "end_time": "2021-01-21T16:50:08.907974",
   "environment_variables": {},
   "exception": null,
   "input_path": "__notebook__.ipynb",
   "output_path": "__notebook__.ipynb",
   "parameters": {},
   "start_time": "2021-01-21T13:16:09.539735",
   "version": "2.1.0"
  }
 },
 "nbformat": 4,
 "nbformat_minor": 4
}
