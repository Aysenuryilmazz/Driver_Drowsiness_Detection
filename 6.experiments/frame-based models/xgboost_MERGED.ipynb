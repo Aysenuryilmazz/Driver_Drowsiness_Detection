{
 "cells": [
  {
   "cell_type": "code",
   "execution_count": 1,
   "metadata": {
    "_cell_guid": "b1076dfc-b9ad-4769-8c92-a6c4dae69d19",
    "_uuid": "8f2839f25d086af736a60e9eeb907d3b93b6e0e5",
    "execution": {
     "iopub.execute_input": "2020-12-28T13:22:40.335426Z",
     "iopub.status.busy": "2020-12-28T13:22:40.334563Z",
     "iopub.status.idle": "2020-12-28T13:22:46.137310Z",
     "shell.execute_reply": "2020-12-28T13:22:46.136134Z"
    },
    "papermill": {
     "duration": 5.816892,
     "end_time": "2020-12-28T13:22:46.137491",
     "exception": false,
     "start_time": "2020-12-28T13:22:40.320599",
     "status": "completed"
    },
    "tags": []
   },
   "outputs": [],
   "source": [
    "import os \n",
    "import pandas as pd\n",
    "import numpy as np \n",
    "from sklearn.metrics import accuracy_score, roc_curve, confusion_matrix, classification_report, roc_auc_score\n",
    "from sklearn.model_selection import train_test_split\n",
    "from sklearn.model_selection import StratifiedShuffleSplit\n",
    "from sklearn.model_selection import GridSearchCV\n",
    "import sys \n",
    "from sklearn.model_selection import learning_curve\n",
    "from sklearn.datasets import make_classification\n",
    "from sklearn.preprocessing import StandardScaler\n",
    "from xgboost import XGBClassifier"
   ]
  },
  {
   "cell_type": "code",
   "execution_count": 2,
   "metadata": {
    "_cell_guid": "79c7e3d0-c299-4dcb-8224-4455121ee9b0",
    "_uuid": "d629ff2d2480ee46fbb7e2d37f6b5fab8052498a",
    "collapsed": true,
    "execution": {
     "iopub.execute_input": "2020-12-28T13:22:46.166944Z",
     "iopub.status.busy": "2020-12-28T13:22:46.165108Z",
     "iopub.status.idle": "2020-12-28T13:22:46.167607Z",
     "shell.execute_reply": "2020-12-28T13:22:46.168073Z"
    },
    "papermill": {
     "duration": 0.025342,
     "end_time": "2020-12-28T13:22:46.168189",
     "exception": false,
     "start_time": "2020-12-28T13:22:46.142847",
     "status": "completed"
    },
    "tags": []
   },
   "outputs": [],
   "source": [
    "# display test scores and return result string and indexes of false samples\n",
    "def display_test_scores(test, pred):\n",
    "    str_out = \"\"\n",
    "    str_out += (\"TEST SCORES\\n\")\n",
    "    str_out += (\"\\n\")\n",
    "\n",
    "    #print accuracy\n",
    "    accuracy = accuracy_score(test, pred)\n",
    "    str_out += (\"ACCURACY: {:.4f}\\n\".format(accuracy))\n",
    "    str_out += (\"\\n\")\n",
    "\n",
    "    \n",
    "\n",
    "    #print confusion matrix\n",
    "    str_out += (\"CONFUSION MATRIX:\\n\")\n",
    "    conf_mat = confusion_matrix(test, pred)\n",
    "    str_out += (\"{}\".format(conf_mat))\n",
    "    str_out += (\"\\n\")\n",
    "    str_out += (\"\\n\")\n",
    "\n",
    "    #print FP, FN\n",
    "    str_out += (\"FALSE POSITIVES:\\n\")\n",
    "    fp = conf_mat[1][0]\n",
    "    pos_labels = conf_mat[1][0]+conf_mat[1][1]\n",
    "    str_out += (\"{} out of {} positive labels ({:.4f}%)\\n\".format(fp, pos_labels,fp/pos_labels))\n",
    "    str_out += (\"\\n\")\n",
    "\n",
    "    str_out += (\"FALSE NEGATIVES:\\n\")\n",
    "    fn = conf_mat[0][1]\n",
    "    neg_labels = conf_mat[0][1]+conf_mat[0][0]\n",
    "    str_out += (\"{} out of {} negative labels ({:.4f}%)\\n\".format(fn, neg_labels, fn/neg_labels))\n",
    "    str_out += (\"\\n\")\n",
    "\n",
    "    #print classification report\n",
    "    str_out += (\"PRECISION, RECALL, F1 scores:\\n\")\n",
    "    str_out += (\"{}\".format(classification_report(test, pred)))\n",
    "    \n",
    "    false_indexes = np.where(test != pred)\n",
    "    return str_out, false_indexes"
   ]
  },
  {
   "cell_type": "code",
   "execution_count": 3,
   "metadata": {
    "execution": {
     "iopub.execute_input": "2020-12-28T13:22:46.185216Z",
     "iopub.status.busy": "2020-12-28T13:22:46.184467Z",
     "iopub.status.idle": "2020-12-28T13:22:53.463001Z",
     "shell.execute_reply": "2020-12-28T13:22:53.461932Z"
    },
    "papermill": {
     "duration": 7.29018,
     "end_time": "2020-12-28T13:22:53.463121",
     "exception": false,
     "start_time": "2020-12-28T13:22:46.172941",
     "status": "completed"
    },
    "tags": []
   },
   "outputs": [],
   "source": [
    "################ rldd+nthu dataset ###################\n",
    "df_original = pd.read_pickle('../input/rlddandmerged/merged_normalized_scaled.pkl')\n",
    "\n",
    "X = df_original.loc[:, [\"n_EAR\", \n",
    "                    \"n_MAR\", \"n_MOE\", \"n_EC\",\n",
    "                    \"n_LEB\", \"n_SOP\", \"PERCLOS\", \"CLOSENESS\"]]\n",
    "\n",
    "\n",
    "### encode y values to multiclass ###\n",
    "y = df_original.loc[:, \"DROWSINESS\"]\n",
    "y = y.map({0: 0, 0.5: 1, 1:2})\n",
    "df_original.loc[:, \"DROWSINESS\"] = y\n",
    "\n",
    "y_f = df_original.loc[:, \"DROWSINESS\"]\n",
    "\n",
    "\n",
    "X_train, X_test, y_train, y_test = train_test_split(X, y_f, test_size = 0.2, stratify = y)"
   ]
  },
  {
   "cell_type": "code",
   "execution_count": 4,
   "metadata": {
    "execution": {
     "iopub.execute_input": "2020-12-28T13:22:53.480857Z",
     "iopub.status.busy": "2020-12-28T13:22:53.479120Z",
     "iopub.status.idle": "2020-12-28T13:22:53.481610Z",
     "shell.execute_reply": "2020-12-28T13:22:53.482113Z"
    },
    "papermill": {
     "duration": 0.013947,
     "end_time": "2020-12-28T13:22:53.482227",
     "exception": false,
     "start_time": "2020-12-28T13:22:53.468280",
     "status": "completed"
    },
    "tags": []
   },
   "outputs": [],
   "source": [
    "# cross-validation with 5 splits\n",
    "cv = StratifiedShuffleSplit(n_splits=5, random_state = 42)\n",
    "\n",
    "\n",
    "#creating an extreme Gradient boosting instance\n",
    "xgb = XGBClassifier(random_state=0, tree_method = \"gpu_hist\")\n",
    "\n",
    "# parameters \n",
    "parameters = {\n",
    "                \"n_estimators\": [200, 300],\n",
    "                \"max_depth\": [9, 11, 13],\n",
    "                \"subsample\": [0.5, 0.7, 1]            \n",
    "}"
   ]
  },
  {
   "cell_type": "code",
   "execution_count": 5,
   "metadata": {
    "execution": {
     "iopub.execute_input": "2020-12-28T13:22:53.499874Z",
     "iopub.status.busy": "2020-12-28T13:22:53.499179Z",
     "iopub.status.idle": "2020-12-28T16:01:31.679826Z",
     "shell.execute_reply": "2020-12-28T16:01:31.680585Z"
    },
    "papermill": {
     "duration": 9518.193618,
     "end_time": "2020-12-28T16:01:31.680846",
     "exception": false,
     "start_time": "2020-12-28T13:22:53.487228",
     "status": "completed"
    },
    "tags": []
   },
   "outputs": [
    {
     "name": "stderr",
     "output_type": "stream",
     "text": [
      "/opt/conda/lib/python3.7/site-packages/joblib/externals/loky/process_executor.py:706: UserWarning: A worker stopped while some jobs were given to the executor. This can be caused by a too short worker timeout or by a memory leak.\n",
      "  \"timeout or by a memory leak.\", UserWarning\n"
     ]
    },
    {
     "name": "stdout",
     "output_type": "stream",
     "text": [
      "The best parameters are {'max_depth': 13, 'n_estimators': 300, 'subsample': 0.7} with a score of 0.8491\n",
      "TEST SCORES\n",
      "\n",
      "ACCURACY: 0.8512\n",
      "\n",
      "CONFUSION MATRIX:\n",
      "[[214515  11105  24089]\n",
      " [ 19327 164059  14934]\n",
      " [ 27391  10705 236891]]\n",
      "\n",
      "FALSE POSITIVES:\n",
      "19327 out of 183386 positive labels (0.1054%)\n",
      "\n",
      "FALSE NEGATIVES:\n",
      "11105 out of 225620 negative labels (0.0492%)\n",
      "\n",
      "PRECISION, RECALL, F1 scores:\n",
      "              precision    recall  f1-score   support\n",
      "\n",
      "           0       0.82      0.86      0.84    249709\n",
      "           1       0.88      0.83      0.85    198320\n",
      "           2       0.86      0.86      0.86    274987\n",
      "\n",
      "    accuracy                           0.85    723016\n",
      "   macro avg       0.85      0.85      0.85    723016\n",
      "weighted avg       0.85      0.85      0.85    723016\n",
      "\n"
     ]
    }
   ],
   "source": [
    "# grid search for parameters\n",
    "grid = GridSearchCV(estimator=xgb, param_grid=parameters, cv=cv, n_jobs=-1)\n",
    "grid.fit(X_train, y_train)\n",
    "\n",
    "# print best scores\n",
    "print(\"The best parameters are %s with a score of %0.4f\"\n",
    "      % (grid.best_params_, grid.best_score_))\n",
    "\n",
    "# prediction results\n",
    "y_pred = grid.predict(X_test)\n",
    "\n",
    "# print accuracy metrics\n",
    "results, false = display_test_scores(y_test, y_pred)\n",
    "print(results)"
   ]
  }
 ],
 "metadata": {
  "kernelspec": {
   "display_name": "Python 3",
   "language": "python",
   "name": "python3"
  },
  "language_info": {
   "codemirror_mode": {
    "name": "ipython",
    "version": 3
   },
   "file_extension": ".py",
   "mimetype": "text/x-python",
   "name": "python",
   "nbconvert_exporter": "python",
   "pygments_lexer": "ipython3",
   "version": "3.7.6"
  },
  "papermill": {
   "duration": 9536.452791,
   "end_time": "2020-12-28T16:01:32.098483",
   "environment_variables": {},
   "exception": null,
   "input_path": "__notebook__.ipynb",
   "output_path": "__notebook__.ipynb",
   "parameters": {},
   "start_time": "2020-12-28T13:22:35.645692",
   "version": "2.1.0"
  }
 },
 "nbformat": 4,
 "nbformat_minor": 4
}
