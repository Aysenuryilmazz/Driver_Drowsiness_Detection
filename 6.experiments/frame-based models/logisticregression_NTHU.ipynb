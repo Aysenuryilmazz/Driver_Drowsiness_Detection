{
 "cells": [
  {
   "cell_type": "code",
   "execution_count": 1,
   "metadata": {
    "_cell_guid": "b1076dfc-b9ad-4769-8c92-a6c4dae69d19",
    "_uuid": "8f2839f25d086af736a60e9eeb907d3b93b6e0e5",
    "execution": {
     "iopub.execute_input": "2020-11-03T17:03:21.012322Z",
     "iopub.status.busy": "2020-11-03T17:03:21.011198Z",
     "iopub.status.idle": "2020-11-03T17:03:22.310321Z",
     "shell.execute_reply": "2020-11-03T17:03:22.309493Z"
    },
    "papermill": {
     "duration": 1.32128,
     "end_time": "2020-11-03T17:03:22.310455",
     "exception": false,
     "start_time": "2020-11-03T17:03:20.989175",
     "status": "completed"
    },
    "tags": []
   },
   "outputs": [],
   "source": [
    "import os \n",
    "import pandas as pd\n",
    "import numpy as np\n",
    "\n",
    "# import sklearn methods \n",
    "from sklearn.metrics import accuracy_score, roc_curve, confusion_matrix, classification_report, roc_auc_score\n",
    "from sklearn.model_selection import train_test_split\n",
    "from sklearn.model_selection import StratifiedShuffleSplit\n",
    "from sklearn.model_selection import GridSearchCV\n",
    "import sys \n",
    "from sklearn.model_selection import learning_curve\n",
    "from sklearn.datasets import make_classification\n",
    "from sklearn.linear_model import LogisticRegression"
   ]
  },
  {
   "cell_type": "code",
   "execution_count": 2,
   "metadata": {
    "_cell_guid": "79c7e3d0-c299-4dcb-8224-4455121ee9b0",
    "_uuid": "d629ff2d2480ee46fbb7e2d37f6b5fab8052498a",
    "execution": {
     "iopub.execute_input": "2020-11-03T17:03:22.341679Z",
     "iopub.status.busy": "2020-11-03T17:03:22.340887Z",
     "iopub.status.idle": "2020-11-03T17:03:22.344300Z",
     "shell.execute_reply": "2020-11-03T17:03:22.343518Z"
    },
    "papermill": {
     "duration": 0.026393,
     "end_time": "2020-11-03T17:03:22.344423",
     "exception": false,
     "start_time": "2020-11-03T17:03:22.318030",
     "status": "completed"
    },
    "tags": []
   },
   "outputs": [],
   "source": [
    "def display_test_scores(test, pred):\n",
    "    str_out = \"\"\n",
    "    str_out += (\"TEST SCORES\\n\")\n",
    "    str_out += (\"\\n\")\n",
    "\n",
    "    #print accuracy\n",
    "    accuracy = accuracy_score(test, pred)\n",
    "    str_out += (\"ACCURACY: {:.4f}\\n\".format(accuracy))\n",
    "    str_out += (\"\\n\")\n",
    "\n",
    "    #print AUC score\n",
    "    auc = roc_auc_score(test, pred)\n",
    "    str_out += (\"AUC: {:.4f}\\n\".format(auc))\n",
    "    str_out += (\"\\n\")\n",
    "\n",
    "    #print confusion matrix\n",
    "    str_out += (\"CONFUSION MATRIX:\\n\")\n",
    "    conf_mat = confusion_matrix(test, pred)\n",
    "    str_out += (\"{}\".format(conf_mat))\n",
    "    str_out += (\"\\n\")\n",
    "    str_out += (\"\\n\")\n",
    "\n",
    "    #print FP, FN\n",
    "    str_out += (\"FALSE POSITIVES:\\n\")\n",
    "    fp = conf_mat[1][0]\n",
    "    pos_labels = conf_mat[1][0]+conf_mat[1][1]\n",
    "    str_out += (\"{} out of {} positive labels ({:.4f}%)\\n\".format(fp, pos_labels,fp/pos_labels))\n",
    "    str_out += (\"\\n\")\n",
    "\n",
    "    str_out += (\"FALSE NEGATIVES:\\n\")\n",
    "    fn = conf_mat[0][1]\n",
    "    neg_labels = conf_mat[0][1]+conf_mat[0][0]\n",
    "    str_out += (\"{} out of {} negative labels ({:.4f}%)\\n\".format(fn, neg_labels, fn/neg_labels))\n",
    "    str_out += (\"\\n\")\n",
    "\n",
    "    #print classification report\n",
    "    str_out += (\"PRECISION, RECALL, F1 scores:\\n\")\n",
    "    str_out += (\"{}\".format(classification_report(test, pred)))\n",
    "    \n",
    "    false_indexes = np.where(test != pred)\n",
    "    return str_out, false_indexes"
   ]
  },
  {
   "cell_type": "code",
   "execution_count": 3,
   "metadata": {
    "execution": {
     "iopub.execute_input": "2020-11-03T17:03:22.366949Z",
     "iopub.status.busy": "2020-11-03T17:03:22.366169Z",
     "iopub.status.idle": "2020-11-03T17:03:24.589201Z",
     "shell.execute_reply": "2020-11-03T17:03:24.589821Z"
    },
    "papermill": {
     "duration": 2.238226,
     "end_time": "2020-11-03T17:03:24.590012",
     "exception": false,
     "start_time": "2020-11-03T17:03:22.351786",
     "status": "completed"
    },
    "tags": []
   },
   "outputs": [],
   "source": [
    "################ not scaled dataset ###################\n",
    "df_original = pd.read_pickle('../input/logisticregression/final_step2.pkl/final_step2.pkl')\n",
    "\n",
    "X = df_original.loc[:, [\"n_EAR\", \n",
    "                    \"n_MAR\", \"n_MOE\", \"n_EC\",\n",
    "                    \"n_LEB\", \"n_SOP\", \"PERCLOS\", \"CLOSENESS\"]]\n",
    "\n",
    "y = df_original.loc[:, \"DROWSINESS\"]\n",
    "\n",
    "\n",
    "X_train, X_test, y_train, y_test = train_test_split(X, y, test_size = 0.2, stratify = y)"
   ]
  },
  {
   "cell_type": "code",
   "execution_count": 4,
   "metadata": {
    "execution": {
     "iopub.execute_input": "2020-11-03T17:03:24.613164Z",
     "iopub.status.busy": "2020-11-03T17:03:24.612342Z",
     "iopub.status.idle": "2020-11-03T17:03:25.257163Z",
     "shell.execute_reply": "2020-11-03T17:03:25.256428Z"
    },
    "papermill": {
     "duration": 0.659609,
     "end_time": "2020-11-03T17:03:25.257293",
     "exception": false,
     "start_time": "2020-11-03T17:03:24.597684",
     "status": "completed"
    },
    "tags": []
   },
   "outputs": [],
   "source": [
    "################ scaled dataset ###################\n",
    "df_original2 = pd.read_pickle('../input/logisticregression/final_step2_scaled.pkl/final_step2_scaled.pkl')\n",
    "\n",
    "X2 = df_original2.loc[:, [\"n_EAR\", \n",
    "                    \"n_MAR\", \"n_MOE\", \"n_EC\",\n",
    "                    \"n_LEB\", \"n_SOP\", \"PERCLOS\", \"CLOSENESS\"]]\n",
    "\n",
    "y2 = df_original2.loc[:, \"DROWSINESS\"]\n",
    "\n",
    "\n",
    "X_train2, X_test2, y_train2, y_test2 = train_test_split(X2, y2, test_size = 0.2, stratify = y2)"
   ]
  },
  {
   "cell_type": "code",
   "execution_count": 5,
   "metadata": {
    "execution": {
     "iopub.execute_input": "2020-11-03T17:03:25.281121Z",
     "iopub.status.busy": "2020-11-03T17:03:25.280138Z",
     "iopub.status.idle": "2020-11-03T17:03:25.284295Z",
     "shell.execute_reply": "2020-11-03T17:03:25.285226Z"
    },
    "papermill": {
     "duration": 0.020406,
     "end_time": "2020-11-03T17:03:25.285445",
     "exception": false,
     "start_time": "2020-11-03T17:03:25.265039",
     "status": "completed"
    },
    "tags": []
   },
   "outputs": [
    {
     "name": "stdout",
     "output_type": "stream",
     "text": [
      "dict_keys(['C', 'class_weight', 'dual', 'fit_intercept', 'intercept_scaling', 'l1_ratio', 'max_iter', 'multi_class', 'n_jobs', 'penalty', 'random_state', 'solver', 'tol', 'verbose', 'warm_start'])\n"
     ]
    }
   ],
   "source": [
    "# cross-validation with 5 splits\n",
    "cv = StratifiedShuffleSplit(n_splits=10, random_state = 42)\n",
    "\n",
    "# CART decision tree\n",
    "logistic_regression = LogisticRegression(random_state=0)\n",
    "print(logistic_regression.get_params().keys())\n",
    "\n",
    "# parameters \n",
    "parameters = {\n",
    "                \"C\": [0.01, 0.1, 1, 10, 100],\n",
    "                \"max_iter\": [1000,5000]\n",
    "                }"
   ]
  },
  {
   "cell_type": "code",
   "execution_count": 6,
   "metadata": {
    "execution": {
     "iopub.execute_input": "2020-11-03T17:03:25.312021Z",
     "iopub.status.busy": "2020-11-03T17:03:25.311252Z",
     "iopub.status.idle": "2020-11-03T17:06:02.170833Z",
     "shell.execute_reply": "2020-11-03T17:06:02.169815Z"
    },
    "papermill": {
     "duration": 156.876657,
     "end_time": "2020-11-03T17:06:02.171111",
     "exception": false,
     "start_time": "2020-11-03T17:03:25.294454",
     "status": "completed"
    },
    "tags": []
   },
   "outputs": [
    {
     "name": "stdout",
     "output_type": "stream",
     "text": [
      "The best parameters are {'C': 100, 'max_iter': 1000} with a score of 0.6690\n",
      "TEST SCORES\n",
      "\n",
      "ACCURACY: 0.6687\n",
      "\n",
      "AUC: 0.6357\n",
      "\n",
      "CONFUSION MATRIX:\n",
      "[[22629 28196]\n",
      " [12532 59562]]\n",
      "\n",
      "FALSE POSITIVES:\n",
      "12532 out of 72094 positive labels (0.1738%)\n",
      "\n",
      "FALSE NEGATIVES:\n",
      "28196 out of 50825 negative labels (0.5548%)\n",
      "\n",
      "PRECISION, RECALL, F1 scores:\n",
      "              precision    recall  f1-score   support\n",
      "\n",
      "           0       0.64      0.45      0.53     50825\n",
      "           1       0.68      0.83      0.75     72094\n",
      "\n",
      "    accuracy                           0.67    122919\n",
      "   macro avg       0.66      0.64      0.64    122919\n",
      "weighted avg       0.66      0.67      0.65    122919\n",
      "\n"
     ]
    }
   ],
   "source": [
    "# grid search for parameters\n",
    "grid = GridSearchCV(estimator=logistic_regression, param_grid=parameters, cv=cv, n_jobs=-1)\n",
    "grid.fit(X_train, y_train)\n",
    "\n",
    "# print best scores\n",
    "print(\"The best parameters are %s with a score of %0.4f\"\n",
    "      % (grid.best_params_, grid.best_score_))\n",
    "\n",
    "# prediction results\n",
    "y_pred = grid.predict(X_test)\n",
    "\n",
    "# print accuracy metrics\n",
    "results, false = display_test_scores(y_test, y_pred)\n",
    "print(results)"
   ]
  },
  {
   "cell_type": "code",
   "execution_count": 7,
   "metadata": {
    "execution": {
     "iopub.execute_input": "2020-11-03T17:06:02.207588Z",
     "iopub.status.busy": "2020-11-03T17:06:02.206264Z",
     "iopub.status.idle": "2020-11-03T17:07:11.673834Z",
     "shell.execute_reply": "2020-11-03T17:07:11.674563Z"
    },
    "papermill": {
     "duration": 69.490416,
     "end_time": "2020-11-03T17:07:11.674760",
     "exception": false,
     "start_time": "2020-11-03T17:06:02.184344",
     "status": "completed"
    },
    "tags": []
   },
   "outputs": [
    {
     "name": "stdout",
     "output_type": "stream",
     "text": [
      "The best parameters are {'C': 10, 'max_iter': 1000} with a score of 0.6683\n",
      "TEST SCORES\n",
      "\n",
      "ACCURACY: 0.6687\n",
      "\n",
      "AUC: 0.6354\n",
      "\n",
      "CONFUSION MATRIX:\n",
      "[[22519 28306]\n",
      " [12419 59675]]\n",
      "\n",
      "FALSE POSITIVES:\n",
      "12419 out of 72094 positive labels (0.1723%)\n",
      "\n",
      "FALSE NEGATIVES:\n",
      "28306 out of 50825 negative labels (0.5569%)\n",
      "\n",
      "PRECISION, RECALL, F1 scores:\n",
      "              precision    recall  f1-score   support\n",
      "\n",
      "           0       0.64      0.44      0.53     50825\n",
      "           1       0.68      0.83      0.75     72094\n",
      "\n",
      "    accuracy                           0.67    122919\n",
      "   macro avg       0.66      0.64      0.64    122919\n",
      "weighted avg       0.66      0.67      0.65    122919\n",
      "\n"
     ]
    }
   ],
   "source": [
    "# grid search for parameters\n",
    "grid2 = GridSearchCV(estimator=logistic_regression, param_grid=parameters, cv=cv, n_jobs=-1)\n",
    "grid2.fit(X_train2, y_train2)\n",
    "\n",
    "# print best scores\n",
    "print(\"The best parameters are %s with a score of %0.4f\"\n",
    "      % (grid2.best_params_, grid2.best_score_))\n",
    "\n",
    "# prediction results\n",
    "y_pred2 = grid2.predict(X_test2)\n",
    "\n",
    "# print accuracy metrics\n",
    "results2, false2 = display_test_scores(y_test2, y_pred2)\n",
    "print(results2)"
   ]
  }
 ],
 "metadata": {
  "kernelspec": {
   "display_name": "Python 3",
   "language": "python",
   "name": "python3"
  },
  "language_info": {
   "codemirror_mode": {
    "name": "ipython",
    "version": 3
   },
   "file_extension": ".py",
   "mimetype": "text/x-python",
   "name": "python",
   "nbconvert_exporter": "python",
   "pygments_lexer": "ipython3",
   "version": "3.7.6"
  },
  "papermill": {
   "duration": 235.919779,
   "end_time": "2020-11-03T17:07:11.806946",
   "environment_variables": {},
   "exception": null,
   "input_path": "__notebook__.ipynb",
   "output_path": "__notebook__.ipynb",
   "parameters": {},
   "start_time": "2020-11-03T17:03:15.887167",
   "version": "2.1.0"
  }
 },
 "nbformat": 4,
 "nbformat_minor": 4
}
