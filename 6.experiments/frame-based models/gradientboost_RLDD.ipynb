{
 "cells": [
  {
   "cell_type": "code",
   "execution_count": 1,
   "metadata": {
    "_cell_guid": "b1076dfc-b9ad-4769-8c92-a6c4dae69d19",
    "_uuid": "8f2839f25d086af736a60e9eeb907d3b93b6e0e5",
    "execution": {
     "iopub.execute_input": "2020-12-30T20:56:40.640683Z",
     "iopub.status.busy": "2020-12-30T20:56:40.640007Z",
     "iopub.status.idle": "2020-12-30T20:56:42.055341Z",
     "shell.execute_reply": "2020-12-30T20:56:42.054071Z"
    },
    "papermill": {
     "duration": 1.42293,
     "end_time": "2020-12-30T20:56:42.055562",
     "exception": false,
     "start_time": "2020-12-30T20:56:40.632632",
     "status": "completed"
    },
    "tags": []
   },
   "outputs": [],
   "source": [
    "import os \n",
    "import pandas as pd\n",
    "import numpy as np \n",
    "from sklearn.metrics import accuracy_score, roc_curve, confusion_matrix, classification_report, roc_auc_score\n",
    "from sklearn.model_selection import train_test_split\n",
    "from sklearn.model_selection import StratifiedShuffleSplit\n",
    "from sklearn.model_selection import GridSearchCV\n",
    "import sys \n",
    "from sklearn.model_selection import learning_curve\n",
    "from sklearn.datasets import make_classification\n",
    "from sklearn.preprocessing import StandardScaler\n",
    "from sklearn.ensemble import GradientBoostingClassifier"
   ]
  },
  {
   "cell_type": "code",
   "execution_count": 2,
   "metadata": {
    "_cell_guid": "79c7e3d0-c299-4dcb-8224-4455121ee9b0",
    "_uuid": "d629ff2d2480ee46fbb7e2d37f6b5fab8052498a",
    "collapsed": true,
    "execution": {
     "iopub.execute_input": "2020-12-30T20:56:42.075764Z",
     "iopub.status.busy": "2020-12-30T20:56:42.075160Z",
     "iopub.status.idle": "2020-12-30T20:56:42.078542Z",
     "shell.execute_reply": "2020-12-30T20:56:42.078032Z"
    },
    "papermill": {
     "duration": 0.017962,
     "end_time": "2020-12-30T20:56:42.078647",
     "exception": false,
     "start_time": "2020-12-30T20:56:42.060685",
     "status": "completed"
    },
    "tags": []
   },
   "outputs": [],
   "source": [
    "# display test scores and return result string and indexes of false samples\n",
    "def display_test_scores(test, pred):\n",
    "    str_out = \"\"\n",
    "    str_out += (\"TEST SCORES\\n\")\n",
    "    str_out += (\"\\n\")\n",
    "\n",
    "    #print accuracy\n",
    "    accuracy = accuracy_score(test, pred)\n",
    "    str_out += (\"ACCURACY: {:.4f}\\n\".format(accuracy))\n",
    "    str_out += (\"\\n\")\n",
    "\n",
    "    \n",
    "\n",
    "    #print confusion matrix\n",
    "    str_out += (\"CONFUSION MATRIX:\\n\")\n",
    "    conf_mat = confusion_matrix(test, pred)\n",
    "    str_out += (\"{}\".format(conf_mat))\n",
    "    str_out += (\"\\n\")\n",
    "    str_out += (\"\\n\")\n",
    "\n",
    "    #print FP, FN\n",
    "    str_out += (\"FALSE POSITIVES:\\n\")\n",
    "    fp = conf_mat[1][0]\n",
    "    pos_labels = conf_mat[1][0]+conf_mat[1][1]\n",
    "    str_out += (\"{} out of {} positive labels ({:.4f}%)\\n\".format(fp, pos_labels,fp/pos_labels))\n",
    "    str_out += (\"\\n\")\n",
    "\n",
    "    str_out += (\"FALSE NEGATIVES:\\n\")\n",
    "    fn = conf_mat[0][1]\n",
    "    neg_labels = conf_mat[0][1]+conf_mat[0][0]\n",
    "    str_out += (\"{} out of {} negative labels ({:.4f}%)\\n\".format(fn, neg_labels, fn/neg_labels))\n",
    "    str_out += (\"\\n\")\n",
    "\n",
    "    #print classification report\n",
    "    str_out += (\"PRECISION, RECALL, F1 scores:\\n\")\n",
    "    str_out += (\"{}\".format(classification_report(test, pred)))\n",
    "    \n",
    "    false_indexes = np.where(test != pred)\n",
    "    return str_out, false_indexes"
   ]
  },
  {
   "cell_type": "code",
   "execution_count": 3,
   "metadata": {
    "execution": {
     "iopub.execute_input": "2020-12-30T20:56:42.095728Z",
     "iopub.status.busy": "2020-12-30T20:56:42.095045Z",
     "iopub.status.idle": "2020-12-30T20:56:47.777008Z",
     "shell.execute_reply": "2020-12-30T20:56:47.776425Z"
    },
    "papermill": {
     "duration": 5.69245,
     "end_time": "2020-12-30T20:56:47.777124",
     "exception": false,
     "start_time": "2020-12-30T20:56:42.084674",
     "status": "completed"
    },
    "tags": []
   },
   "outputs": [],
   "source": [
    "################ rldd_normalized_scaled dataset ###################\n",
    "df_original = pd.read_pickle('../input/rlddandmerged/rldd_normalized_scaled.pkl')\n",
    "\n",
    "X = df_original.loc[:, [\"n_EAR\", \n",
    "                    \"n_MAR\", \"n_MOE\", \"n_EC\",\n",
    "                    \"n_LEB\", \"n_SOP\", \"PERCLOS\", \"CLOSENESS\"]]\n",
    "\n",
    "### encode y values to multiclass ###\n",
    "y = df_original.loc[:, \"DROWSINESS\"]\n",
    "y = y.map({0: 0, 0.5: 1, 1:2})\n",
    "df_original.loc[:, \"DROWSINESS\"] = y\n",
    "\n",
    "y_f = df_original.loc[:, \"DROWSINESS\"]\n",
    "\n",
    "\n",
    "X_train, X_test, y_train, y_test = train_test_split(X, y_f, test_size = 0.2, stratify = y)"
   ]
  },
  {
   "cell_type": "code",
   "execution_count": 4,
   "metadata": {
    "execution": {
     "iopub.execute_input": "2020-12-30T20:56:47.790417Z",
     "iopub.status.busy": "2020-12-30T20:56:47.789476Z",
     "iopub.status.idle": "2020-12-30T20:56:47.794071Z",
     "shell.execute_reply": "2020-12-30T20:56:47.794464Z"
    },
    "papermill": {
     "duration": 0.012894,
     "end_time": "2020-12-30T20:56:47.794598",
     "exception": false,
     "start_time": "2020-12-30T20:56:47.781704",
     "status": "completed"
    },
    "tags": []
   },
   "outputs": [],
   "source": [
    "# cross-validation with 5 splits\n",
    "cv = StratifiedShuffleSplit(n_splits=5, random_state = 42)\n",
    "#creating an AdaBoost instance\n",
    "gbc = GradientBoostingClassifier(random_state=0)\n",
    "\n",
    "# parameters \n",
    "parameters = {\n",
    "    \n",
    "                #\"max_features\": [None, \"sqrt\", \"log2\"],\n",
    "                #\"n_estimators\": [10, 50],\n",
    "                #\"subsample\": [0.6, 0.8, 1],\n",
    "                #\"max_depth\": [5, 7]\n",
    "}"
   ]
  },
  {
   "cell_type": "code",
   "execution_count": 5,
   "metadata": {
    "execution": {
     "iopub.execute_input": "2020-12-30T20:56:47.805706Z",
     "iopub.status.busy": "2020-12-30T20:56:47.804814Z",
     "iopub.status.idle": "2020-12-30T23:46:56.158728Z",
     "shell.execute_reply": "2020-12-30T23:46:56.159694Z"
    },
    "papermill": {
     "duration": 10208.361496,
     "end_time": "2020-12-30T23:46:56.160044",
     "exception": false,
     "start_time": "2020-12-30T20:56:47.798548",
     "status": "completed"
    },
    "tags": []
   },
   "outputs": [
    {
     "name": "stdout",
     "output_type": "stream",
     "text": [
      "The best parameters are {} with a score of 0.6683\n",
      "TEST SCORES\n",
      "\n",
      "ACCURACY: 0.6687\n",
      "\n",
      "CONFUSION MATRIX:\n",
      "[[157194  24196  17494]\n",
      " [ 53079 104610  40631]\n",
      " [ 30366  33072 139455]]\n",
      "\n",
      "FALSE POSITIVES:\n",
      "53079 out of 157689 positive labels (0.3366%)\n",
      "\n",
      "FALSE NEGATIVES:\n",
      "24196 out of 181390 negative labels (0.1334%)\n",
      "\n",
      "PRECISION, RECALL, F1 scores:\n",
      "              precision    recall  f1-score   support\n",
      "\n",
      "           0       0.65      0.79      0.72    198884\n",
      "           1       0.65      0.53      0.58    198320\n",
      "           2       0.71      0.69      0.70    202893\n",
      "\n",
      "    accuracy                           0.67    600097\n",
      "   macro avg       0.67      0.67      0.66    600097\n",
      "weighted avg       0.67      0.67      0.66    600097\n",
      "\n"
     ]
    }
   ],
   "source": [
    "\n",
    "# grid search for parameters\n",
    "grid = GridSearchCV(estimator=gbc, param_grid=parameters, cv=cv, n_jobs=-1)\n",
    "grid.fit(X_train, y_train)\n",
    "\n",
    "# print best scores\n",
    "print(\"The best parameters are %s with a score of %0.4f\"\n",
    "      % (grid.best_params_, grid.best_score_))\n",
    "\n",
    "# prediction results\n",
    "y_pred = grid.predict(X_test)\n",
    "\n",
    "# print accuracy metrics\n",
    "results, false = display_test_scores(y_test, y_pred)\n",
    "print(results)"
   ]
  }
 ],
 "metadata": {
  "kernelspec": {
   "display_name": "Python 3",
   "language": "python",
   "name": "python3"
  },
  "language_info": {
   "codemirror_mode": {
    "name": "ipython",
    "version": 3
   },
   "file_extension": ".py",
   "mimetype": "text/x-python",
   "name": "python",
   "nbconvert_exporter": "python",
   "pygments_lexer": "ipython3",
   "version": "3.7.6"
  },
  "papermill": {
   "duration": 10220.359983,
   "end_time": "2020-12-30T23:46:56.275244",
   "environment_variables": {},
   "exception": null,
   "input_path": "__notebook__.ipynb",
   "output_path": "__notebook__.ipynb",
   "parameters": {},
   "start_time": "2020-12-30T20:56:35.915261",
   "version": "2.1.0"
  }
 },
 "nbformat": 4,
 "nbformat_minor": 4
}
