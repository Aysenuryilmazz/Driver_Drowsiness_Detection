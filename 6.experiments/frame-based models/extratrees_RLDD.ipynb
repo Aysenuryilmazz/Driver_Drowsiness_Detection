{
 "cells": [
  {
   "cell_type": "code",
   "execution_count": 1,
   "metadata": {
    "_cell_guid": "b1076dfc-b9ad-4769-8c92-a6c4dae69d19",
    "_uuid": "8f2839f25d086af736a60e9eeb907d3b93b6e0e5",
    "execution": {
     "iopub.execute_input": "2021-01-06T06:00:54.335072Z",
     "iopub.status.busy": "2021-01-06T06:00:54.334339Z",
     "iopub.status.idle": "2021-01-06T06:00:55.652560Z",
     "shell.execute_reply": "2021-01-06T06:00:55.651592Z"
    },
    "papermill": {
     "duration": 1.32732,
     "end_time": "2021-01-06T06:00:55.652693",
     "exception": false,
     "start_time": "2021-01-06T06:00:54.325373",
     "status": "completed"
    },
    "tags": []
   },
   "outputs": [],
   "source": [
    "import os \n",
    "import pandas as pd\n",
    "import numpy as np\n",
    "\n",
    "# import sklearn methods \n",
    "from sklearn.metrics import accuracy_score, roc_curve, confusion_matrix, classification_report, roc_auc_score\n",
    "from sklearn.model_selection import train_test_split\n",
    "from sklearn.model_selection import StratifiedShuffleSplit\n",
    "from sklearn.model_selection import GridSearchCV\n",
    "import sys \n",
    "from sklearn.model_selection import learning_curve\n",
    "from sklearn.datasets import make_classification\n",
    "from sklearn.ensemble import ExtraTreesClassifier"
   ]
  },
  {
   "cell_type": "code",
   "execution_count": 2,
   "metadata": {
    "_cell_guid": "79c7e3d0-c299-4dcb-8224-4455121ee9b0",
    "_uuid": "d629ff2d2480ee46fbb7e2d37f6b5fab8052498a",
    "execution": {
     "iopub.execute_input": "2021-01-06T06:00:55.679355Z",
     "iopub.status.busy": "2021-01-06T06:00:55.678327Z",
     "iopub.status.idle": "2021-01-06T06:00:55.681834Z",
     "shell.execute_reply": "2021-01-06T06:00:55.681234Z"
    },
    "papermill": {
     "duration": 0.021506,
     "end_time": "2021-01-06T06:00:55.681975",
     "exception": false,
     "start_time": "2021-01-06T06:00:55.660469",
     "status": "completed"
    },
    "tags": []
   },
   "outputs": [],
   "source": [
    "def display_test_scores(test, pred):\n",
    "    str_out = \"\"\n",
    "    str_out += (\"TEST SCORES\\n\")\n",
    "    str_out += (\"\\n\")\n",
    "\n",
    "    #print accuracy\n",
    "    accuracy = accuracy_score(test, pred)\n",
    "    str_out += (\"ACCURACY: {:.4f}\\n\".format(accuracy))\n",
    "    str_out += (\"\\n\")\n",
    "\n",
    "\n",
    "    #print confusion matrix\n",
    "    str_out += (\"CONFUSION MATRIX:\\n\")\n",
    "    conf_mat = confusion_matrix(test, pred)\n",
    "    str_out += (\"{}\".format(conf_mat))\n",
    "    str_out += (\"\\n\")\n",
    "    str_out += (\"\\n\")\n",
    "\n",
    "    #print FP, FN\n",
    "    str_out += (\"FALSE POSITIVES:\\n\")\n",
    "    fp = conf_mat[1][0]\n",
    "    pos_labels = conf_mat[1][0]+conf_mat[1][1]\n",
    "    str_out += (\"{} out of {} positive labels ({:.4f}%)\\n\".format(fp, pos_labels,fp/pos_labels))\n",
    "    str_out += (\"\\n\")\n",
    "\n",
    "    str_out += (\"FALSE NEGATIVES:\\n\")\n",
    "    fn = conf_mat[0][1]\n",
    "    neg_labels = conf_mat[0][1]+conf_mat[0][0]\n",
    "    str_out += (\"{} out of {} negative labels ({:.4f}%)\\n\".format(fn, neg_labels, fn/neg_labels))\n",
    "    str_out += (\"\\n\")\n",
    "\n",
    "    #print classification report\n",
    "    str_out += (\"PRECISION, RECALL, F1 scores:\\n\")\n",
    "    str_out += (\"{}\".format(classification_report(test, pred)))\n",
    "    \n",
    "    false_indexes = np.where(test != pred)\n",
    "    return str_out, false_indexes"
   ]
  },
  {
   "cell_type": "code",
   "execution_count": 3,
   "metadata": {
    "execution": {
     "iopub.execute_input": "2021-01-06T06:00:55.700913Z",
     "iopub.status.busy": "2021-01-06T06:00:55.700191Z",
     "iopub.status.idle": "2021-01-06T06:01:02.994217Z",
     "shell.execute_reply": "2021-01-06T06:01:02.992467Z"
    },
    "papermill": {
     "duration": 7.307243,
     "end_time": "2021-01-06T06:01:02.994355",
     "exception": false,
     "start_time": "2021-01-06T06:00:55.687112",
     "status": "completed"
    },
    "tags": []
   },
   "outputs": [],
   "source": [
    "################ scaled dataset ###################\n",
    "df_original2 = pd.read_pickle('../input/rlddandmerged/rldd_normalized_scaled.pkl')\n",
    "\n",
    "X2 = df_original2.loc[:, [\"n_EAR\", \n",
    "                    \"n_MAR\", \"n_MOE\", \"n_EC\",\n",
    "                    \"n_LEB\", \"n_SOP\", \"PERCLOS\", \"CLOSENESS\"]]\n",
    "\n",
    "y2 = df_original2.loc[:, \"DROWSINESS\"]\n",
    "y2 = y2.map({0: 0, 0.5: 1, 1:2})\n",
    "df_original2.loc[:, \"DROWSINESS\"] = y2\n",
    "\n",
    "y2_f = df_original2.loc[:, \"DROWSINESS\"]\n",
    "\n",
    "\n",
    "X_train2, X_test2, y_train2, y_test2 = train_test_split(X2, y2_f, test_size = 0.2, stratify = y2)"
   ]
  },
  {
   "cell_type": "code",
   "execution_count": 4,
   "metadata": {
    "execution": {
     "iopub.execute_input": "2021-01-06T06:01:03.014178Z",
     "iopub.status.busy": "2021-01-06T06:01:03.012858Z",
     "iopub.status.idle": "2021-01-06T06:01:03.015005Z",
     "shell.execute_reply": "2021-01-06T06:01:03.015554Z"
    },
    "papermill": {
     "duration": 0.016063,
     "end_time": "2021-01-06T06:01:03.015720",
     "exception": false,
     "start_time": "2021-01-06T06:01:02.999657",
     "status": "completed"
    },
    "tags": []
   },
   "outputs": [],
   "source": [
    "# cross-validation with 5 splits\n",
    "cv = StratifiedShuffleSplit(n_splits=10, random_state = 42)\n",
    "\n",
    "# CART decision tree\n",
    "extra_trees = ExtraTreesClassifier(random_state=0)\n",
    "\n",
    "\n",
    "# parameters \n",
    "parameters = {\n",
    "                #\"max_features\": [None, \"sqrt\"],\n",
    "                #\"class_weight\": [None, \"balanced_subsample\"],\n",
    "                #\"max_samples\": [0.3, 0.7],\n",
    "                \"n_estimators\": [10]\n",
    "                }"
   ]
  },
  {
   "cell_type": "code",
   "execution_count": 5,
   "metadata": {
    "execution": {
     "iopub.execute_input": "2021-01-06T06:01:03.036790Z",
     "iopub.status.busy": "2021-01-06T06:01:03.036053Z",
     "iopub.status.idle": "2021-01-06T06:05:57.835784Z",
     "shell.execute_reply": "2021-01-06T06:05:57.837201Z"
    },
    "papermill": {
     "duration": 294.815126,
     "end_time": "2021-01-06T06:05:57.837394",
     "exception": false,
     "start_time": "2021-01-06T06:01:03.022268",
     "status": "completed"
    },
    "tags": []
   },
   "outputs": [
    {
     "name": "stdout",
     "output_type": "stream",
     "text": [
      "The best parameters are {'n_estimators': 10} with a score of 0.8351\n",
      "TEST SCORES\n",
      "\n",
      "ACCURACY: 0.8393\n",
      "\n",
      "CONFUSION MATRIX:\n",
      "[[176125  13288   9471]\n",
      " [ 25184 159110  14026]\n",
      " [ 17506  16952 168435]]\n",
      "\n",
      "FALSE POSITIVES:\n",
      "25184 out of 184294 positive labels (0.1367%)\n",
      "\n",
      "FALSE NEGATIVES:\n",
      "13288 out of 189413 negative labels (0.0702%)\n",
      "\n",
      "PRECISION, RECALL, F1 scores:\n",
      "              precision    recall  f1-score   support\n",
      "\n",
      "           0       0.80      0.89      0.84    198884\n",
      "           1       0.84      0.80      0.82    198320\n",
      "           2       0.88      0.83      0.85    202893\n",
      "\n",
      "    accuracy                           0.84    600097\n",
      "   macro avg       0.84      0.84      0.84    600097\n",
      "weighted avg       0.84      0.84      0.84    600097\n",
      "\n"
     ]
    }
   ],
   "source": [
    "# grid search for parameters\n",
    "grid2 = GridSearchCV(estimator=extra_trees, param_grid=parameters, cv=cv, n_jobs=-1)\n",
    "grid2.fit(X_train2, y_train2)\n",
    "\n",
    "# print best scores\n",
    "print(\"The best parameters are %s with a score of %0.4f\"\n",
    "      % (grid2.best_params_, grid2.best_score_))\n",
    "\n",
    "# prediction results\n",
    "y_pred2 = grid2.predict(X_test2)\n",
    "\n",
    "# print accuracy metrics\n",
    "results2, false2 = display_test_scores(y_test2, y_pred2)\n",
    "print(results2)"
   ]
  }
 ],
 "metadata": {
  "kernelspec": {
   "display_name": "Python 3",
   "language": "python",
   "name": "python3"
  },
  "language_info": {
   "codemirror_mode": {
    "name": "ipython",
    "version": 3
   },
   "file_extension": ".py",
   "mimetype": "text/x-python",
   "name": "python",
   "nbconvert_exporter": "python",
   "pygments_lexer": "ipython3",
   "version": "3.7.6"
  },
  "papermill": {
   "duration": 308.481702,
   "end_time": "2021-01-06T06:05:57.965608",
   "environment_variables": {},
   "exception": null,
   "input_path": "__notebook__.ipynb",
   "output_path": "__notebook__.ipynb",
   "parameters": {},
   "start_time": "2021-01-06T06:00:49.483906",
   "version": "2.1.0"
  }
 },
 "nbformat": 4,
 "nbformat_minor": 4
}
