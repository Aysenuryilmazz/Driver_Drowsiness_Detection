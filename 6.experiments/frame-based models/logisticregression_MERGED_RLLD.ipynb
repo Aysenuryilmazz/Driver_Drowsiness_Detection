{
 "cells": [
  {
   "cell_type": "code",
   "execution_count": 1,
   "metadata": {
    "_cell_guid": "b1076dfc-b9ad-4769-8c92-a6c4dae69d19",
    "_uuid": "8f2839f25d086af736a60e9eeb907d3b93b6e0e5",
    "execution": {
     "iopub.execute_input": "2020-12-29T20:47:46.871062Z",
     "iopub.status.busy": "2020-12-29T20:47:46.870308Z",
     "iopub.status.idle": "2020-12-29T20:47:48.115013Z",
     "shell.execute_reply": "2020-12-29T20:47:48.114201Z"
    },
    "papermill": {
     "duration": 1.260543,
     "end_time": "2020-12-29T20:47:48.115200",
     "exception": false,
     "start_time": "2020-12-29T20:47:46.854657",
     "status": "completed"
    },
    "tags": []
   },
   "outputs": [],
   "source": [
    "import os \n",
    "import pandas as pd\n",
    "import numpy as np\n",
    "\n",
    "# import sklearn methods \n",
    "from sklearn.metrics import accuracy_score, roc_curve, confusion_matrix, classification_report, roc_auc_score\n",
    "from sklearn.model_selection import train_test_split\n",
    "from sklearn.model_selection import StratifiedShuffleSplit\n",
    "from sklearn.model_selection import GridSearchCV\n",
    "import sys \n",
    "from sklearn.model_selection import learning_curve\n",
    "from sklearn.datasets import make_classification\n",
    "from sklearn.linear_model import LogisticRegression"
   ]
  },
  {
   "cell_type": "code",
   "execution_count": 2,
   "metadata": {
    "_cell_guid": "79c7e3d0-c299-4dcb-8224-4455121ee9b0",
    "_uuid": "d629ff2d2480ee46fbb7e2d37f6b5fab8052498a",
    "execution": {
     "iopub.execute_input": "2020-12-29T20:47:48.146087Z",
     "iopub.status.busy": "2020-12-29T20:47:48.145313Z",
     "iopub.status.idle": "2020-12-29T20:47:48.148684Z",
     "shell.execute_reply": "2020-12-29T20:47:48.148051Z"
    },
    "papermill": {
     "duration": 0.025496,
     "end_time": "2020-12-29T20:47:48.148818",
     "exception": false,
     "start_time": "2020-12-29T20:47:48.123322",
     "status": "completed"
    },
    "tags": []
   },
   "outputs": [],
   "source": [
    "def display_test_scores(test, pred):\n",
    "    str_out = \"\"\n",
    "    str_out += (\"TEST SCORES\\n\")\n",
    "    str_out += (\"\\n\")\n",
    "\n",
    "    #print accuracy\n",
    "    accuracy = accuracy_score(test, pred)\n",
    "    str_out += (\"ACCURACY: {:.4f}\\n\".format(accuracy))\n",
    "    str_out += (\"\\n\")\n",
    "\n",
    "\n",
    "    #print confusion matrix\n",
    "    str_out += (\"CONFUSION MATRIX:\\n\")\n",
    "    conf_mat = confusion_matrix(test, pred)\n",
    "    str_out += (\"{}\".format(conf_mat))\n",
    "    str_out += (\"\\n\")\n",
    "    str_out += (\"\\n\")\n",
    "\n",
    "    #print FP, FN\n",
    "    str_out += (\"FALSE POSITIVES:\\n\")\n",
    "    fp = conf_mat[1][0]\n",
    "    pos_labels = conf_mat[1][0]+conf_mat[1][1]\n",
    "    str_out += (\"{} out of {} positive labels ({:.4f}%)\\n\".format(fp, pos_labels,fp/pos_labels))\n",
    "    str_out += (\"\\n\")\n",
    "\n",
    "    str_out += (\"FALSE NEGATIVES:\\n\")\n",
    "    fn = conf_mat[0][1]\n",
    "    neg_labels = conf_mat[0][1]+conf_mat[0][0]\n",
    "    str_out += (\"{} out of {} negative labels ({:.4f}%)\\n\".format(fn, neg_labels, fn/neg_labels))\n",
    "    str_out += (\"\\n\")\n",
    "\n",
    "    #print classification report\n",
    "    str_out += (\"PRECISION, RECALL, F1 scores:\\n\")\n",
    "    str_out += (\"{}\".format(classification_report(test, pred)))\n",
    "    \n",
    "    false_indexes = np.where(test != pred)\n",
    "    return str_out, false_indexes"
   ]
  },
  {
   "cell_type": "code",
   "execution_count": 3,
   "metadata": {
    "execution": {
     "iopub.execute_input": "2020-12-29T20:47:48.173143Z",
     "iopub.status.busy": "2020-12-29T20:47:48.172361Z",
     "iopub.status.idle": "2020-12-29T20:47:57.831764Z",
     "shell.execute_reply": "2020-12-29T20:47:57.831136Z"
    },
    "papermill": {
     "duration": 9.675747,
     "end_time": "2020-12-29T20:47:57.831899",
     "exception": false,
     "start_time": "2020-12-29T20:47:48.156152",
     "status": "completed"
    },
    "tags": []
   },
   "outputs": [],
   "source": [
    "################ not scaled dataset ###################\n",
    "df_original = pd.read_pickle('../input/rlddandmerged/merged_normalized_scaled.pkl')\n",
    "\n",
    "X = df_original.loc[:, [\"n_EAR\", \n",
    "                    \"n_MAR\", \"n_MOE\", \"n_EC\",\n",
    "                    \"n_LEB\", \"n_SOP\", \"PERCLOS\", \"CLOSENESS\"]]\n",
    "\n",
    "\n",
    "y = df_original.loc[:, \"DROWSINESS\"]\n",
    "y = y.map({0: 0, 0.5: 1, 1:2})\n",
    "df_original.loc[:, \"DROWSINESS\"] = y\n",
    "\n",
    "\n",
    "y = df_original.loc[:, \"DROWSINESS\"]\n",
    "\n",
    "\n",
    "X_train, X_test, y_train, y_test = train_test_split(X, y, test_size = 0.2, stratify = y)"
   ]
  },
  {
   "cell_type": "code",
   "execution_count": 4,
   "metadata": {
    "execution": {
     "iopub.execute_input": "2020-12-29T20:47:57.856731Z",
     "iopub.status.busy": "2020-12-29T20:47:57.855942Z",
     "iopub.status.idle": "2020-12-29T20:48:04.812194Z",
     "shell.execute_reply": "2020-12-29T20:48:04.811562Z"
    },
    "papermill": {
     "duration": 6.972772,
     "end_time": "2020-12-29T20:48:04.812333",
     "exception": false,
     "start_time": "2020-12-29T20:47:57.839561",
     "status": "completed"
    },
    "tags": []
   },
   "outputs": [],
   "source": [
    "################ scaled dataset ###################\n",
    "df_original2 = pd.read_pickle('../input/rlddandmerged/rldd_normalized_scaled.pkl')\n",
    "\n",
    "X2 = df_original2.loc[:, [\"n_EAR\", \n",
    "                    \"n_MAR\", \"n_MOE\", \"n_EC\",\n",
    "                    \"n_LEB\", \"n_SOP\", \"PERCLOS\", \"CLOSENESS\"]]\n",
    "\n",
    "\n",
    "y2 = df_original2.loc[:, \"DROWSINESS\"]\n",
    "y2 = y2.map({0: 0, 0.5: 1, 1:2})\n",
    "df_original2.loc[:, \"DROWSINESS\"] = y2\n",
    "\n",
    "\n",
    "y2 = df_original2.loc[:, \"DROWSINESS\"]\n",
    "\n",
    "\n",
    "X_train2, X_test2, y_train2, y_test2 = train_test_split(X2, y2, test_size = 0.2, stratify = y2)"
   ]
  },
  {
   "cell_type": "code",
   "execution_count": 5,
   "metadata": {
    "execution": {
     "iopub.execute_input": "2020-12-29T20:48:04.836031Z",
     "iopub.status.busy": "2020-12-29T20:48:04.835156Z",
     "iopub.status.idle": "2020-12-29T20:48:04.839841Z",
     "shell.execute_reply": "2020-12-29T20:48:04.839023Z"
    },
    "papermill": {
     "duration": 0.019995,
     "end_time": "2020-12-29T20:48:04.839999",
     "exception": false,
     "start_time": "2020-12-29T20:48:04.820004",
     "status": "completed"
    },
    "tags": []
   },
   "outputs": [
    {
     "name": "stdout",
     "output_type": "stream",
     "text": [
      "dict_keys(['C', 'class_weight', 'dual', 'fit_intercept', 'intercept_scaling', 'l1_ratio', 'max_iter', 'multi_class', 'n_jobs', 'penalty', 'random_state', 'solver', 'tol', 'verbose', 'warm_start'])\n"
     ]
    }
   ],
   "source": [
    "# cross-validation with 5 splits\n",
    "cv = StratifiedShuffleSplit(n_splits=10, random_state = 42)\n",
    "\n",
    "# CART decision tree\n",
    "logistic_regression = LogisticRegression(random_state=0)\n",
    "print(logistic_regression.get_params().keys())\n",
    "\n",
    "# parameters \n",
    "parameters = {\n",
    "                \"C\": [0.01, 0.1, 1, 10, 100],\n",
    "                \"max_iter\": [1000,5000]\n",
    "                }"
   ]
  },
  {
   "cell_type": "code",
   "execution_count": 6,
   "metadata": {
    "execution": {
     "iopub.execute_input": "2020-12-29T20:48:04.866089Z",
     "iopub.status.busy": "2020-12-29T20:48:04.865350Z",
     "iopub.status.idle": "2020-12-29T21:20:53.122406Z",
     "shell.execute_reply": "2020-12-29T21:20:53.121572Z"
    },
    "papermill": {
     "duration": 1968.273349,
     "end_time": "2020-12-29T21:20:53.122562",
     "exception": false,
     "start_time": "2020-12-29T20:48:04.849213",
     "status": "completed"
    },
    "tags": []
   },
   "outputs": [
    {
     "name": "stdout",
     "output_type": "stream",
     "text": [
      "The best parameters are {'C': 100, 'max_iter': 1000} with a score of 0.5137\n",
      "TEST SCORES\n",
      "\n",
      "ACCURACY: 0.5136\n",
      "\n",
      "CONFUSION MATRIX:\n",
      "[[185627   5985  58097]\n",
      " [110728  24453  63139]\n",
      " [ 95170  18539 161278]]\n",
      "\n",
      "FALSE POSITIVES:\n",
      "110728 out of 135181 positive labels (0.8191%)\n",
      "\n",
      "FALSE NEGATIVES:\n",
      "5985 out of 191612 negative labels (0.0312%)\n",
      "\n",
      "PRECISION, RECALL, F1 scores:\n",
      "              precision    recall  f1-score   support\n",
      "\n",
      "           0       0.47      0.74      0.58    249709\n",
      "           1       0.50      0.12      0.20    198320\n",
      "           2       0.57      0.59      0.58    274987\n",
      "\n",
      "    accuracy                           0.51    723016\n",
      "   macro avg       0.51      0.48      0.45    723016\n",
      "weighted avg       0.52      0.51      0.47    723016\n",
      "\n"
     ]
    }
   ],
   "source": [
    "# grid search for parameters\n",
    "grid = GridSearchCV(estimator=logistic_regression, param_grid=parameters, cv=cv, n_jobs=-1)\n",
    "grid.fit(X_train, y_train)\n",
    "\n",
    "# print best scores\n",
    "print(\"The best parameters are %s with a score of %0.4f\"\n",
    "      % (grid.best_params_, grid.best_score_))\n",
    "\n",
    "# prediction results\n",
    "y_pred = grid.predict(X_test)\n",
    "\n",
    "# print accuracy metrics\n",
    "results, false = display_test_scores(y_test, y_pred)\n",
    "print(results)"
   ]
  },
  {
   "cell_type": "code",
   "execution_count": 7,
   "metadata": {
    "execution": {
     "iopub.execute_input": "2020-12-29T21:20:53.152789Z",
     "iopub.status.busy": "2020-12-29T21:20:53.151085Z",
     "iopub.status.idle": "2020-12-29T21:56:56.766414Z",
     "shell.execute_reply": "2020-12-29T21:56:56.765381Z"
    },
    "papermill": {
     "duration": 2163.634348,
     "end_time": "2020-12-29T21:56:56.766613",
     "exception": false,
     "start_time": "2020-12-29T21:20:53.132265",
     "status": "completed"
    },
    "tags": []
   },
   "outputs": [
    {
     "name": "stdout",
     "output_type": "stream",
     "text": [
      "The best parameters are {'C': 10, 'max_iter': 1000} with a score of 0.4838\n",
      "TEST SCORES\n",
      "\n",
      "ACCURACY: 0.4841\n",
      "\n",
      "CONFUSION MATRIX:\n",
      "[[143643  31107  24134]\n",
      " [ 97305  53277  47738]\n",
      " [ 59763  49532  93598]]\n",
      "\n",
      "FALSE POSITIVES:\n",
      "97305 out of 150582 positive labels (0.6462%)\n",
      "\n",
      "FALSE NEGATIVES:\n",
      "31107 out of 174750 negative labels (0.1780%)\n",
      "\n",
      "PRECISION, RECALL, F1 scores:\n",
      "              precision    recall  f1-score   support\n",
      "\n",
      "           0       0.48      0.72      0.58    198884\n",
      "           1       0.40      0.27      0.32    198320\n",
      "           2       0.57      0.46      0.51    202893\n",
      "\n",
      "    accuracy                           0.48    600097\n",
      "   macro avg       0.48      0.48      0.47    600097\n",
      "weighted avg       0.48      0.48      0.47    600097\n",
      "\n"
     ]
    }
   ],
   "source": [
    "# grid search for parameters\n",
    "grid2 = GridSearchCV(estimator=logistic_regression, param_grid=parameters, cv=cv, n_jobs=-1)\n",
    "grid2.fit(X_train2, y_train2)\n",
    "\n",
    "# print best scores\n",
    "print(\"The best parameters are %s with a score of %0.4f\"\n",
    "      % (grid2.best_params_, grid2.best_score_))\n",
    "\n",
    "# prediction results\n",
    "y_pred2 = grid2.predict(X_test2)\n",
    "\n",
    "# print accuracy metrics\n",
    "results2, false2 = display_test_scores(y_test2, y_pred2)\n",
    "print(results2)"
   ]
  }
 ],
 "metadata": {
  "kernelspec": {
   "display_name": "Python 3",
   "language": "python",
   "name": "python3"
  },
  "language_info": {
   "codemirror_mode": {
    "name": "ipython",
    "version": 3
   },
   "file_extension": ".py",
   "mimetype": "text/x-python",
   "name": "python",
   "nbconvert_exporter": "python",
   "pygments_lexer": "ipython3",
   "version": "3.7.6"
  },
  "papermill": {
   "duration": 4155.0211,
   "end_time": "2020-12-29T21:56:56.890414",
   "environment_variables": {},
   "exception": null,
   "input_path": "__notebook__.ipynb",
   "output_path": "__notebook__.ipynb",
   "parameters": {},
   "start_time": "2020-12-29T20:47:41.869314",
   "version": "2.1.0"
  }
 },
 "nbformat": 4,
 "nbformat_minor": 4
}
