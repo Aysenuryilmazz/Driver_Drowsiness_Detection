{
 "cells": [
  {
   "cell_type": "code",
   "execution_count": 1,
   "metadata": {
    "_cell_guid": "b1076dfc-b9ad-4769-8c92-a6c4dae69d19",
    "_uuid": "8f2839f25d086af736a60e9eeb907d3b93b6e0e5",
    "execution": {
     "iopub.execute_input": "2020-12-30T19:15:21.314443Z",
     "iopub.status.busy": "2020-12-30T19:15:21.313516Z",
     "iopub.status.idle": "2020-12-30T19:15:22.600196Z",
     "shell.execute_reply": "2020-12-30T19:15:22.599484Z"
    },
    "papermill": {
     "duration": 1.295127,
     "end_time": "2020-12-30T19:15:22.600317",
     "exception": false,
     "start_time": "2020-12-30T19:15:21.305190",
     "status": "completed"
    },
    "tags": []
   },
   "outputs": [],
   "source": [
    "import os \n",
    "import pandas as pd\n",
    "import numpy as np\n",
    "\n",
    "# import sklearn methods \n",
    "from sklearn.metrics import accuracy_score, roc_curve, confusion_matrix, classification_report, roc_auc_score\n",
    "from sklearn.model_selection import train_test_split\n",
    "from sklearn.model_selection import StratifiedShuffleSplit\n",
    "from sklearn.model_selection import GridSearchCV\n",
    "import sys \n",
    "from sklearn.model_selection import learning_curve\n",
    "from sklearn.datasets import make_classification\n",
    "from sklearn.ensemble import BaggingClassifier"
   ]
  },
  {
   "cell_type": "code",
   "execution_count": 2,
   "metadata": {
    "_cell_guid": "79c7e3d0-c299-4dcb-8224-4455121ee9b0",
    "_uuid": "d629ff2d2480ee46fbb7e2d37f6b5fab8052498a",
    "execution": {
     "iopub.execute_input": "2020-12-30T19:15:22.620020Z",
     "iopub.status.busy": "2020-12-30T19:15:22.618113Z",
     "iopub.status.idle": "2020-12-30T19:15:22.623437Z",
     "shell.execute_reply": "2020-12-30T19:15:22.622923Z"
    },
    "papermill": {
     "duration": 0.018198,
     "end_time": "2020-12-30T19:15:22.623543",
     "exception": false,
     "start_time": "2020-12-30T19:15:22.605345",
     "status": "completed"
    },
    "tags": []
   },
   "outputs": [],
   "source": [
    "# display test scores and return result string and indexes of false samples\n",
    "def display_test_scores(test, pred):\n",
    "    str_out = \"\"\n",
    "    str_out += (\"TEST SCORES\\n\")\n",
    "    str_out += (\"\\n\")\n",
    "\n",
    "    #print accuracy\n",
    "    accuracy = accuracy_score(test, pred)\n",
    "    str_out += (\"ACCURACY: {:.4f}\\n\".format(accuracy))\n",
    "    str_out += (\"\\n\")\n",
    "\n",
    "\n",
    "    #print confusion matrix\n",
    "    str_out += (\"CONFUSION MATRIX:\\n\")\n",
    "    conf_mat = confusion_matrix(test, pred)\n",
    "    str_out += (\"{}\".format(conf_mat))\n",
    "    str_out += (\"\\n\")\n",
    "    str_out += (\"\\n\")\n",
    "\n",
    "    #print FP, FN\n",
    "    str_out += (\"FALSE POSITIVES:\\n\")\n",
    "    fp = conf_mat[1][0]\n",
    "    pos_labels = conf_mat[1][0]+conf_mat[1][1]\n",
    "    str_out += (\"{} out of {} positive labels ({:.4f}%)\\n\".format(fp, pos_labels,fp/pos_labels))\n",
    "    str_out += (\"\\n\")\n",
    "\n",
    "    str_out += (\"FALSE NEGATIVES:\\n\")\n",
    "    fn = conf_mat[0][1]\n",
    "    neg_labels = conf_mat[0][1]+conf_mat[0][0]\n",
    "    str_out += (\"{} out of {} negative labels ({:.4f}%)\\n\".format(fn, neg_labels, fn/neg_labels))\n",
    "    str_out += (\"\\n\")\n",
    "\n",
    "    #print classification report\n",
    "    str_out += (\"PRECISION, RECALL, F1 scores:\\n\")\n",
    "    str_out += (\"{}\".format(classification_report(test, pred)))\n",
    "    \n",
    "    false_indexes = np.where(test != pred)\n",
    "    return str_out, false_indexes"
   ]
  },
  {
   "cell_type": "code",
   "execution_count": 3,
   "metadata": {
    "execution": {
     "iopub.execute_input": "2020-12-30T19:15:22.639670Z",
     "iopub.status.busy": "2020-12-30T19:15:22.638936Z",
     "iopub.status.idle": "2020-12-30T19:15:27.999797Z",
     "shell.execute_reply": "2020-12-30T19:15:27.998723Z"
    },
    "papermill": {
     "duration": 5.371671,
     "end_time": "2020-12-30T19:15:27.999952",
     "exception": false,
     "start_time": "2020-12-30T19:15:22.628281",
     "status": "completed"
    },
    "tags": []
   },
   "outputs": [],
   "source": [
    "################ not scaled dataset ###################\n",
    "df_original = pd.read_pickle('../input/rlddandmerged/rldd_normalized_scaled.pkl')\n",
    "\n",
    "X = df_original.loc[:, [\"n_EAR\", \n",
    "                    \"n_MAR\", \"n_MOE\", \"n_EC\",\n",
    "                    \"n_LEB\", \"n_SOP\", \"PERCLOS\", \"CLOSENESS\"]]\n",
    "\n",
    "\n",
    "y = df_original.loc[:, \"DROWSINESS\"]\n",
    "y = y.map({0: 0, 0.5: 1, 1:2})\n",
    "df_original.loc[:, \"DROWSINESS\"] = y\n",
    "\n",
    "y = df_original.loc[:, \"DROWSINESS\"]\n",
    "\n",
    "\n",
    "X_train, X_test, y_train, y_test = train_test_split(X, y, test_size = 0.2, stratify = y)"
   ]
  },
  {
   "cell_type": "code",
   "execution_count": null,
   "metadata": {
    "papermill": {
     "duration": 0.005158,
     "end_time": "2020-12-30T19:15:28.010132",
     "exception": false,
     "start_time": "2020-12-30T19:15:28.004974",
     "status": "completed"
    },
    "tags": []
   },
   "outputs": [],
   "source": []
  },
  {
   "cell_type": "code",
   "execution_count": 4,
   "metadata": {
    "execution": {
     "iopub.execute_input": "2020-12-30T19:15:28.024657Z",
     "iopub.status.busy": "2020-12-30T19:15:28.024123Z",
     "iopub.status.idle": "2020-12-30T19:15:28.027098Z",
     "shell.execute_reply": "2020-12-30T19:15:28.026563Z"
    },
    "papermill": {
     "duration": 0.012421,
     "end_time": "2020-12-30T19:15:28.027201",
     "exception": false,
     "start_time": "2020-12-30T19:15:28.014780",
     "status": "completed"
    },
    "tags": []
   },
   "outputs": [],
   "source": [
    "# cross-validation with 5 splits\n",
    "cv = StratifiedShuffleSplit(n_splits=10, random_state = 42)\n",
    "\n",
    "# CART decision tree\n",
    "bagging = BaggingClassifier(random_state=0)\n",
    "\n",
    "# parameters \n",
    "parameters = {\n",
    "                #\"max_features\": [0.3, 1],\n",
    "                #\"max_samples\": [0.3, 1],\n",
    "                #\"n_estimators\": [10, 100]\n",
    "                }"
   ]
  },
  {
   "cell_type": "code",
   "execution_count": 5,
   "metadata": {
    "execution": {
     "iopub.execute_input": "2020-12-30T19:15:28.043691Z",
     "iopub.status.busy": "2020-12-30T19:15:28.043147Z",
     "iopub.status.idle": "2020-12-30T19:43:37.371554Z",
     "shell.execute_reply": "2020-12-30T19:43:37.372448Z"
    },
    "papermill": {
     "duration": 1689.34014,
     "end_time": "2020-12-30T19:43:37.372607",
     "exception": false,
     "start_time": "2020-12-30T19:15:28.032467",
     "status": "completed"
    },
    "tags": []
   },
   "outputs": [
    {
     "name": "stdout",
     "output_type": "stream",
     "text": [
      "The best parameters are {} with a score of 0.8646\n",
      "TEST SCORES\n",
      "\n",
      "ACCURACY: 0.8672\n",
      "\n",
      "CONFUSION MATRIX:\n",
      "[[178338  11866   8680]\n",
      " [ 19557 166892  11871]\n",
      " [ 14612  13104 175177]]\n",
      "\n",
      "FALSE POSITIVES:\n",
      "19557 out of 186449 positive labels (0.1049%)\n",
      "\n",
      "FALSE NEGATIVES:\n",
      "11866 out of 190204 negative labels (0.0624%)\n",
      "\n",
      "PRECISION, RECALL, F1 scores:\n",
      "              precision    recall  f1-score   support\n",
      "\n",
      "           0       0.84      0.90      0.87    198884\n",
      "           1       0.87      0.84      0.86    198320\n",
      "           2       0.90      0.86      0.88    202893\n",
      "\n",
      "    accuracy                           0.87    600097\n",
      "   macro avg       0.87      0.87      0.87    600097\n",
      "weighted avg       0.87      0.87      0.87    600097\n",
      "\n"
     ]
    }
   ],
   "source": [
    "# grid search for parameters\n",
    "grid = GridSearchCV(estimator=bagging, param_grid=parameters, cv=cv, n_jobs=-1)\n",
    "grid.fit(X_train, y_train)\n",
    "\n",
    "# print best scores\n",
    "print(\"The best parameters are %s with a score of %0.4f\"\n",
    "      % (grid.best_params_, grid.best_score_))\n",
    "\n",
    "# prediction results\n",
    "y_pred = grid.predict(X_test)\n",
    "\n",
    "# print accuracy metrics\n",
    "results, false = display_test_scores(y_test, y_pred)\n",
    "print(results)"
   ]
  },
  {
   "cell_type": "code",
   "execution_count": null,
   "metadata": {
    "papermill": {
     "duration": 0.006714,
     "end_time": "2020-12-30T19:43:37.385082",
     "exception": false,
     "start_time": "2020-12-30T19:43:37.378368",
     "status": "completed"
    },
    "tags": []
   },
   "outputs": [],
   "source": []
  }
 ],
 "metadata": {
  "kernelspec": {
   "display_name": "Python 3",
   "language": "python",
   "name": "python3"
  },
  "language_info": {
   "codemirror_mode": {
    "name": "ipython",
    "version": 3
   },
   "file_extension": ".py",
   "mimetype": "text/x-python",
   "name": "python",
   "nbconvert_exporter": "python",
   "pygments_lexer": "ipython3",
   "version": "3.7.6"
  },
  "papermill": {
   "duration": 1701.534639,
   "end_time": "2020-12-30T19:43:38.462041",
   "environment_variables": {},
   "exception": null,
   "input_path": "__notebook__.ipynb",
   "output_path": "__notebook__.ipynb",
   "parameters": {},
   "start_time": "2020-12-30T19:15:16.927402",
   "version": "2.1.0"
  }
 },
 "nbformat": 4,
 "nbformat_minor": 4
}
