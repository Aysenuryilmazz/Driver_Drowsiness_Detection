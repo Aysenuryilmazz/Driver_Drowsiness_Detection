{
 "cells": [
  {
   "cell_type": "code",
   "execution_count": 1,
   "metadata": {
    "_cell_guid": "b1076dfc-b9ad-4769-8c92-a6c4dae69d19",
    "_uuid": "8f2839f25d086af736a60e9eeb907d3b93b6e0e5",
    "execution": {
     "iopub.execute_input": "2020-12-30T20:48:44.471842Z",
     "iopub.status.busy": "2020-12-30T20:48:44.470893Z",
     "iopub.status.idle": "2020-12-30T20:48:45.776124Z",
     "shell.execute_reply": "2020-12-30T20:48:45.775095Z"
    },
    "papermill": {
     "duration": 1.320398,
     "end_time": "2020-12-30T20:48:45.776269",
     "exception": false,
     "start_time": "2020-12-30T20:48:44.455871",
     "status": "completed"
    },
    "tags": []
   },
   "outputs": [],
   "source": [
    "import os \n",
    "import pandas as pd\n",
    "import numpy as np \n",
    "from sklearn.metrics import accuracy_score, roc_curve, confusion_matrix, classification_report, roc_auc_score\n",
    "from sklearn.model_selection import train_test_split\n",
    "from sklearn.model_selection import StratifiedShuffleSplit\n",
    "from sklearn.model_selection import GridSearchCV\n",
    "import sys \n",
    "from sklearn.model_selection import learning_curve\n",
    "from sklearn.datasets import make_classification\n",
    "from sklearn.preprocessing import StandardScaler\n",
    "from sklearn.ensemble import GradientBoostingClassifier"
   ]
  },
  {
   "cell_type": "code",
   "execution_count": 2,
   "metadata": {
    "_cell_guid": "79c7e3d0-c299-4dcb-8224-4455121ee9b0",
    "_uuid": "d629ff2d2480ee46fbb7e2d37f6b5fab8052498a",
    "collapsed": true,
    "execution": {
     "iopub.execute_input": "2020-12-30T20:48:45.804487Z",
     "iopub.status.busy": "2020-12-30T20:48:45.803502Z",
     "iopub.status.idle": "2020-12-30T20:48:45.806598Z",
     "shell.execute_reply": "2020-12-30T20:48:45.806027Z"
    },
    "papermill": {
     "duration": 0.023937,
     "end_time": "2020-12-30T20:48:45.806742",
     "exception": false,
     "start_time": "2020-12-30T20:48:45.782805",
     "status": "completed"
    },
    "tags": []
   },
   "outputs": [],
   "source": [
    "# display test scores and return result string and indexes of false samples\n",
    "def display_test_scores(test, pred):\n",
    "    str_out = \"\"\n",
    "    str_out += (\"TEST SCORES\\n\")\n",
    "    str_out += (\"\\n\")\n",
    "\n",
    "    #print accuracy\n",
    "    accuracy = accuracy_score(test, pred)\n",
    "    str_out += (\"ACCURACY: {:.4f}\\n\".format(accuracy))\n",
    "    str_out += (\"\\n\")\n",
    "\n",
    "\n",
    "\n",
    "    #print confusion matrix\n",
    "    str_out += (\"CONFUSION MATRIX:\\n\")\n",
    "    conf_mat = confusion_matrix(test, pred)\n",
    "    str_out += (\"{}\".format(conf_mat))\n",
    "    str_out += (\"\\n\")\n",
    "    str_out += (\"\\n\")\n",
    "\n",
    "    #print FP, FN\n",
    "    str_out += (\"FALSE POSITIVES:\\n\")\n",
    "    fp = conf_mat[1][0]\n",
    "    pos_labels = conf_mat[1][0]+conf_mat[1][1]\n",
    "    str_out += (\"{} out of {} positive labels ({:.4f}%)\\n\".format(fp, pos_labels,fp/pos_labels))\n",
    "    str_out += (\"\\n\")\n",
    "\n",
    "    str_out += (\"FALSE NEGATIVES:\\n\")\n",
    "    fn = conf_mat[0][1]\n",
    "    neg_labels = conf_mat[0][1]+conf_mat[0][0]\n",
    "    str_out += (\"{} out of {} negative labels ({:.4f}%)\\n\".format(fn, neg_labels, fn/neg_labels))\n",
    "    str_out += (\"\\n\")\n",
    "\n",
    "    #print classification report\n",
    "    str_out += (\"PRECISION, RECALL, F1 scores:\\n\")\n",
    "    str_out += (\"{}\".format(classification_report(test, pred)))\n",
    "    \n",
    "    false_indexes = np.where(test != pred)\n",
    "    return str_out, false_indexes"
   ]
  },
  {
   "cell_type": "code",
   "execution_count": 3,
   "metadata": {
    "execution": {
     "iopub.execute_input": "2020-12-30T20:48:45.829792Z",
     "iopub.status.busy": "2020-12-30T20:48:45.828834Z",
     "iopub.status.idle": "2020-12-30T20:48:53.653998Z",
     "shell.execute_reply": "2020-12-30T20:48:53.654699Z"
    },
    "papermill": {
     "duration": 7.840476,
     "end_time": "2020-12-30T20:48:53.654866",
     "exception": false,
     "start_time": "2020-12-30T20:48:45.814390",
     "status": "completed"
    },
    "tags": []
   },
   "outputs": [],
   "source": [
    "################ rldd+nthu dataset ###################\n",
    "df_original = pd.read_pickle('../input/rlddandmerged/merged_normalized_scaled.pkl')\n",
    "\n",
    "X = df_original.loc[:, [\"n_EAR\", \n",
    "                    \"n_MAR\", \"n_MOE\", \"n_EC\",\n",
    "                    \"n_LEB\", \"n_SOP\", \"PERCLOS\", \"CLOSENESS\"]]\n",
    "\n",
    "### encode y values to multiclass ###\n",
    "y = df_original.loc[:, \"DROWSINESS\"]\n",
    "y = y.map({0: 0, 0.5: 1, 1:2})\n",
    "df_original.loc[:, \"DROWSINESS\"] = y\n",
    "\n",
    "y_f = df_original.loc[:, \"DROWSINESS\"]\n",
    "\n",
    "\n",
    "X_train, X_test, y_train, y_test = train_test_split(X, y_f, test_size = 0.2, stratify = y)"
   ]
  },
  {
   "cell_type": "code",
   "execution_count": 4,
   "metadata": {
    "execution": {
     "iopub.execute_input": "2020-12-30T20:48:53.674182Z",
     "iopub.status.busy": "2020-12-30T20:48:53.673176Z",
     "iopub.status.idle": "2020-12-30T20:48:53.675791Z",
     "shell.execute_reply": "2020-12-30T20:48:53.676344Z"
    },
    "papermill": {
     "duration": 0.015525,
     "end_time": "2020-12-30T20:48:53.676502",
     "exception": false,
     "start_time": "2020-12-30T20:48:53.660977",
     "status": "completed"
    },
    "tags": []
   },
   "outputs": [],
   "source": [
    "# cross-validation with 5 splits\n",
    "cv = StratifiedShuffleSplit(n_splits=5, random_state = 42)\n",
    "#creating an AdaBoost instance\n",
    "gbc = GradientBoostingClassifier(random_state=0)\n",
    "\n",
    "# parameters \n",
    "parameters = {\n",
    "    \n",
    "                #\"max_features\": [None, \"sqrt\", \"log2\"],\n",
    "                #\"n_estimators\": [10, 20],\n",
    "                #\"subsample\": [0.6, 0.8, 1],\n",
    "                #\"max_depth\": [5, 7]\n",
    "}"
   ]
  },
  {
   "cell_type": "code",
   "execution_count": 5,
   "metadata": {
    "execution": {
     "iopub.execute_input": "2020-12-30T20:48:53.698300Z",
     "iopub.status.busy": "2020-12-30T20:48:53.697476Z",
     "iopub.status.idle": "2020-12-31T00:30:23.693475Z",
     "shell.execute_reply": "2020-12-31T00:30:23.692826Z"
    },
    "papermill": {
     "duration": 13290.010875,
     "end_time": "2020-12-31T00:30:23.693640",
     "exception": false,
     "start_time": "2020-12-30T20:48:53.682765",
     "status": "completed"
    },
    "tags": []
   },
   "outputs": [
    {
     "name": "stdout",
     "output_type": "stream",
     "text": [
      "The best parameters are {} with a score of 0.6381\n",
      "TEST SCORES\n",
      "\n",
      "ACCURACY: 0.6381\n",
      "\n",
      "CONFUSION MATRIX:\n",
      "[[186829  16226  46654]\n",
      " [ 60769  81247  56304]\n",
      " [ 54502  27195 193290]]\n",
      "\n",
      "FALSE POSITIVES:\n",
      "60769 out of 142016 positive labels (0.4279%)\n",
      "\n",
      "FALSE NEGATIVES:\n",
      "16226 out of 203055 negative labels (0.0799%)\n",
      "\n",
      "PRECISION, RECALL, F1 scores:\n",
      "              precision    recall  f1-score   support\n",
      "\n",
      "           0       0.62      0.75      0.68    249709\n",
      "           1       0.65      0.41      0.50    198320\n",
      "           2       0.65      0.70      0.68    274987\n",
      "\n",
      "    accuracy                           0.64    723016\n",
      "   macro avg       0.64      0.62      0.62    723016\n",
      "weighted avg       0.64      0.64      0.63    723016\n",
      "\n"
     ]
    }
   ],
   "source": [
    "\n",
    "# grid search for parameters\n",
    "grid = GridSearchCV(estimator=gbc, param_grid=parameters, cv=cv, n_jobs=-1)\n",
    "grid.fit(X_train, y_train)\n",
    "\n",
    "# print best scores\n",
    "print(\"The best parameters are %s with a score of %0.4f\"\n",
    "      % (grid.best_params_, grid.best_score_))\n",
    "\n",
    "# prediction results\n",
    "y_pred = grid.predict(X_test)\n",
    "\n",
    "# print accuracy metrics\n",
    "results, false = display_test_scores(y_test, y_pred)\n",
    "print(results)"
   ]
  }
 ],
 "metadata": {
  "kernelspec": {
   "display_name": "Python 3",
   "language": "python",
   "name": "python3"
  },
  "language_info": {
   "codemirror_mode": {
    "name": "ipython",
    "version": 3
   },
   "file_extension": ".py",
   "mimetype": "text/x-python",
   "name": "python",
   "nbconvert_exporter": "python",
   "pygments_lexer": "ipython3",
   "version": "3.7.6"
  },
  "papermill": {
   "duration": 13304.718628,
   "end_time": "2020-12-31T00:30:23.810076",
   "environment_variables": {},
   "exception": null,
   "input_path": "__notebook__.ipynb",
   "output_path": "__notebook__.ipynb",
   "parameters": {},
   "start_time": "2020-12-30T20:48:39.091448",
   "version": "2.1.0"
  }
 },
 "nbformat": 4,
 "nbformat_minor": 4
}
