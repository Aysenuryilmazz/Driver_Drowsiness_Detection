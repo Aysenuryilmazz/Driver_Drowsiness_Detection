{
 "cells": [
  {
   "cell_type": "code",
   "execution_count": 1,
   "metadata": {
    "_cell_guid": "b1076dfc-b9ad-4769-8c92-a6c4dae69d19",
    "_uuid": "8f2839f25d086af736a60e9eeb907d3b93b6e0e5",
    "execution": {
     "iopub.execute_input": "2020-11-04T11:23:34.623109Z",
     "iopub.status.busy": "2020-11-04T11:23:34.622250Z",
     "iopub.status.idle": "2020-11-04T11:23:35.812253Z",
     "shell.execute_reply": "2020-11-04T11:23:35.811184Z"
    },
    "papermill": {
     "duration": 1.206144,
     "end_time": "2020-11-04T11:23:35.812389",
     "exception": false,
     "start_time": "2020-11-04T11:23:34.606245",
     "status": "completed"
    },
    "tags": []
   },
   "outputs": [],
   "source": [
    "import os \n",
    "import pandas as pd\n",
    "import numpy as np\n",
    "\n",
    "# import sklearn methods \n",
    "from sklearn.metrics import accuracy_score, roc_curve, confusion_matrix, classification_report, roc_auc_score\n",
    "from sklearn.model_selection import train_test_split\n",
    "from sklearn.model_selection import StratifiedShuffleSplit\n",
    "from sklearn.model_selection import GridSearchCV\n",
    "import sys \n",
    "from sklearn.model_selection import learning_curve\n",
    "from sklearn.datasets import make_classification\n",
    "import lightgbm as lgb"
   ]
  },
  {
   "cell_type": "code",
   "execution_count": 2,
   "metadata": {
    "_cell_guid": "79c7e3d0-c299-4dcb-8224-4455121ee9b0",
    "_uuid": "d629ff2d2480ee46fbb7e2d37f6b5fab8052498a",
    "collapsed": true,
    "execution": {
     "iopub.execute_input": "2020-11-04T11:23:35.844729Z",
     "iopub.status.busy": "2020-11-04T11:23:35.843868Z",
     "iopub.status.idle": "2020-11-04T11:23:35.847067Z",
     "shell.execute_reply": "2020-11-04T11:23:35.847593Z"
    },
    "papermill": {
     "duration": 0.025203,
     "end_time": "2020-11-04T11:23:35.847730",
     "exception": false,
     "start_time": "2020-11-04T11:23:35.822527",
     "status": "completed"
    },
    "tags": []
   },
   "outputs": [],
   "source": [
    "# display test scores and return result string and indexes of false samples\n",
    "def display_test_scores(test, pred):\n",
    "    str_out = \"\"\n",
    "    str_out += (\"TEST SCORES\\n\")\n",
    "    str_out += (\"\\n\")\n",
    "\n",
    "    #print accuracy\n",
    "    accuracy = accuracy_score(test, pred)\n",
    "    str_out += (\"ACCURACY: {:.4f}\\n\".format(accuracy))\n",
    "    str_out += (\"\\n\")\n",
    "\n",
    "    #print AUC score\n",
    "    auc = roc_auc_score(test, pred)\n",
    "    str_out += (\"AUC: {:.4f}\\n\".format(auc))\n",
    "    str_out += (\"\\n\")\n",
    "\n",
    "    #print confusion matrix\n",
    "    str_out += (\"CONFUSION MATRIX:\\n\")\n",
    "    conf_mat = confusion_matrix(test, pred)\n",
    "    str_out += (\"{}\".format(conf_mat))\n",
    "    str_out += (\"\\n\")\n",
    "    str_out += (\"\\n\")\n",
    "\n",
    "    #print FP, FN\n",
    "    str_out += (\"FALSE POSITIVES:\\n\")\n",
    "    fp = conf_mat[1][0]\n",
    "    pos_labels = conf_mat[1][0]+conf_mat[1][1]\n",
    "    str_out += (\"{} out of {} positive labels ({:.4f}%)\\n\".format(fp, pos_labels,fp/pos_labels))\n",
    "    str_out += (\"\\n\")\n",
    "\n",
    "    str_out += (\"FALSE NEGATIVES:\\n\")\n",
    "    fn = conf_mat[0][1]\n",
    "    neg_labels = conf_mat[0][1]+conf_mat[0][0]\n",
    "    str_out += (\"{} out of {} negative labels ({:.4f}%)\\n\".format(fn, neg_labels, fn/neg_labels))\n",
    "    str_out += (\"\\n\")\n",
    "\n",
    "    #print classification report\n",
    "    str_out += (\"PRECISION, RECALL, F1 scores:\\n\")\n",
    "    str_out += (\"{}\".format(classification_report(test, pred)))\n",
    "    \n",
    "    false_indexes = np.where(test != pred)\n",
    "    return str_out, false_indexes"
   ]
  },
  {
   "cell_type": "code",
   "execution_count": 3,
   "metadata": {
    "execution": {
     "iopub.execute_input": "2020-11-04T11:23:35.868501Z",
     "iopub.status.busy": "2020-11-04T11:23:35.867736Z",
     "iopub.status.idle": "2020-11-04T11:23:37.629310Z",
     "shell.execute_reply": "2020-11-04T11:23:37.630178Z"
    },
    "papermill": {
     "duration": 1.775466,
     "end_time": "2020-11-04T11:23:37.630399",
     "exception": false,
     "start_time": "2020-11-04T11:23:35.854933",
     "status": "completed"
    },
    "tags": []
   },
   "outputs": [],
   "source": [
    "################ not scaled dataset ###################\n",
    "df_original = pd.read_pickle('../input/ddd-final-datasets/final_step2.pkl')\n",
    "\n",
    "X = df_original.loc[:, [\"n_EAR\", \n",
    "                    \"n_MAR\", \"n_MOE\", \"n_EC\",\n",
    "                    \"n_LEB\", \"n_SOP\", \"PERCLOS\", \"CLOSENESS\"]]\n",
    "\n",
    "y = df_original.loc[:, \"DROWSINESS\"]\n",
    "\n",
    "\n",
    "X_train, X_test, y_train, y_test = train_test_split(X, y, test_size = 0.2, stratify = y)"
   ]
  },
  {
   "cell_type": "code",
   "execution_count": 4,
   "metadata": {
    "execution": {
     "iopub.execute_input": "2020-11-04T11:23:37.664795Z",
     "iopub.status.busy": "2020-11-04T11:23:37.663884Z",
     "iopub.status.idle": "2020-11-04T11:23:38.476289Z",
     "shell.execute_reply": "2020-11-04T11:23:38.477072Z"
    },
    "papermill": {
     "duration": 0.833541,
     "end_time": "2020-11-04T11:23:38.477295",
     "exception": false,
     "start_time": "2020-11-04T11:23:37.643754",
     "status": "completed"
    },
    "tags": []
   },
   "outputs": [],
   "source": [
    "################ scaled dataset ###################\n",
    "df_original2 = pd.read_pickle('../input/ddd-final-datasets/final_step2_scaled.pkl')\n",
    "\n",
    "X2 = df_original2.loc[:, [\"n_EAR\", \n",
    "                    \"n_MAR\", \"n_MOE\", \"n_EC\",\n",
    "                    \"n_LEB\", \"n_SOP\", \"PERCLOS\", \"CLOSENESS\"]]\n",
    "\n",
    "y2 = df_original2.loc[:, \"DROWSINESS\"]\n",
    "\n",
    "\n",
    "X_train2, X_test2, y_train2, y_test2 = train_test_split(X2, y2, test_size = 0.2, stratify = y2)"
   ]
  },
  {
   "cell_type": "code",
   "execution_count": 5,
   "metadata": {
    "execution": {
     "iopub.execute_input": "2020-11-04T11:23:38.505115Z",
     "iopub.status.busy": "2020-11-04T11:23:38.504329Z",
     "iopub.status.idle": "2020-11-04T11:23:38.508876Z",
     "shell.execute_reply": "2020-11-04T11:23:38.509489Z"
    },
    "papermill": {
     "duration": 0.022222,
     "end_time": "2020-11-04T11:23:38.509644",
     "exception": false,
     "start_time": "2020-11-04T11:23:38.487422",
     "status": "completed"
    },
    "tags": []
   },
   "outputs": [],
   "source": [
    "# cross-validation with 5 splits\n",
    "cv = StratifiedShuffleSplit(n_splits=10, random_state = 42)\n",
    "\n",
    "# CART decision tree\n",
    "lgb_estimator = lgb.LGBMClassifier(random_state=42, bjective='binary', metric='auc', device= \"gpu\")\n",
    "\n",
    "# parameters \n",
    "parameters = {\n",
    "            'reg_lambda': [0.1, 1, 10],\n",
    "            'n_estimators': [100, 500],\n",
    "            'max_depth': [5, 10],\n",
    "            'learning_rate':[0.001, 0.01, 0.1]\n",
    "}"
   ]
  },
  {
   "cell_type": "code",
   "execution_count": 6,
   "metadata": {
    "execution": {
     "iopub.execute_input": "2020-11-04T11:23:38.541695Z",
     "iopub.status.busy": "2020-11-04T11:23:38.540625Z",
     "iopub.status.idle": "2020-11-04T12:23:34.394362Z",
     "shell.execute_reply": "2020-11-04T12:23:34.395509Z"
    },
    "papermill": {
     "duration": 3595.877007,
     "end_time": "2020-11-04T12:23:34.395717",
     "exception": false,
     "start_time": "2020-11-04T11:23:38.518710",
     "status": "completed"
    },
    "tags": []
   },
   "outputs": [
    {
     "name": "stdout",
     "output_type": "stream",
     "text": [
      "The best parameters are {'learning_rate': 0.1, 'max_depth': 10, 'n_estimators': 500, 'reg_lambda': 0.1} with a score of 0.7510\n",
      "TEST SCORES\n",
      "\n",
      "ACCURACY: 0.7494\n",
      "\n",
      "AUC: 0.7344\n",
      "\n",
      "CONFUSION MATRIX:\n",
      "[[32897 17928]\n",
      " [12873 59221]]\n",
      "\n",
      "FALSE POSITIVES:\n",
      "12873 out of 72094 positive labels (0.1786%)\n",
      "\n",
      "FALSE NEGATIVES:\n",
      "17928 out of 50825 negative labels (0.3527%)\n",
      "\n",
      "PRECISION, RECALL, F1 scores:\n",
      "              precision    recall  f1-score   support\n",
      "\n",
      "           0       0.72      0.65      0.68     50825\n",
      "           1       0.77      0.82      0.79     72094\n",
      "\n",
      "    accuracy                           0.75    122919\n",
      "   macro avg       0.74      0.73      0.74    122919\n",
      "weighted avg       0.75      0.75      0.75    122919\n",
      "\n"
     ]
    }
   ],
   "source": [
    "# grid search for parameters\n",
    "grid = GridSearchCV(estimator=lgb_estimator, param_grid=parameters, cv=cv, n_jobs=-1)\n",
    "grid.fit(X_train, y_train)\n",
    "\n",
    "# print best scores\n",
    "print(\"The best parameters are %s with a score of %0.4f\"\n",
    "      % (grid.best_params_, grid.best_score_))\n",
    "\n",
    "# prediction results\n",
    "y_pred = grid.predict(X_test)\n",
    "\n",
    "# print accuracy metrics\n",
    "results, false = display_test_scores(y_test, y_pred)\n",
    "print(results)"
   ]
  },
  {
   "cell_type": "markdown",
   "metadata": {
    "papermill": {
     "duration": 0.007357,
     "end_time": "2020-11-04T12:23:34.411891",
     "exception": false,
     "start_time": "2020-11-04T12:23:34.404534",
     "status": "completed"
    },
    "tags": []
   },
   "source": [
    "fit for scaled dataset"
   ]
  },
  {
   "cell_type": "code",
   "execution_count": 7,
   "metadata": {
    "execution": {
     "iopub.execute_input": "2020-11-04T12:23:34.435072Z",
     "iopub.status.busy": "2020-11-04T12:23:34.433859Z",
     "iopub.status.idle": "2020-11-04T13:18:13.124258Z",
     "shell.execute_reply": "2020-11-04T13:18:13.125352Z"
    },
    "papermill": {
     "duration": 3278.70609,
     "end_time": "2020-11-04T13:18:13.125591",
     "exception": false,
     "start_time": "2020-11-04T12:23:34.419501",
     "status": "completed"
    },
    "tags": []
   },
   "outputs": [
    {
     "name": "stdout",
     "output_type": "stream",
     "text": [
      "The best parameters are {'learning_rate': 0.1, 'max_depth': 10, 'n_estimators': 500, 'reg_lambda': 1} with a score of 0.7489\n",
      "TEST SCORES\n",
      "\n",
      "ACCURACY: 0.7513\n",
      "\n",
      "AUC: 0.7355\n",
      "\n",
      "CONFUSION MATRIX:\n",
      "[[32736 18089]\n",
      " [12485 59609]]\n",
      "\n",
      "FALSE POSITIVES:\n",
      "12485 out of 72094 positive labels (0.1732%)\n",
      "\n",
      "FALSE NEGATIVES:\n",
      "18089 out of 50825 negative labels (0.3559%)\n",
      "\n",
      "PRECISION, RECALL, F1 scores:\n",
      "              precision    recall  f1-score   support\n",
      "\n",
      "           0       0.72      0.64      0.68     50825\n",
      "           1       0.77      0.83      0.80     72094\n",
      "\n",
      "    accuracy                           0.75    122919\n",
      "   macro avg       0.75      0.74      0.74    122919\n",
      "weighted avg       0.75      0.75      0.75    122919\n",
      "\n"
     ]
    }
   ],
   "source": [
    "# grid search for parameters\n",
    "grid2 = GridSearchCV(estimator=lgb_estimator, param_grid=parameters, cv=cv, n_jobs=-1)\n",
    "grid2.fit(X_train2, y_train2)\n",
    "\n",
    "# print best scores\n",
    "print(\"The best parameters are %s with a score of %0.4f\"\n",
    "      % (grid2.best_params_, grid2.best_score_))\n",
    "\n",
    "# prediction results\n",
    "y_pred2 = grid2.predict(X_test2)\n",
    "\n",
    "# print accuracy metrics\n",
    "results2, false2 = display_test_scores(y_test2, y_pred2)\n",
    "print(results2)"
   ]
  }
 ],
 "metadata": {
  "kernelspec": {
   "display_name": "Python 3",
   "language": "python",
   "name": "python3"
  },
  "language_info": {
   "codemirror_mode": {
    "name": "ipython",
    "version": 3
   },
   "file_extension": ".py",
   "mimetype": "text/x-python",
   "name": "python",
   "nbconvert_exporter": "python",
   "pygments_lexer": "ipython3",
   "version": "3.7.6"
  },
  "papermill": {
   "duration": 6884.342731,
   "end_time": "2020-11-04T13:18:14.214746",
   "environment_variables": {},
   "exception": null,
   "input_path": "__notebook__.ipynb",
   "output_path": "__notebook__.ipynb",
   "parameters": {},
   "start_time": "2020-11-04T11:23:29.872015",
   "version": "2.1.0"
  }
 },
 "nbformat": 4,
 "nbformat_minor": 4
}
