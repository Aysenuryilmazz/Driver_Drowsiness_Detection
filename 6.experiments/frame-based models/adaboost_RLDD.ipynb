{
 "cells": [
  {
   "cell_type": "code",
   "execution_count": 1,
   "metadata": {
    "_cell_guid": "b1076dfc-b9ad-4769-8c92-a6c4dae69d19",
    "_uuid": "8f2839f25d086af736a60e9eeb907d3b93b6e0e5",
    "execution": {
     "iopub.execute_input": "2020-12-28T10:15:25.144035Z",
     "iopub.status.busy": "2020-12-28T10:15:25.143197Z",
     "iopub.status.idle": "2020-12-28T10:15:26.632266Z",
     "shell.execute_reply": "2020-12-28T10:15:26.631632Z"
    },
    "papermill": {
     "duration": 1.503868,
     "end_time": "2020-12-28T10:15:26.632399",
     "exception": false,
     "start_time": "2020-12-28T10:15:25.128531",
     "status": "completed"
    },
    "tags": []
   },
   "outputs": [],
   "source": [
    "import os \n",
    "import pandas as pd\n",
    "import numpy as np \n",
    "from sklearn.metrics import accuracy_score, roc_curve, confusion_matrix, classification_report, roc_auc_score\n",
    "from sklearn.model_selection import train_test_split\n",
    "from sklearn.model_selection import StratifiedShuffleSplit\n",
    "from sklearn.model_selection import GridSearchCV\n",
    "import sys \n",
    "from sklearn.model_selection import learning_curve\n",
    "from sklearn.datasets import make_classification\n",
    "from sklearn.preprocessing import StandardScaler\n",
    "\n",
    "from sklearn.ensemble import AdaBoostClassifier"
   ]
  },
  {
   "cell_type": "code",
   "execution_count": 2,
   "metadata": {
    "_cell_guid": "79c7e3d0-c299-4dcb-8224-4455121ee9b0",
    "_uuid": "d629ff2d2480ee46fbb7e2d37f6b5fab8052498a",
    "execution": {
     "iopub.execute_input": "2020-12-28T10:15:26.656728Z",
     "iopub.status.busy": "2020-12-28T10:15:26.656055Z",
     "iopub.status.idle": "2020-12-28T10:15:26.658477Z",
     "shell.execute_reply": "2020-12-28T10:15:26.658953Z"
    },
    "papermill": {
     "duration": 0.021131,
     "end_time": "2020-12-28T10:15:26.659096",
     "exception": false,
     "start_time": "2020-12-28T10:15:26.637965",
     "status": "completed"
    },
    "tags": []
   },
   "outputs": [],
   "source": [
    "# display test scores and return result string and indexes of false samples\n",
    "def display_test_scores(test, pred):\n",
    "    str_out = \"\"\n",
    "    str_out += (\"TEST SCORES\\n\")\n",
    "    str_out += (\"\\n\")\n",
    "\n",
    "    #print accuracy\n",
    "    accuracy = accuracy_score(test, pred)\n",
    "    str_out += (\"ACCURACY: {:.4f}\\n\".format(accuracy))\n",
    "    str_out += (\"\\n\")\n",
    "\n",
    "    \n",
    "    #print confusion matrix\n",
    "    str_out += (\"CONFUSION MATRIX:\\n\")\n",
    "    conf_mat = confusion_matrix(test, pred)\n",
    "    str_out += (\"{}\".format(conf_mat))\n",
    "    str_out += (\"\\n\")\n",
    "    str_out += (\"\\n\")\n",
    "\n",
    "    #print FP, FN\n",
    "    str_out += (\"FALSE POSITIVES:\\n\")\n",
    "    fp = conf_mat[1][0]\n",
    "    pos_labels = conf_mat[1][0]+conf_mat[1][1]\n",
    "    str_out += (\"{} out of {} positive labels ({:.4f}%)\\n\".format(fp, pos_labels,fp/pos_labels))\n",
    "    str_out += (\"\\n\")\n",
    "\n",
    "    str_out += (\"FALSE NEGATIVES:\\n\")\n",
    "    fn = conf_mat[0][1]\n",
    "    neg_labels = conf_mat[0][1]+conf_mat[0][0]\n",
    "    str_out += (\"{} out of {} negative labels ({:.4f}%)\\n\".format(fn, neg_labels, fn/neg_labels))\n",
    "    str_out += (\"\\n\")\n",
    "\n",
    "    #print classification report\n",
    "    str_out += (\"PRECISION, RECALL, F1 scores:\\n\")\n",
    "    str_out += (\"{}\".format(classification_report(test, pred)))\n",
    "    \n",
    "    false_indexes = np.where(test != pred)\n",
    "    return str_out, false_indexes"
   ]
  },
  {
   "cell_type": "code",
   "execution_count": 3,
   "metadata": {
    "execution": {
     "iopub.execute_input": "2020-12-28T10:15:26.680869Z",
     "iopub.status.busy": "2020-12-28T10:15:26.680130Z",
     "iopub.status.idle": "2020-12-28T10:15:33.926239Z",
     "shell.execute_reply": "2020-12-28T10:15:33.925581Z"
    },
    "papermill": {
     "duration": 7.261655,
     "end_time": "2020-12-28T10:15:33.926366",
     "exception": false,
     "start_time": "2020-12-28T10:15:26.664711",
     "status": "completed"
    },
    "tags": []
   },
   "outputs": [],
   "source": [
    "################ rldd_normalized_scaled dataset ###################\n",
    "df_original = pd.read_pickle('../input/rlddandmerged/rldd_normalized_scaled.pkl')\n",
    "\n",
    "X = df_original.loc[:, [\"n_EAR\", \n",
    "                    \"n_MAR\", \"n_MOE\", \"n_EC\",\n",
    "                    \"n_LEB\", \"n_SOP\", \"PERCLOS\", \"CLOSENESS\"]]\n",
    "\n",
    "### encode y values to multiclass ###\n",
    "y = df_original.loc[:, \"DROWSINESS\"]\n",
    "y = y.map({0: 0, 0.5: 1, 1:2})\n",
    "df_original.loc[:, \"DROWSINESS\"] = y\n",
    "\n",
    "\n",
    "y_f = df_original.loc[:, \"DROWSINESS\"]\n",
    "\n",
    "\n",
    "X_train, X_test, y_train, y_test = train_test_split(X, y_f, test_size = 0.2, stratify = y)"
   ]
  },
  {
   "cell_type": "code",
   "execution_count": 4,
   "metadata": {
    "execution": {
     "iopub.execute_input": "2020-12-28T10:15:33.941893Z",
     "iopub.status.busy": "2020-12-28T10:15:33.940961Z",
     "iopub.status.idle": "2020-12-28T10:15:33.948342Z",
     "shell.execute_reply": "2020-12-28T10:15:33.948870Z"
    },
    "papermill": {
     "duration": 0.017081,
     "end_time": "2020-12-28T10:15:33.949023",
     "exception": false,
     "start_time": "2020-12-28T10:15:33.931942",
     "status": "completed"
    },
    "tags": []
   },
   "outputs": [],
   "source": [
    "# cross-validation with 5 splits\n",
    "cv = StratifiedShuffleSplit(n_splits=5, random_state = 42)\n",
    "\n",
    "#creating an AdaBoost instance\n",
    "ada = AdaBoostClassifier(random_state=0)\n",
    "\n",
    "# parameters \n",
    "parameters = {\n",
    "                \"n_estimators\": [200, 300, 400]\n",
    "                \n",
    "}"
   ]
  },
  {
   "cell_type": "code",
   "execution_count": 5,
   "metadata": {
    "execution": {
     "iopub.execute_input": "2020-12-28T10:15:33.963368Z",
     "iopub.status.busy": "2020-12-28T10:15:33.962401Z",
     "iopub.status.idle": "2020-12-28T13:04:34.373684Z",
     "shell.execute_reply": "2020-12-28T13:04:34.374442Z"
    },
    "papermill": {
     "duration": 10140.420432,
     "end_time": "2020-12-28T13:04:34.374649",
     "exception": false,
     "start_time": "2020-12-28T10:15:33.954217",
     "status": "completed"
    },
    "tags": []
   },
   "outputs": [
    {
     "name": "stdout",
     "output_type": "stream",
     "text": [
      "The best parameters are {'n_estimators': 400} with a score of 0.6172\n",
      "TEST SCORES\n",
      "\n",
      "ACCURACY: 0.6175\n",
      "\n",
      "CONFUSION MATRIX:\n",
      "[[152369  27023  19492]\n",
      " [ 54783  91034  52503]\n",
      " [ 33003  42756 127134]]\n",
      "\n",
      "FALSE POSITIVES:\n",
      "54783 out of 145817 positive labels (0.3757%)\n",
      "\n",
      "FALSE NEGATIVES:\n",
      "27023 out of 179392 negative labels (0.1506%)\n",
      "\n",
      "PRECISION, RECALL, F1 scores:\n",
      "              precision    recall  f1-score   support\n",
      "\n",
      "           0       0.63      0.77      0.69    198884\n",
      "           1       0.57      0.46      0.51    198320\n",
      "           2       0.64      0.63      0.63    202893\n",
      "\n",
      "    accuracy                           0.62    600097\n",
      "   macro avg       0.61      0.62      0.61    600097\n",
      "weighted avg       0.61      0.62      0.61    600097\n",
      "\n"
     ]
    }
   ],
   "source": [
    "# grid search for parameters\n",
    "grid = GridSearchCV(estimator=ada, param_grid=parameters, cv=cv, n_jobs=-1)\n",
    "grid.fit(X_train, y_train)\n",
    "\n",
    "# print best scores\n",
    "print(\"The best parameters are %s with a score of %0.4f\"\n",
    "      % (grid.best_params_, grid.best_score_))\n",
    "\n",
    "# prediction results\n",
    "y_pred = grid.predict(X_test)\n",
    "\n",
    "# print accuracy metrics\n",
    "results, false = display_test_scores(y_test, y_pred)\n",
    "print(results)"
   ]
  }
 ],
 "metadata": {
  "kernelspec": {
   "display_name": "Python 3",
   "language": "python",
   "name": "python3"
  },
  "language_info": {
   "codemirror_mode": {
    "name": "ipython",
    "version": 3
   },
   "file_extension": ".py",
   "mimetype": "text/x-python",
   "name": "python",
   "nbconvert_exporter": "python",
   "pygments_lexer": "ipython3",
   "version": "3.7.6"
  },
  "papermill": {
   "duration": 10154.278545,
   "end_time": "2020-12-28T13:04:34.491840",
   "environment_variables": {},
   "exception": null,
   "input_path": "__notebook__.ipynb",
   "output_path": "__notebook__.ipynb",
   "parameters": {},
   "start_time": "2020-12-28T10:15:20.213295",
   "version": "2.1.0"
  }
 },
 "nbformat": 4,
 "nbformat_minor": 4
}
