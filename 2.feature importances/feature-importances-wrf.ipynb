{
 "cells": [
  {
   "cell_type": "markdown",
   "execution_count": null,
   "metadata": {},
   "source": [
    "# Feature Importances with Random Forest Classifier"
   ]
  },
  {
   "cell_type": "code",
   "execution_count": 1,
   "metadata": {
    "_cell_guid": "b1076dfc-b9ad-4769-8c92-a6c4dae69d19",
    "_uuid": "8f2839f25d086af736a60e9eeb907d3b93b6e0e5"
   },
   "outputs": [],
   "source": [
    "import os \n",
    "import pandas as pd\n",
    "import numpy as np\n",
    "import sys \n",
    "import matplotlib.pyplot as plt\n",
    "\n",
    "# import sklearn methods \n",
    "from sklearn.metrics import accuracy_score, roc_curve, confusion_matrix, classification_report, roc_auc_score\n",
    "from sklearn.model_selection import train_test_split\n",
    "from sklearn.model_selection import StratifiedShuffleSplit\n",
    "from sklearn.model_selection import GridSearchCV\n",
    "from sklearn.model_selection import learning_curve\n",
    "from sklearn.ensemble import RandomForestClassifier\n",
    "from sklearn.datasets import make_classification\n",
    "from utils3 import *\n",
    "\n",
    "from sklearn.inspection import permutation_importance"
   ]
  },
  {
   "cell_type": "markdown",
   "execution_count": null,
   "metadata": {},
   "source": [
    "Prepare dataset:"
   ]
  },
  {
   "cell_type": "code",
   "execution_count": 2,
   "metadata": {
    "_cell_guid": "79c7e3d0-c299-4dcb-8224-4455121ee9b0",
    "_uuid": "d629ff2d2480ee46fbb7e2d37f6b5fab8052498a"
   },
   "outputs": [],
   "source": [
    "df_original = pd.read_pickle('../input/subjectwise-normalized-df/final_step2.pkl')\n",
    "\n",
    "#drop rows == -1 in drowsiness\n",
    "df_original = df_original.loc[ np.logical_or(df_original['DROWSINESS'] == 1, df_original['DROWSINESS'] == 0 ) ]\n",
    "df_original.loc[df_original['DROWSINESS'] == 1, 'DROWSINESS'].count()\n",
    "\n",
    "X = df_original.loc[:, [\"n_EAR\", \n",
    "                    \"n_MAR\", \"n_MOE\", \"n_EC\",\n",
    "                    \"n_LEB\", \"n_SOP\", \"PERCLOS\", \"CLOSENESS\"]]\n",
    "\n",
    "y = df_original.loc[:, \"DROWSINESS\"]\n",
    "\n",
    "X_train, X_test, y_train, y_test = train_test_split(X, y, test_size = 0.2, stratify = y)\n",
    "\n",
    "# cross-validation with 5 splits\n",
    "cross_val = StratifiedShuffleSplit(n_splits=10, random_state = 42)"
   ]
  },
  {
   "cell_type": "markdown",
   "execution_count": null,
   "metadata": {},
   "source": [
    "Hyperparameter searching:"
   ]
  },
  {
   "cell_type": "code",
   "execution_count": 3,
   "metadata": {},
   "outputs": [
    {
     "name": "stdout",
     "output_type": "stream",
     "text": [
      "The best parameters are {'n_estimators': 20} with a score of 0.7865\n"
     ]
    }
   ],
   "source": [
    "rf = RandomForestClassifier(random_state = 0,criterion='entropy',class_weight='balanced',max_features=None)\n",
    "\n",
    "# parameters \n",
    "parameters = {  \n",
    "                \"n_estimators\":[20],\n",
    "                #'max_depth': list(range(1,11)),\n",
    "                #\"criterion\": [\"gini\",\"entropy\"],\n",
    "                #\"class_weight\": [None, \"balanced\"],\n",
    "                #\"max_features\":[\"auto\", None, \"log2\"],\n",
    "                }\n",
    "\n",
    "# grid search for parameters\n",
    "grid = GridSearchCV(estimator=rf, param_grid=parameters, cv=cross_val, n_jobs=-1)#multithreading; all cores are used\n",
    "grid.fit(X_train, y_train)\n",
    "\n",
    "# print best scores\n",
    "print(\"The best parameters are %s with a score of %0.4f\"\n",
    "      % (grid.best_params_, grid.best_score_))"
   ]
  },
  {
   "cell_type": "markdown",
   "execution_count": null,
   "metadata": {},
   "source": [
    "Predictions:"
   ]
  },
  {
   "cell_type": "code",
   "execution_count": 4,
   "metadata": {},
   "outputs": [
    {
     "name": "stdout",
     "output_type": "stream",
     "text": [
      "TEST SCORES\n",
      "\n",
      "ACCURACY: 0.7894\n",
      "\n",
      "AUC: 0.7824\n",
      "\n",
      "CONFUSION MATRIX:\n",
      "[[37679 13146]\n",
      " [12735 59359]]\n",
      "\n",
      "FALSE POSITIVES:\n",
      "12735 out of 72094 positive labels (0.1766%)\n",
      "\n",
      "FALSE NEGATIVES:\n",
      "13146 out of 50825 negative labels (0.2587%)\n",
      "\n",
      "PRECISION, RECALL, F1 scores:\n",
      "              precision    recall  f1-score   support\n",
      "\n",
      "           0       0.75      0.74      0.74     50825\n",
      "           1       0.82      0.82      0.82     72094\n",
      "\n",
      "    accuracy                           0.79    122919\n",
      "   macro avg       0.78      0.78      0.78    122919\n",
      "weighted avg       0.79      0.79      0.79    122919\n",
      "\n"
     ]
    }
   ],
   "source": [
    "# prediction results\n",
    "y_pred = grid.predict(X_test)\n",
    "\n",
    "# print accuracy metrics\n",
    "results, false = display_test_scores_v2(y_test, y_pred)\n",
    "print(results)"
   ]
  },
  {
   "cell_type": "markdown",
   "execution_count": null,
   "metadata": {},
   "source": [
    "Show feature importances:\n"
   ]
  },
  {
   "cell_type": "code",
   "execution_count": 5,
   "metadata": {},
   "outputs": [
    {
     "data": {
      "text/plain": [
       "([<matplotlib.patches.Wedge at 0x7f9d06726290>,\n",
       "  <matplotlib.patches.Wedge at 0x7f9d068a4bd0>,\n",
       "  <matplotlib.patches.Wedge at 0x7f9d068c3bd0>,\n",
       "  <matplotlib.patches.Wedge at 0x7f9d06726e50>,\n",
       "  <matplotlib.patches.Wedge at 0x7f9d066bbcd0>,\n",
       "  <matplotlib.patches.Wedge at 0x7f9d066c5510>,\n",
       "  <matplotlib.patches.Wedge at 0x7f9d066c5a10>,\n",
       "  <matplotlib.patches.Wedge at 0x7f9d066ce310>],\n",
       " [Text(-0.5104790962437803, 0.9743772843709636, 'n_EAR'),\n",
       "  Text(-1.0999953084278362, -0.003212699293402883, 'n_MAR'),\n",
       "  Text(-0.5632317460013413, -0.9448650698889661, 'n_MOE'),\n",
       "  Text(0.23025066338870873, -1.0756322010841157, 'n_EC'),\n",
       "  Text(0.9704514971704664, -0.5179033612939778, 'n_LEB'),\n",
       "  Text(1.028747320140051, 0.38945981988475226, 'n_SOP'),\n",
       "  Text(0.5008749321522318, 0.9793489175679408, 'PERCLOS'),\n",
       "  Text(0.025122147250259155, 1.0997130888179592, 'CLOSENESS')])"
      ]
     },
     "execution_count": 5,
     "metadata": {},
     "output_type": "execute_result"
    },
    {
     "data": {
      "image/png": "[encoded data removed]",
      "text/plain": [
       "<Figure size 432x288 with 1 Axes>"
      ]
     },
     "metadata": {},
     "output_type": "display_data"
    }
   ],
   "source": [
    "# pie-chart \n",
    "labels = X_train.columns\n",
    "plt.pie(grid.best_estimator_.feature_importances_, labels=labels, shadow=True, startangle=90) "
   ]
  },
  {
   "cell_type": "markdown",
   "execution_count": null,
   "metadata": {},
   "source": [
    "# Permutation Importance:\n",
    "\n",
    "see https://scikit-learn.org/stable/auto_examples/inspection/plot_permutation_importance.html#sphx-glr-auto-examples-inspection-plot-permutation-importance-py\n",
    "\n",
    "and https://scikit-learn.org/stable/modules/permutation_importance.html#permutation-importance"
   ]
  },
  {
   "cell_type": "markdown",
   "execution_count": null,
   "metadata": {},
   "source": [
    "**Train Set**"
   ]
  },
  {
   "cell_type": "code",
   "execution_count": 6,
   "metadata": {},
   "outputs": [
    {
     "data": {
      "image/png": "[encoded data removed]",
      "text/plain": [
       "<Figure size 432x288 with 1 Axes>"
      ]
     },
     "metadata": {
      "needs_background": "light"
     },
     "output_type": "display_data"
    },
    {
     "name": "stdout",
     "output_type": "stream",
     "text": [
      "PERCLOS  0.312 +/- 0.000\n",
      "n_MAR    0.298 +/- 0.001\n",
      "n_LEB    0.297 +/- 0.000\n",
      "n_EAR    0.285 +/- 0.000\n",
      "n_MOE    0.191 +/- 0.000\n",
      "n_EC     0.130 +/- 0.000\n",
      "n_SOP    0.093 +/- 0.000\n",
      "CLOSENESS 0.018 +/- 0.000\n"
     ]
    }
   ],
   "source": [
    "from sklearn.inspection import permutation_importance\n",
    "\n",
    "result = permutation_importance(grid, X_train, y_train, n_repeats=10,\n",
    "                                random_state=42, n_jobs=2)\n",
    "sorted_idx = result.importances_mean.argsort()\n",
    "\n",
    "fig, ax = plt.subplots()\n",
    "ax.boxplot(result.importances[sorted_idx].T,\n",
    "           vert=False, labels=X_train.columns[sorted_idx])\n",
    "ax.set_title(\"Permutation Importances (train set)\")\n",
    "fig.tight_layout()\n",
    "plt.show()\n",
    "\n",
    "for i in result.importances_mean.argsort()[::-1]:\n",
    "     if result.importances_mean[i] - 2 * result.importances_std[i] > 0:\n",
    "         print(f\"{X_train.columns[i]:<8} \"\n",
    "               f\"{result.importances_mean[i]:.3f}\"\n",
    "               f\" +/- {result.importances_std[i]:.3f}\")"
   ]
  },
  {
   "cell_type": "markdown",
   "execution_count": null,
   "metadata": {},
   "source": [
    "**Test Set**\n",
    "\n"
   ]
  },
  {
   "cell_type": "code",
   "execution_count": 7,
   "metadata": {},
   "outputs": [
    {
     "data": {
      "image/png": "[encoded data removed]",
      "text/plain": [
       "<Figure size 432x288 with 1 Axes>"
      ]
     },
     "metadata": {
      "needs_background": "light"
     },
     "output_type": "display_data"
    },
    {
     "name": "stdout",
     "output_type": "stream",
     "text": [
      "PERCLOS  0.151 +/- 0.001\n",
      "n_MAR    0.145 +/- 0.001\n",
      "n_EAR    0.130 +/- 0.001\n",
      "n_LEB    0.125 +/- 0.001\n",
      "n_MOE    0.091 +/- 0.001\n",
      "n_EC     0.050 +/- 0.001\n",
      "n_SOP    0.044 +/- 0.001\n",
      "CLOSENESS 0.009 +/- 0.000\n"
     ]
    }
   ],
   "source": [
    "result = permutation_importance(grid, X_test, y_test, n_repeats=10,\n",
    "                                random_state=42, n_jobs=2)\n",
    "sorted_idx = result.importances_mean.argsort()\n",
    "\n",
    "fig, ax = plt.subplots()\n",
    "ax.boxplot(result.importances[sorted_idx].T,\n",
    "           vert=False, labels=X_test.columns[sorted_idx])\n",
    "ax.set_title(\"Permutation Importances (test set)\")\n",
    "fig.tight_layout()\n",
    "plt.show()\n",
    "\n",
    "for i in result.importances_mean.argsort()[::-1]:\n",
    "     if result.importances_mean[i] - 2 * result.importances_std[i] > 0:\n",
    "         print(f\"{X_test.columns[i]:<8} \"\n",
    "               f\"{result.importances_mean[i]:.3f}\"\n",
    "               f\" +/- {result.importances_std[i]:.3f}\")"
   ]
  }
 ],
 "metadata": {
  "kernelspec": {
   "display_name": "Python 3",
   "language": "python",
   "name": "python3"
  },
  "language_info": {
   "codemirror_mode": {
    "name": "ipython",
    "version": 3
   },
   "file_extension": ".py",
   "mimetype": "text/x-python",
   "name": "python",
   "nbconvert_exporter": "python",
   "pygments_lexer": "ipython3",
   "version": "3.7.6"
  }
 },
 "nbformat": 4,
 "nbformat_minor": 4
}
