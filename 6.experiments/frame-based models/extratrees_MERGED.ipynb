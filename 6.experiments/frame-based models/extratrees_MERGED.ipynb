{
 "cells": [
  {
   "cell_type": "code",
   "execution_count": 1,
   "metadata": {
    "_cell_guid": "b1076dfc-b9ad-4769-8c92-a6c4dae69d19",
    "_uuid": "8f2839f25d086af736a60e9eeb907d3b93b6e0e5",
    "execution": {
     "iopub.execute_input": "2021-01-06T10:41:08.797693Z",
     "iopub.status.busy": "2021-01-06T10:41:08.796709Z",
     "iopub.status.idle": "2021-01-06T10:41:10.191056Z",
     "shell.execute_reply": "2021-01-06T10:41:10.191647Z"
    },
    "papermill": {
     "duration": 1.40402,
     "end_time": "2021-01-06T10:41:10.191836",
     "exception": false,
     "start_time": "2021-01-06T10:41:08.787816",
     "status": "completed"
    },
    "tags": []
   },
   "outputs": [],
   "source": [
    "import os \n",
    "import pandas as pd\n",
    "import numpy as np\n",
    "\n",
    "# import sklearn methods \n",
    "from sklearn.metrics import accuracy_score, roc_curve, confusion_matrix, classification_report, roc_auc_score\n",
    "from sklearn.model_selection import train_test_split\n",
    "from sklearn.model_selection import StratifiedShuffleSplit\n",
    "from sklearn.model_selection import GridSearchCV\n",
    "import sys \n",
    "from sklearn.model_selection import learning_curve\n",
    "from sklearn.datasets import make_classification\n",
    "from sklearn.ensemble import ExtraTreesClassifier"
   ]
  },
  {
   "cell_type": "code",
   "execution_count": 2,
   "metadata": {
    "_cell_guid": "79c7e3d0-c299-4dcb-8224-4455121ee9b0",
    "_uuid": "d629ff2d2480ee46fbb7e2d37f6b5fab8052498a",
    "execution": {
     "iopub.execute_input": "2021-01-06T10:41:10.208104Z",
     "iopub.status.busy": "2021-01-06T10:41:10.207314Z",
     "iopub.status.idle": "2021-01-06T10:41:10.219780Z",
     "shell.execute_reply": "2021-01-06T10:41:10.220287Z"
    },
    "papermill": {
     "duration": 0.020856,
     "end_time": "2021-01-06T10:41:10.220507",
     "exception": false,
     "start_time": "2021-01-06T10:41:10.199651",
     "status": "completed"
    },
    "tags": []
   },
   "outputs": [],
   "source": [
    "def display_test_scores(test, pred):\n",
    "    str_out = \"\"\n",
    "    str_out += (\"TEST SCORES\\n\")\n",
    "    str_out += (\"\\n\")\n",
    "\n",
    "    #print accuracy\n",
    "    accuracy = accuracy_score(test, pred)\n",
    "    str_out += (\"ACCURACY: {:.4f}\\n\".format(accuracy))\n",
    "    str_out += (\"\\n\")\n",
    "\n",
    "\n",
    "    #print confusion matrix\n",
    "    str_out += (\"CONFUSION MATRIX:\\n\")\n",
    "    conf_mat = confusion_matrix(test, pred)\n",
    "    str_out += (\"{}\".format(conf_mat))\n",
    "    str_out += (\"\\n\")\n",
    "    str_out += (\"\\n\")\n",
    "\n",
    "    #print FP, FN\n",
    "    str_out += (\"FALSE POSITIVES:\\n\")\n",
    "    fp = conf_mat[1][0]\n",
    "    pos_labels = conf_mat[1][0]+conf_mat[1][1]\n",
    "    str_out += (\"{} out of {} positive labels ({:.4f}%)\\n\".format(fp, pos_labels,fp/pos_labels))\n",
    "    str_out += (\"\\n\")\n",
    "\n",
    "    str_out += (\"FALSE NEGATIVES:\\n\")\n",
    "    fn = conf_mat[0][1]\n",
    "    neg_labels = conf_mat[0][1]+conf_mat[0][0]\n",
    "    str_out += (\"{} out of {} negative labels ({:.4f}%)\\n\".format(fn, neg_labels, fn/neg_labels))\n",
    "    str_out += (\"\\n\")\n",
    "\n",
    "    #print classification report\n",
    "    str_out += (\"PRECISION, RECALL, F1 scores:\\n\")\n",
    "    str_out += (\"{}\".format(classification_report(test, pred)))\n",
    "    \n",
    "    false_indexes = np.where(test != pred)\n",
    "    return str_out, false_indexes"
   ]
  },
  {
   "cell_type": "code",
   "execution_count": 3,
   "metadata": {
    "execution": {
     "iopub.execute_input": "2021-01-06T10:41:10.233569Z",
     "iopub.status.busy": "2021-01-06T10:41:10.232844Z",
     "iopub.status.idle": "2021-01-06T10:41:18.776453Z",
     "shell.execute_reply": "2021-01-06T10:41:18.775773Z"
    },
    "papermill": {
     "duration": 8.551122,
     "end_time": "2021-01-06T10:41:18.776594",
     "exception": false,
     "start_time": "2021-01-06T10:41:10.225472",
     "status": "completed"
    },
    "tags": []
   },
   "outputs": [],
   "source": [
    "################ scaled dataset ###################\n",
    "df_original2 = pd.read_pickle('../input/rlddandmerged/merged_normalized_scaled.pkl')\n",
    "\n",
    "X2 = df_original2.loc[:, [\"n_EAR\", \n",
    "                    \"n_MAR\", \"n_MOE\", \"n_EC\",\n",
    "                    \"n_LEB\", \"n_SOP\", \"PERCLOS\", \"CLOSENESS\"]]\n",
    "\n",
    "y2 = df_original2.loc[:, \"DROWSINESS\"]\n",
    "y2 = y2.map({0: 0, 0.5: 1, 1:2})\n",
    "df_original2.loc[:, \"DROWSINESS\"] = y2\n",
    "\n",
    "y2_f = df_original2.loc[:, \"DROWSINESS\"]\n",
    "\n",
    "\n",
    "X_train2, X_test2, y_train2, y_test2 = train_test_split(X2, y2_f, test_size = 0.2, stratify = y2)"
   ]
  },
  {
   "cell_type": "code",
   "execution_count": 4,
   "metadata": {
    "execution": {
     "iopub.execute_input": "2021-01-06T10:41:18.795894Z",
     "iopub.status.busy": "2021-01-06T10:41:18.795078Z",
     "iopub.status.idle": "2021-01-06T10:41:18.798028Z",
     "shell.execute_reply": "2021-01-06T10:41:18.798610Z"
    },
    "papermill": {
     "duration": 0.015615,
     "end_time": "2021-01-06T10:41:18.798795",
     "exception": false,
     "start_time": "2021-01-06T10:41:18.783180",
     "status": "completed"
    },
    "tags": []
   },
   "outputs": [],
   "source": [
    "# cross-validation with 5 splits\n",
    "cv = StratifiedShuffleSplit(n_splits=10, random_state = 42)\n",
    "\n",
    "# CART decision tree\n",
    "extra_trees = ExtraTreesClassifier(random_state=0)\n",
    "\n",
    "\n",
    "# parameters \n",
    "parameters = {\n",
    "                #\"max_features\": [None, \"sqrt\"],\n",
    "                #\"class_weight\": [None, \"balanced_subsample\"],\n",
    "                #\"max_samples\": [0.3, 0.7],\n",
    "                \"n_estimators\": [10]\n",
    "                }"
   ]
  },
  {
   "cell_type": "code",
   "execution_count": 5,
   "metadata": {
    "execution": {
     "iopub.execute_input": "2021-01-06T10:41:18.817974Z",
     "iopub.status.busy": "2021-01-06T10:41:18.817244Z",
     "iopub.status.idle": "2021-01-06T10:46:58.589911Z",
     "shell.execute_reply": "2021-01-06T10:46:58.588546Z"
    },
    "papermill": {
     "duration": 339.785776,
     "end_time": "2021-01-06T10:46:58.590073",
     "exception": false,
     "start_time": "2021-01-06T10:41:18.804297",
     "status": "completed"
    },
    "tags": []
   },
   "outputs": [
    {
     "name": "stdout",
     "output_type": "stream",
     "text": [
      "The best parameters are {'n_estimators': 10} with a score of 0.7974\n",
      "TEST SCORES\n",
      "\n",
      "ACCURACY: 0.8010\n",
      "\n",
      "CONFUSION MATRIX:\n",
      "[[209631  14157  25921]\n",
      " [ 29364 149669  19287]\n",
      " [ 37257  17907 219823]]\n",
      "\n",
      "FALSE POSITIVES:\n",
      "29364 out of 179033 positive labels (0.1640%)\n",
      "\n",
      "FALSE NEGATIVES:\n",
      "14157 out of 223788 negative labels (0.0633%)\n",
      "\n",
      "PRECISION, RECALL, F1 scores:\n",
      "              precision    recall  f1-score   support\n",
      "\n",
      "           0       0.76      0.84      0.80    249709\n",
      "           1       0.82      0.75      0.79    198320\n",
      "           2       0.83      0.80      0.81    274987\n",
      "\n",
      "    accuracy                           0.80    723016\n",
      "   macro avg       0.80      0.80      0.80    723016\n",
      "weighted avg       0.80      0.80      0.80    723016\n",
      "\n"
     ]
    }
   ],
   "source": [
    "# grid search for parameters\n",
    "grid2 = GridSearchCV(estimator=extra_trees, param_grid=parameters, cv=cv, n_jobs=-1)\n",
    "grid2.fit(X_train2, y_train2)\n",
    "\n",
    "# print best scores\n",
    "print(\"The best parameters are %s with a score of %0.4f\"\n",
    "      % (grid2.best_params_, grid2.best_score_))\n",
    "\n",
    "# prediction results\n",
    "y_pred2 = grid2.predict(X_test2)\n",
    "\n",
    "# print accuracy metrics\n",
    "results2, false2 = display_test_scores(y_test2, y_pred2)\n",
    "print(results2)"
   ]
  }
 ],
 "metadata": {
  "kernelspec": {
   "display_name": "Python 3",
   "language": "python",
   "name": "python3"
  },
  "language_info": {
   "codemirror_mode": {
    "name": "ipython",
    "version": 3
   },
   "file_extension": ".py",
   "mimetype": "text/x-python",
   "name": "python",
   "nbconvert_exporter": "python",
   "pygments_lexer": "ipython3",
   "version": "3.7.6"
  },
  "papermill": {
   "duration": 354.813292,
   "end_time": "2021-01-06T10:46:58.810403",
   "environment_variables": {},
   "exception": null,
   "input_path": "__notebook__.ipynb",
   "output_path": "__notebook__.ipynb",
   "parameters": {},
   "start_time": "2021-01-06T10:41:03.997111",
   "version": "2.1.0"
  }
 },
 "nbformat": 4,
 "nbformat_minor": 4
}
