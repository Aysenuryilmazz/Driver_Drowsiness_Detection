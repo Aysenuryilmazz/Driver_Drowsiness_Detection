{
 "cells": [
  {
   "cell_type": "code",
   "execution_count": 1,
   "metadata": {
    "_cell_guid": "b1076dfc-b9ad-4769-8c92-a6c4dae69d19",
    "_uuid": "8f2839f25d086af736a60e9eeb907d3b93b6e0e5",
    "execution": {
     "iopub.execute_input": "2021-01-21T13:15:29.251657Z",
     "iopub.status.busy": "2021-01-21T13:15:29.250998Z",
     "iopub.status.idle": "2021-01-21T13:15:34.812312Z",
     "shell.execute_reply": "2021-01-21T13:15:34.812985Z"
    },
    "papermill": {
     "duration": 5.575627,
     "end_time": "2021-01-21T13:15:34.813227",
     "exception": false,
     "start_time": "2021-01-21T13:15:29.237600",
     "status": "completed"
    },
    "tags": []
   },
   "outputs": [],
   "source": [
    "# multivariate multi-step stacked lstm example\n",
    "import numpy as np\n",
    "from numpy import array\n",
    "from numpy import hstack\n",
    "from keras.models import Sequential\n",
    "from keras.layers import LSTM\n",
    "from keras.layers import Dense\n",
    "from keras.layers import Bidirectional\n",
    "import pandas as pd\n",
    "import pickle as pkl\n",
    "from sklearn.metrics import mean_squared_error\n",
    "import tensorflow as tf\n",
    "from sklearn.preprocessing import MinMaxScaler\n",
    "from sklearn.metrics import f1_score\n",
    "from sklearn.metrics import accuracy_score, roc_curve, confusion_matrix, classification_report, roc_auc_score"
   ]
  },
  {
   "cell_type": "code",
   "execution_count": 2,
   "metadata": {
    "execution": {
     "iopub.execute_input": "2021-01-21T13:15:34.834823Z",
     "iopub.status.busy": "2021-01-21T13:15:34.834230Z",
     "iopub.status.idle": "2021-01-21T13:16:31.680478Z",
     "shell.execute_reply": "2021-01-21T13:16:31.679407Z"
    },
    "papermill": {
     "duration": 56.857476,
     "end_time": "2021-01-21T13:16:31.680594",
     "exception": false,
     "start_time": "2021-01-21T13:15:34.823118",
     "status": "completed"
    },
    "tags": []
   },
   "outputs": [],
   "source": [
    "nthu_train_X = pkl.load(open(\"../input/ddd-data-preparation-nthu/nthu_train_X\", 'rb'))\n",
    "nthu_train_y = pkl.load(open(\"../input/ddd-data-preparation-nthu/nthu_train_y\", 'rb'))\n",
    "\n",
    "nthu_test_X = pkl.load(open(\"../input/ddd-data-preparation-nthu/nthu_test_X\", 'rb'))\n",
    "nthu_test_y = pkl.load(open(\"../input/ddd-data-preparation-nthu/nthu_test_y\", 'rb'))"
   ]
  },
  {
   "cell_type": "code",
   "execution_count": 3,
   "metadata": {
    "execution": {
     "iopub.execute_input": "2021-01-21T13:16:31.710721Z",
     "iopub.status.busy": "2021-01-21T13:16:31.705576Z",
     "iopub.status.idle": "2021-01-21T13:16:32.550876Z",
     "shell.execute_reply": "2021-01-21T13:16:32.550418Z"
    },
    "papermill": {
     "duration": 0.863997,
     "end_time": "2021-01-21T13:16:32.550977",
     "exception": false,
     "start_time": "2021-01-21T13:16:31.686980",
     "status": "completed"
    },
    "tags": []
   },
   "outputs": [],
   "source": [
    "nthu_train_y=np.array([int(nthu_train_y[i][0]/2) for i in range(len(nthu_train_y))])\n",
    "nthu_test_y=np.array([int(nthu_test_y[i][0]/2) for i in range(len(nthu_test_y))])"
   ]
  },
  {
   "cell_type": "code",
   "execution_count": 4,
   "metadata": {
    "execution": {
     "iopub.execute_input": "2021-01-21T13:16:32.569646Z",
     "iopub.status.busy": "2021-01-21T13:16:32.569108Z",
     "iopub.status.idle": "2021-01-21T19:12:51.699040Z",
     "shell.execute_reply": "2021-01-21T19:12:51.698381Z"
    },
    "papermill": {
     "duration": 21379.141854,
     "end_time": "2021-01-21T19:12:51.699169",
     "exception": false,
     "start_time": "2021-01-21T13:16:32.557315",
     "status": "completed"
    },
    "tags": []
   },
   "outputs": [
    {
     "name": "stdout",
     "output_type": "stream",
     "text": [
      "Epoch 1/32\n",
      "52620/52620 - 666s - loss: 0.3944\n",
      "Epoch 2/32\n",
      "52620/52620 - 666s - loss: 0.1771\n",
      "Epoch 3/32\n",
      "52620/52620 - 666s - loss: 0.0931\n",
      "Epoch 4/32\n",
      "52620/52620 - 667s - loss: 0.0589\n",
      "Epoch 5/32\n",
      "52620/52620 - 666s - loss: 0.0437\n",
      "Epoch 6/32\n",
      "52620/52620 - 664s - loss: 0.0358\n",
      "Epoch 7/32\n",
      "52620/52620 - 664s - loss: 0.0296\n",
      "Epoch 8/32\n",
      "52620/52620 - 666s - loss: 0.0261\n",
      "Epoch 9/32\n",
      "52620/52620 - 665s - loss: 0.0240\n",
      "Epoch 10/32\n",
      "52620/52620 - 666s - loss: 0.0225\n",
      "Epoch 11/32\n",
      "52620/52620 - 671s - loss: 0.0213\n",
      "Epoch 12/32\n",
      "52620/52620 - 666s - loss: 0.0203\n",
      "Epoch 13/32\n",
      "52620/52620 - 664s - loss: 0.0209\n",
      "Epoch 14/32\n",
      "52620/52620 - 666s - loss: 0.0212\n",
      "Epoch 15/32\n",
      "52620/52620 - 666s - loss: 0.0229\n",
      "Epoch 16/32\n",
      "52620/52620 - 669s - loss: 0.0197\n",
      "Epoch 17/32\n",
      "52620/52620 - 668s - loss: 0.0188\n",
      "Epoch 18/32\n",
      "52620/52620 - 667s - loss: 0.0198\n",
      "Epoch 19/32\n",
      "52620/52620 - 668s - loss: 0.0186\n",
      "Epoch 20/32\n",
      "52620/52620 - 666s - loss: 0.0228\n",
      "Epoch 21/32\n",
      "52620/52620 - 665s - loss: 0.0239\n",
      "Epoch 22/32\n",
      "52620/52620 - 663s - loss: 0.0526\n",
      "Epoch 23/32\n",
      "52620/52620 - 664s - loss: 0.2545\n",
      "Epoch 24/32\n",
      "52620/52620 - 664s - loss: 0.3421\n",
      "Epoch 25/32\n",
      "52620/52620 - 676s - loss: 0.3964\n",
      "Epoch 26/32\n",
      "52620/52620 - 668s - loss: 0.4367\n",
      "Epoch 27/32\n",
      "52620/52620 - 670s - loss: 0.4787\n",
      "Epoch 28/32\n",
      "52620/52620 - 670s - loss: 0.4897\n",
      "Epoch 29/32\n",
      "52620/52620 - 667s - loss: 0.5016\n",
      "Epoch 30/32\n",
      "52620/52620 - 677s - loss: 0.5046\n",
      "Epoch 31/32\n",
      "52620/52620 - 678s - loss: 0.5138\n",
      "Epoch 32/32\n",
      "52620/52620 - 676s - loss: 0.5247\n"
     ]
    },
    {
     "data": {
      "text/plain": [
       "<tensorflow.python.keras.callbacks.History at 0x7f13602ce810>"
      ]
     },
     "execution_count": 4,
     "metadata": {},
     "output_type": "execute_result"
    }
   ],
   "source": [
    "n_steps_in, n_features, n_steps_out= 150, 8, 1\n",
    "\n",
    "# define model\n",
    "model = Sequential()\n",
    "model.add(Bidirectional(LSTM(100, activation='tanh'), input_shape=(n_steps_in, n_features)))\n",
    "model.add(Dense(n_steps_out, activation='sigmoid'))\n",
    "model.compile(optimizer='adam', loss='binary_crossentropy')\n",
    "# fit model\n",
    "model.fit(nthu_train_X, np.ravel(nthu_train_y), batch_size=8, epochs=32, verbose=2)"
   ]
  },
  {
   "cell_type": "code",
   "execution_count": 5,
   "metadata": {
    "execution": {
     "iopub.execute_input": "2021-01-21T19:12:51.755140Z",
     "iopub.status.busy": "2021-01-21T19:12:51.754025Z",
     "iopub.status.idle": "2021-01-21T19:13:17.384121Z",
     "shell.execute_reply": "2021-01-21T19:13:17.384944Z"
    },
    "papermill": {
     "duration": 25.660029,
     "end_time": "2021-01-21T19:13:17.385142",
     "exception": false,
     "start_time": "2021-01-21T19:12:51.725113",
     "status": "completed"
    },
    "tags": []
   },
   "outputs": [
    {
     "name": "stdout",
     "output_type": "stream",
     "text": [
      "4101/4101 [==============================] - 23s 6ms/step\n",
      "[[1]\n",
      " [0]\n",
      " [1]\n",
      " ...\n",
      " [1]\n",
      " [1]\n",
      " [1]]\n"
     ]
    }
   ],
   "source": [
    "# demonstrate prediction\n",
    "yhat = model.predict_classes(nthu_test_X, verbose=1)\n",
    "print(yhat)"
   ]
  },
  {
   "cell_type": "code",
   "execution_count": 6,
   "metadata": {
    "execution": {
     "iopub.execute_input": "2021-01-21T19:13:17.695442Z",
     "iopub.status.busy": "2021-01-21T19:13:17.693708Z",
     "iopub.status.idle": "2021-01-21T19:13:17.698649Z",
     "shell.execute_reply": "2021-01-21T19:13:17.699079Z"
    },
    "papermill": {
     "duration": 0.161879,
     "end_time": "2021-01-21T19:13:17.699203",
     "exception": false,
     "start_time": "2021-01-21T19:13:17.537324",
     "status": "completed"
    },
    "tags": []
   },
   "outputs": [
    {
     "data": {
      "text/plain": [
       "0.4015530222208675"
      ]
     },
     "execution_count": 6,
     "metadata": {},
     "output_type": "execute_result"
    }
   ],
   "source": [
    "mean_squared_error(np.squeeze(yhat),nthu_test_y)"
   ]
  },
  {
   "cell_type": "code",
   "execution_count": 7,
   "metadata": {
    "execution": {
     "iopub.execute_input": "2021-01-21T19:13:18.017028Z",
     "iopub.status.busy": "2021-01-21T19:13:18.016306Z",
     "iopub.status.idle": "2021-01-21T19:13:18.020044Z",
     "shell.execute_reply": "2021-01-21T19:13:18.019575Z"
    },
    "papermill": {
     "duration": 0.166143,
     "end_time": "2021-01-21T19:13:18.020138",
     "exception": false,
     "start_time": "2021-01-21T19:13:17.853995",
     "status": "completed"
    },
    "tags": []
   },
   "outputs": [],
   "source": [
    "def display_test_scores(test, pred):\n",
    "    str_out = \"\"\n",
    "    str_out += (\"TEST SCORES\\n\")\n",
    "    str_out += (\"\\n\")\n",
    "\n",
    "    #print accuracy\n",
    "    accuracy = accuracy_score(test, pred)\n",
    "    str_out += (\"ACCURACY: {:.4f}\\n\".format(accuracy))\n",
    "    str_out += (\"\\n\")\n",
    "\n",
    "    #print AUC score\n",
    "    auc = roc_auc_score(test, pred)\n",
    "    str_out += (\"AUC: {:.4f}\\n\".format(auc))\n",
    "    str_out += (\"\\n\")\n",
    "\n",
    "    #print confusion matrix\n",
    "    str_out += (\"CONFUSION MATRIX:\\n\")\n",
    "    conf_mat = confusion_matrix(test, pred)\n",
    "    str_out += (\"{}\".format(conf_mat))\n",
    "    str_out += (\"\\n\")\n",
    "    str_out += (\"\\n\")\n",
    "\n",
    "    #print FP, FN\n",
    "    str_out += (\"FALSE POSITIVES:\\n\")\n",
    "    fp = conf_mat[1][0]\n",
    "    pos_labels = conf_mat[1][0]+conf_mat[1][1]\n",
    "    str_out += (\"{} out of {} positive labels ({:.4f}%)\\n\".format(fp, pos_labels,fp/pos_labels))\n",
    "    str_out += (\"\\n\")\n",
    "\n",
    "    str_out += (\"FALSE NEGATIVES:\\n\")\n",
    "    fn = conf_mat[0][1]\n",
    "    neg_labels = conf_mat[0][1]+conf_mat[0][0]\n",
    "    str_out += (\"{} out of {} negative labels ({:.4f}%)\\n\".format(fn, neg_labels, fn/neg_labels))\n",
    "    str_out += (\"\\n\")\n",
    "\n",
    "    #print classification report\n",
    "    str_out += (\"PRECISION, RECALL, F1 scores:\\n\")\n",
    "    str_out += (\"{}\".format(classification_report(test, pred)))\n",
    "    \n",
    "    false_indexes = np.where(test != pred)\n",
    "    return str_out, false_indexes"
   ]
  },
  {
   "cell_type": "code",
   "execution_count": 8,
   "metadata": {
    "execution": {
     "iopub.execute_input": "2021-01-21T19:13:18.325933Z",
     "iopub.status.busy": "2021-01-21T19:13:18.325091Z",
     "iopub.status.idle": "2021-01-21T19:13:18.879950Z",
     "shell.execute_reply": "2021-01-21T19:13:18.879067Z"
    },
    "papermill": {
     "duration": 0.711416,
     "end_time": "2021-01-21T19:13:18.880105",
     "exception": false,
     "start_time": "2021-01-21T19:13:18.168689",
     "status": "completed"
    },
    "tags": []
   },
   "outputs": [
    {
     "name": "stdout",
     "output_type": "stream",
     "text": [
      "TEST SCORES\n",
      "\n",
      "ACCURACY: 0.5984\n",
      "\n",
      "AUC: 0.5818\n",
      "\n",
      "CONFUSION MATRIX:\n",
      "[[15307 47051]\n",
      " [ 5644 63226]]\n",
      "\n",
      "FALSE POSITIVES:\n",
      "5644 out of 68870 positive labels (0.0820%)\n",
      "\n",
      "FALSE NEGATIVES:\n",
      "47051 out of 62358 negative labels (0.7545%)\n",
      "\n",
      "PRECISION, RECALL, F1 scores:\n",
      "              precision    recall  f1-score   support\n",
      "\n",
      "           0       0.73      0.25      0.37     62358\n",
      "           1       0.57      0.92      0.71     68870\n",
      "\n",
      "    accuracy                           0.60    131228\n",
      "   macro avg       0.65      0.58      0.54    131228\n",
      "weighted avg       0.65      0.60      0.55    131228\n",
      "\n"
     ]
    },
    {
     "data": {
      "text/plain": [
       "(131228,)"
      ]
     },
     "execution_count": 8,
     "metadata": {},
     "output_type": "execute_result"
    }
   ],
   "source": [
    "y_pred = np.squeeze(yhat)\n",
    "results, false = display_test_scores(nthu_test_y, y_pred)\n",
    "print(results)\n",
    "y_pred.shape"
   ]
  },
  {
   "cell_type": "code",
   "execution_count": 9,
   "metadata": {
    "execution": {
     "iopub.execute_input": "2021-01-21T19:13:19.443312Z",
     "iopub.status.busy": "2021-01-21T19:13:19.442144Z",
     "iopub.status.idle": "2021-01-21T19:13:19.533883Z",
     "shell.execute_reply": "2021-01-21T19:13:19.535038Z"
    },
    "papermill": {
     "duration": 0.390276,
     "end_time": "2021-01-21T19:13:19.535217",
     "exception": false,
     "start_time": "2021-01-21T19:13:19.144941",
     "status": "completed"
    },
    "tags": []
   },
   "outputs": [],
   "source": [
    "model.save(\"lstm_bidirectional_v2.h5\")"
   ]
  }
 ],
 "metadata": {
  "kernelspec": {
   "display_name": "Python 3",
   "language": "python",
   "name": "python3"
  },
  "language_info": {
   "codemirror_mode": {
    "name": "ipython",
    "version": 3
   },
   "file_extension": ".py",
   "mimetype": "text/x-python",
   "name": "python",
   "nbconvert_exporter": "python",
   "pygments_lexer": "ipython3",
   "version": "3.7.6"
  },
  "papermill": {
   "duration": 21477.092401,
   "end_time": "2021-01-21T19:13:22.298124",
   "environment_variables": {},
   "exception": null,
   "input_path": "__notebook__.ipynb",
   "output_path": "__notebook__.ipynb",
   "parameters": {},
   "start_time": "2021-01-21T13:15:25.205723",
   "version": "2.1.0"
  }
 },
 "nbformat": 4,
 "nbformat_minor": 4
}
