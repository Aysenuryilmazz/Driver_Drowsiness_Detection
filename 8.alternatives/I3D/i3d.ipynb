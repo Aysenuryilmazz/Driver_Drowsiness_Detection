{
 "cells": [
  {
   "cell_type": "code",
   "execution_count": 1,
   "metadata": {
    "_cell_guid": "b1076dfc-b9ad-4769-8c92-a6c4dae69d19",
    "_uuid": "8f2839f25d086af736a60e9eeb907d3b93b6e0e5",
    "execution": {
     "iopub.execute_input": "2020-12-17T05:42:51.233238Z",
     "iopub.status.busy": "2020-12-17T05:42:51.232412Z",
     "iopub.status.idle": "2020-12-17T05:42:58.683037Z",
     "shell.execute_reply": "2020-12-17T05:42:58.682301Z"
    },
    "papermill": {
     "duration": 7.476551,
     "end_time": "2020-12-17T05:42:58.683212",
     "exception": false,
     "start_time": "2020-12-17T05:42:51.206661",
     "status": "completed"
    },
    "tags": []
   },
   "outputs": [],
   "source": [
    "import numpy as np\n",
    "import pandas as pd\n",
    "from sklearn.model_selection import train_test_split\n",
    "from keras.utils import to_categorical\n",
    "from keras.layers import Dense, Flatten, Dropout, ZeroPadding3D\n",
    "from keras.layers.recurrent import LSTM\n",
    "from keras.models import Sequential, load_model\n",
    "from keras.optimizers import Adam, RMSprop\n",
    "from keras.layers.wrappers import TimeDistributed\n",
    "from keras.layers.convolutional import (Conv2D, MaxPooling3D, Conv3D,\n",
    "    MaxPooling2D)\n",
    "from collections import deque\n",
    "import sys"
   ]
  },
  {
   "cell_type": "code",
   "execution_count": 2,
   "metadata": {
    "_cell_guid": "79c7e3d0-c299-4dcb-8224-4455121ee9b0",
    "_uuid": "d629ff2d2480ee46fbb7e2d37f6b5fab8052498a",
    "execution": {
     "iopub.execute_input": "2020-12-17T05:42:58.726283Z",
     "iopub.status.busy": "2020-12-17T05:42:58.725253Z",
     "iopub.status.idle": "2020-12-17T05:42:58.730461Z",
     "shell.execute_reply": "2020-12-17T05:42:58.729757Z"
    },
    "papermill": {
     "duration": 0.033494,
     "end_time": "2020-12-17T05:42:58.730586",
     "exception": false,
     "start_time": "2020-12-17T05:42:58.697092",
     "status": "completed"
    },
    "tags": []
   },
   "outputs": [],
   "source": [
    "def display_test_scores(test, pred):\n",
    "    str_out = \"\"\n",
    "    str_out += (\"TEST SCORES\\n\")\n",
    "    str_out += (\"\\n\")\n",
    "\n",
    "    #print accuracy\n",
    "    accuracy = accuracy_score(test, pred)\n",
    "    str_out += (\"ACCURACY: {:.4f}\\n\".format(accuracy))\n",
    "    str_out += (\"\\n\")\n",
    "\n",
    "    #print AUC score\n",
    "    auc = roc_auc_score(test, pred)\n",
    "    str_out += (\"AUC: {:.4f}\\n\".format(auc))\n",
    "    str_out += (\"\\n\")\n",
    "\n",
    "    #print confusion matrix\n",
    "    str_out += (\"CONFUSION MATRIX:\\n\")\n",
    "    conf_mat = confusion_matrix(test, pred)\n",
    "    str_out += (\"{}\".format(conf_mat))\n",
    "    str_out += (\"\\n\")\n",
    "    str_out += (\"\\n\")\n",
    "\n",
    "    #print FP, FN\n",
    "    str_out += (\"FALSE POSITIVES:\\n\")\n",
    "    fp = conf_mat[1][0]\n",
    "    pos_labels = conf_mat[1][0]+conf_mat[1][1]\n",
    "    str_out += (\"{} out of {} positive labels ({:.4f}%)\\n\".format(fp, pos_labels,fp/pos_labels))\n",
    "    str_out += (\"\\n\")\n",
    "\n",
    "    str_out += (\"FALSE NEGATIVES:\\n\")\n",
    "    fn = conf_mat[0][1]\n",
    "    neg_labels = conf_mat[0][1]+conf_mat[0][0]\n",
    "    str_out += (\"{} out of {} negative labels ({:.4f}%)\\n\".format(fn, neg_labels, fn/neg_labels))\n",
    "    str_out += (\"\\n\")\n",
    "\n",
    "    #print classification report\n",
    "    str_out += (\"PRECISION, RECALL, F1 scores:\\n\")\n",
    "    str_out += (\"{}\".format(classification_report(test, pred)))\n",
    "    \n",
    "    false_indexes = np.where(test != pred)\n",
    "    return str_out, false_indexes"
   ]
  },
  {
   "cell_type": "code",
   "execution_count": 3,
   "metadata": {
    "execution": {
     "iopub.execute_input": "2020-12-17T05:42:58.763816Z",
     "iopub.status.busy": "2020-12-17T05:42:58.763045Z",
     "iopub.status.idle": "2020-12-17T05:43:00.357480Z",
     "shell.execute_reply": "2020-12-17T05:43:00.356647Z"
    },
    "papermill": {
     "duration": 1.613609,
     "end_time": "2020-12-17T05:43:00.357620",
     "exception": false,
     "start_time": "2020-12-17T05:42:58.744011",
     "status": "completed"
    },
    "tags": []
   },
   "outputs": [],
   "source": [
    "################ scaled dataset ###################\n",
    "df_original2 = pd.read_pickle('../input/ddd-final-datasets/final_step2_scaled.pkl')"
   ]
  },
  {
   "cell_type": "code",
   "execution_count": 4,
   "metadata": {
    "execution": {
     "iopub.execute_input": "2020-12-17T05:43:00.390453Z",
     "iopub.status.busy": "2020-12-17T05:43:00.389726Z",
     "iopub.status.idle": "2020-12-17T05:43:03.672350Z",
     "shell.execute_reply": "2020-12-17T05:43:03.671598Z"
    },
    "papermill": {
     "duration": 3.301038,
     "end_time": "2020-12-17T05:43:03.672507",
     "exception": false,
     "start_time": "2020-12-17T05:43:00.371469",
     "status": "completed"
    },
    "tags": []
   },
   "outputs": [],
   "source": [
    "################ not-scaled dataset ###################\n",
    "df_original = pd.read_pickle('../input/ddd-final-datasets/final_step2.pkl')"
   ]
  },
  {
   "cell_type": "code",
   "execution_count": 5,
   "metadata": {
    "execution": {
     "iopub.execute_input": "2020-12-17T05:43:03.705952Z",
     "iopub.status.busy": "2020-12-17T05:43:03.704820Z",
     "iopub.status.idle": "2020-12-17T05:43:03.740594Z",
     "shell.execute_reply": "2020-12-17T05:43:03.739767Z"
    },
    "papermill": {
     "duration": 0.054146,
     "end_time": "2020-12-17T05:43:03.740735",
     "exception": false,
     "start_time": "2020-12-17T05:43:03.686589",
     "status": "completed"
    },
    "tags": []
   },
   "outputs": [],
   "source": [
    "video_info_df = df_original.iloc[:,0:4]"
   ]
  },
  {
   "cell_type": "code",
   "execution_count": 6,
   "metadata": {
    "execution": {
     "iopub.execute_input": "2020-12-17T05:43:03.789541Z",
     "iopub.status.busy": "2020-12-17T05:43:03.788721Z",
     "iopub.status.idle": "2020-12-17T05:43:03.801747Z",
     "shell.execute_reply": "2020-12-17T05:43:03.801103Z"
    },
    "papermill": {
     "duration": 0.047102,
     "end_time": "2020-12-17T05:43:03.801887",
     "exception": false,
     "start_time": "2020-12-17T05:43:03.754785",
     "status": "completed"
    },
    "tags": []
   },
   "outputs": [
    {
     "data": {
      "text/html": [
       "<div>\n",
       "<style scoped>\n",
       "    .dataframe tbody tr th:only-of-type {\n",
       "        vertical-align: middle;\n",
       "    }\n",
       "\n",
       "    .dataframe tbody tr th {\n",
       "        vertical-align: top;\n",
       "    }\n",
       "\n",
       "    .dataframe thead th {\n",
       "        text-align: right;\n",
       "    }\n",
       "</style>\n",
       "<table border=\"1\" class=\"dataframe\">\n",
       "  <thead>\n",
       "    <tr style=\"text-align: right;\">\n",
       "      <th></th>\n",
       "      <th>subject</th>\n",
       "      <th>external_factors</th>\n",
       "      <th>facial_actions</th>\n",
       "      <th>frame_no</th>\n",
       "    </tr>\n",
       "  </thead>\n",
       "  <tbody>\n",
       "    <tr>\n",
       "      <th>0</th>\n",
       "      <td>004</td>\n",
       "      <td>glasses</td>\n",
       "      <td>mix</td>\n",
       "      <td>3</td>\n",
       "    </tr>\n",
       "    <tr>\n",
       "      <th>1</th>\n",
       "      <td>004</td>\n",
       "      <td>glasses</td>\n",
       "      <td>mix</td>\n",
       "      <td>4</td>\n",
       "    </tr>\n",
       "    <tr>\n",
       "      <th>2</th>\n",
       "      <td>004</td>\n",
       "      <td>glasses</td>\n",
       "      <td>mix</td>\n",
       "      <td>5</td>\n",
       "    </tr>\n",
       "    <tr>\n",
       "      <th>3</th>\n",
       "      <td>004</td>\n",
       "      <td>glasses</td>\n",
       "      <td>mix</td>\n",
       "      <td>6</td>\n",
       "    </tr>\n",
       "    <tr>\n",
       "      <th>4</th>\n",
       "      <td>004</td>\n",
       "      <td>glasses</td>\n",
       "      <td>mix</td>\n",
       "      <td>7</td>\n",
       "    </tr>\n",
       "    <tr>\n",
       "      <th>...</th>\n",
       "      <td>...</td>\n",
       "      <td>...</td>\n",
       "      <td>...</td>\n",
       "      <td>...</td>\n",
       "    </tr>\n",
       "    <tr>\n",
       "      <th>614588</th>\n",
       "      <td>036</td>\n",
       "      <td>noglasses</td>\n",
       "      <td>yawning</td>\n",
       "      <td>1961</td>\n",
       "    </tr>\n",
       "    <tr>\n",
       "      <th>614589</th>\n",
       "      <td>036</td>\n",
       "      <td>noglasses</td>\n",
       "      <td>yawning</td>\n",
       "      <td>1962</td>\n",
       "    </tr>\n",
       "    <tr>\n",
       "      <th>614590</th>\n",
       "      <td>036</td>\n",
       "      <td>noglasses</td>\n",
       "      <td>yawning</td>\n",
       "      <td>1963</td>\n",
       "    </tr>\n",
       "    <tr>\n",
       "      <th>614591</th>\n",
       "      <td>036</td>\n",
       "      <td>noglasses</td>\n",
       "      <td>yawning</td>\n",
       "      <td>1964</td>\n",
       "    </tr>\n",
       "    <tr>\n",
       "      <th>614592</th>\n",
       "      <td>036</td>\n",
       "      <td>noglasses</td>\n",
       "      <td>yawning</td>\n",
       "      <td>1965</td>\n",
       "    </tr>\n",
       "  </tbody>\n",
       "</table>\n",
       "<p>614593 rows × 4 columns</p>\n",
       "</div>"
      ],
      "text/plain": [
       "       subject external_factors facial_actions  frame_no\n",
       "0          004          glasses            mix         3\n",
       "1          004          glasses            mix         4\n",
       "2          004          glasses            mix         5\n",
       "3          004          glasses            mix         6\n",
       "4          004          glasses            mix         7\n",
       "...        ...              ...            ...       ...\n",
       "614588     036        noglasses        yawning      1961\n",
       "614589     036        noglasses        yawning      1962\n",
       "614590     036        noglasses        yawning      1963\n",
       "614591     036        noglasses        yawning      1964\n",
       "614592     036        noglasses        yawning      1965\n",
       "\n",
       "[614593 rows x 4 columns]"
      ]
     },
     "execution_count": 6,
     "metadata": {},
     "output_type": "execute_result"
    }
   ],
   "source": [
    "video_info_df"
   ]
  },
  {
   "cell_type": "code",
   "execution_count": 7,
   "metadata": {
    "execution": {
     "iopub.execute_input": "2020-12-17T05:43:03.864466Z",
     "iopub.status.busy": "2020-12-17T05:43:03.863691Z",
     "iopub.status.idle": "2020-12-17T05:43:03.897164Z",
     "shell.execute_reply": "2020-12-17T05:43:03.896551Z"
    },
    "papermill": {
     "duration": 0.079794,
     "end_time": "2020-12-17T05:43:03.897301",
     "exception": false,
     "start_time": "2020-12-17T05:43:03.817507",
     "status": "completed"
    },
    "tags": []
   },
   "outputs": [],
   "source": [
    "df_original2 = pd.concat([video_info_df, df_original2], axis=1)"
   ]
  },
  {
   "cell_type": "code",
   "execution_count": 8,
   "metadata": {
    "execution": {
     "iopub.execute_input": "2020-12-17T05:43:04.104450Z",
     "iopub.status.busy": "2020-12-17T05:43:04.093918Z",
     "iopub.status.idle": "2020-12-17T05:43:06.279714Z",
     "shell.execute_reply": "2020-12-17T05:43:06.278734Z"
    },
    "papermill": {
     "duration": 2.367841,
     "end_time": "2020-12-17T05:43:06.279885",
     "exception": false,
     "start_time": "2020-12-17T05:43:03.912044",
     "status": "completed"
    },
    "tags": []
   },
   "outputs": [
    {
     "name": "stdout",
     "output_type": "stream",
     "text": [
      "('001', 'glasses', 'nonsleepyCombination')\n",
      "('001', 'glasses', 'sleepyCombination')\n",
      "('001', 'glasses', 'slowBlinkWithNodding')\n",
      "('001', 'glasses', 'yawning')\n",
      "('001', 'night_noglasses', 'nonsleepyCombination')\n",
      "('001', 'night_noglasses', 'sleepyCombination')\n",
      "('001', 'night_noglasses', 'slowBlinkWithNodding')\n",
      "('001', 'night_noglasses', 'yawning')\n",
      "('001', 'nightglasses', 'nonsleepyCombination')\n",
      "('001', 'nightglasses', 'sleepyCombination')\n",
      "('001', 'nightglasses', 'slowBlinkWithNodding')\n",
      "('001', 'nightglasses', 'yawning')\n",
      "('001', 'noglasses', 'nonsleepyCombination')\n",
      "('001', 'noglasses', 'sleepyCombination')\n",
      "('001', 'noglasses', 'slowBlinkWithNodding')\n",
      "('001', 'noglasses', 'yawning')\n",
      "('002', 'glasses', 'nonsleepyCombination')\n",
      "('002', 'glasses', 'sleepyCombination')\n",
      "('002', 'glasses', 'slowBlinkWithNodding')\n",
      "('002', 'glasses', 'yawning')\n",
      "('002', 'night_noglasses', 'nonsleepyCombination')\n",
      "('002', 'night_noglasses', 'sleepyCombination')\n",
      "('002', 'night_noglasses', 'slowBlinkWithNodding')\n",
      "('002', 'night_noglasses', 'yawning')\n",
      "('002', 'nightglasses', 'nonsleepyCombination')\n",
      "('002', 'nightglasses', 'sleepyCombination')\n",
      "('002', 'nightglasses', 'slowBlinkWithNodding')\n",
      "('002', 'nightglasses', 'yawning')\n",
      "('002', 'noglasses', 'nonsleepyCombination')\n",
      "('002', 'noglasses', 'sleepyCombination')\n",
      "('002', 'noglasses', 'slowBlinkWithNodding')\n",
      "('002', 'noglasses', 'yawning')\n",
      "('004', 'glasses', 'mix')\n",
      "('004', 'night_noglasses', 'mix')\n",
      "('004', 'nightglasses', 'mix')\n",
      "('004', 'noglasses', 'mix')\n",
      "('005', 'glasses', 'nonsleepyCombination')\n",
      "('005', 'glasses', 'sleepyCombination')\n",
      "('005', 'glasses', 'slowBlinkWithNodding')\n",
      "('005', 'glasses', 'yawning')\n",
      "('005', 'night_noglasses', 'nonsleepyCombination')\n",
      "('005', 'night_noglasses', 'sleepyCombination')\n",
      "('005', 'night_noglasses', 'slowBlinkWithNodding')\n",
      "('005', 'night_noglasses', 'yawning')\n",
      "('005', 'noglasses', 'nonsleepyCombination')\n",
      "('005', 'noglasses', 'sleepyCombination')\n",
      "('005', 'noglasses', 'slowBlinkWithNodding')\n",
      "('005', 'noglasses', 'yawning')\n",
      "('006', 'glasses', 'nonsleepyCombination')\n",
      "('006', 'glasses', 'sleepyCombination')\n",
      "('006', 'glasses', 'slowBlinkWithNodding')\n",
      "('006', 'glasses', 'yawning')\n",
      "('006', 'night_noglasses', 'nonsleepyCombination')\n",
      "('006', 'night_noglasses', 'sleepyCombination')\n",
      "('006', 'night_noglasses', 'slowBlinkWithNodding')\n",
      "('006', 'night_noglasses', 'yawning')\n",
      "('006', 'nightglasses', 'nonsleepyCombination')\n",
      "('006', 'nightglasses', 'sleepyCombination')\n",
      "('006', 'nightglasses', 'slowBlinkWithNodding')\n",
      "('006', 'nightglasses', 'yawning')\n",
      "('006', 'noglasses', 'nonsleepyCombination')\n",
      "('006', 'noglasses', 'sleepyCombination')\n",
      "('006', 'noglasses', 'slowBlinkWithNodding')\n",
      "('006', 'noglasses', 'yawning')\n",
      "('008', 'glasses', 'nonsleepyCombination')\n",
      "('008', 'glasses', 'sleepyCombination')\n",
      "('008', 'glasses', 'slowBlinkWithNodding')\n",
      "('008', 'glasses', 'yawning')\n",
      "('008', 'night_noglasses', 'nonsleepyCombination')\n",
      "('008', 'night_noglasses', 'sleepyCombination')\n",
      "('008', 'night_noglasses', 'slowBlinkWithNodding')\n",
      "('008', 'night_noglasses', 'yawning')\n",
      "('008', 'nightglasses', 'nonsleepyCombination')\n",
      "('008', 'nightglasses', 'sleepyCombination')\n",
      "('008', 'nightglasses', 'slowBlinkWithNodding')\n",
      "('008', 'nightglasses', 'yawning')\n",
      "('008', 'noglasses', 'nonsleepyCombination')\n",
      "('008', 'noglasses', 'sleepyCombination')\n",
      "('008', 'noglasses', 'slowBlinkWithNodding')\n",
      "('008', 'noglasses', 'yawning')\n",
      "('009', 'glasses', 'nonsleepyCombination')\n",
      "('009', 'glasses', 'sleepyCombination')\n",
      "('009', 'glasses', 'slowBlinkWithNodding')\n",
      "('009', 'glasses', 'yawning')\n",
      "('009', 'night_noglasses', 'nonsleepyCombination')\n",
      "('009', 'night_noglasses', 'sleepyCombination')\n",
      "('009', 'night_noglasses', 'slowBlinkWithNodding')\n",
      "('009', 'night_noglasses', 'yawning')\n",
      "('009', 'nightglasses', 'nonsleepyCombination')\n",
      "('009', 'nightglasses', 'sleepyCombination')\n",
      "('009', 'nightglasses', 'slowBlinkWithNodding')\n",
      "('009', 'nightglasses', 'yawning')\n",
      "('009', 'noglasses', 'nonsleepyCombination')\n",
      "('009', 'noglasses', 'sleepyCombination')\n",
      "('009', 'noglasses', 'slowBlinkWithNodding')\n",
      "('009', 'noglasses', 'yawning')\n",
      "('012', 'glasses', 'nonsleepyCombination')\n",
      "('012', 'glasses', 'sleepyCombination')\n",
      "('012', 'glasses', 'slowBlinkWithNodding')\n",
      "('012', 'glasses', 'yawning')\n",
      "('012', 'night_noglasses', 'nonsleepyCombination')\n",
      "('012', 'night_noglasses', 'sleepyCombination')\n",
      "('012', 'night_noglasses', 'slowBlinkWithNodding')\n",
      "('012', 'night_noglasses', 'yawning')\n",
      "('012', 'nightglasses', 'nonsleepyCombination')\n",
      "('012', 'nightglasses', 'sleepyCombination')\n",
      "('012', 'nightglasses', 'slowBlinkWithNodding')\n",
      "('012', 'nightglasses', 'yawning')\n",
      "('012', 'noglasses', 'nonsleepyCombination')\n",
      "('012', 'noglasses', 'sleepyCombination')\n",
      "('012', 'noglasses', 'slowBlinkWithNodding')\n",
      "('012', 'noglasses', 'yawning')\n",
      "('013', 'glasses', 'nonsleepyCombination')\n",
      "('013', 'glasses', 'sleepyCombination')\n",
      "('013', 'glasses', 'slowBlinkWithNodding')\n",
      "('013', 'glasses', 'yawning')\n",
      "('013', 'night_noglasses', 'nonsleepyCombination')\n",
      "('013', 'night_noglasses', 'sleepyCombination')\n",
      "('013', 'night_noglasses', 'slowBlinkWithNodding')\n",
      "('013', 'night_noglasses', 'yawning')\n",
      "('013', 'nightglasses', 'nonsleepyCombination')\n",
      "('013', 'nightglasses', 'sleepyCombination')\n",
      "('013', 'nightglasses', 'slowBlinkWithNodding')\n",
      "('013', 'nightglasses', 'yawning')\n",
      "('013', 'noglasses', 'nonsleepyCombination')\n",
      "('013', 'noglasses', 'sleepyCombination')\n",
      "('013', 'noglasses', 'slowBlinkWithNodding')\n",
      "('013', 'noglasses', 'yawning')\n",
      "('015', 'glasses', 'sleepyCombination')\n",
      "('015', 'glasses', 'slowBlinkWithNodding')\n",
      "('015', 'glasses', 'yawning')\n",
      "('015', 'night_noglasses', 'nonsleepyCombination')\n",
      "('015', 'night_noglasses', 'sleepyCombination')\n",
      "('015', 'night_noglasses', 'slowBlinkWithNodding')\n",
      "('015', 'night_noglasses', 'yawning')\n",
      "('015', 'nightglasses', 'nonsleepyCombination')\n",
      "('015', 'nightglasses', 'sleepyCombination')\n",
      "('015', 'nightglasses', 'slowBlinkWithNodding')\n",
      "('015', 'nightglasses', 'yawning')\n",
      "('015', 'noglasses', 'nonsleepyCombination')\n",
      "('015', 'noglasses', 'sleepyCombination')\n",
      "('015', 'noglasses', 'slowBlinkWithNodding')\n",
      "('015', 'noglasses', 'yawning')\n",
      "('020', 'glasses', 'nonsleepyCombination')\n",
      "('020', 'glasses', 'sleepyCombination')\n",
      "('020', 'glasses', 'slowBlinkWithNodding')\n",
      "('020', 'glasses', 'yawning')\n",
      "('020', 'night_noglasses', 'nonsleepyCombination')\n",
      "('020', 'night_noglasses', 'sleepyCombination')\n",
      "('020', 'night_noglasses', 'slowBlinkWithNodding')\n",
      "('020', 'night_noglasses', 'yawning')\n",
      "('020', 'nightglasses', 'nonsleepyCombination')\n",
      "('020', 'nightglasses', 'sleepyCombination')\n",
      "('020', 'nightglasses', 'slowBlinkWithNodding')\n",
      "('020', 'nightglasses', 'yawning')\n",
      "('020', 'noglasses', 'nonsleepyCombination')\n",
      "('020', 'noglasses', 'sleepyCombination')\n",
      "('020', 'noglasses', 'slowBlinkWithNodding')\n",
      "('020', 'noglasses', 'yawning')\n",
      "('022', 'glasses', 'mix')\n",
      "('022', 'night_noglasses', 'mix')\n",
      "('022', 'nightglasses', 'mix')\n",
      "('022', 'noglasses', 'mix')\n",
      "('023', 'glasses', 'nonsleepyCombination')\n",
      "('023', 'glasses', 'sleepyCombination')\n",
      "('023', 'glasses', 'slowBlinkWithNodding')\n",
      "('023', 'glasses', 'yawning')\n",
      "('023', 'night_noglasses', 'nonsleepyCombination')\n",
      "('023', 'night_noglasses', 'sleepyCombination')\n",
      "('023', 'night_noglasses', 'slowBlinkWithNodding')\n",
      "('023', 'night_noglasses', 'yawning')\n",
      "('023', 'nightglasses', 'nonsleepyCombination')\n",
      "('023', 'nightglasses', 'sleepyCombination')\n",
      "('023', 'nightglasses', 'slowBlinkWithNodding')\n",
      "('023', 'nightglasses', 'yawning')\n",
      "('023', 'noglasses', 'nonsleepyCombination')\n",
      "('023', 'noglasses', 'sleepyCombination')\n",
      "('023', 'noglasses', 'slowBlinkWithNodding')\n",
      "('023', 'noglasses', 'yawning')\n",
      "('024', 'glasses', 'nonsleepyCombination')\n",
      "('024', 'glasses', 'sleepyCombination')\n",
      "('024', 'glasses', 'slowBlinkWithNodding')\n",
      "('024', 'glasses', 'yawning')\n",
      "('024', 'night_noglasses', 'nonsleepyCombination')\n",
      "('024', 'night_noglasses', 'sleepyCombination')\n",
      "('024', 'night_noglasses', 'slowBlinkWithNodding')\n",
      "('024', 'night_noglasses', 'yawning')\n",
      "('024', 'nightglasses', 'nonsleepyCombination')\n",
      "('024', 'nightglasses', 'sleepyCombination')\n",
      "('024', 'nightglasses', 'slowBlinkWithNodding')\n",
      "('024', 'nightglasses', 'yawning')\n",
      "('024', 'noglasses', 'nonsleepyCombination')\n",
      "('024', 'noglasses', 'sleepyCombination')\n",
      "('024', 'noglasses', 'slowBlinkWithNodding')\n",
      "('024', 'noglasses', 'yawning')\n",
      "('026', 'glasses', 'mix')\n",
      "('026', 'night_noglasses', 'mix')\n",
      "('026', 'nightglasses', 'mix')\n",
      "('026', 'noglasses', 'mix')\n",
      "('030', 'glasses', 'mix')\n",
      "('030', 'night_noglasses', 'mix')\n",
      "('030', 'nightglasses', 'mix')\n",
      "('030', 'noglasses', 'mix')\n",
      "('031', 'glasses', 'nonsleepyCombination')\n",
      "('031', 'glasses', 'sleepyCombination')\n",
      "('031', 'glasses', 'slowBlinkWithNodding')\n",
      "('031', 'glasses', 'yawning')\n",
      "('031', 'night_noglasses', 'nonsleepyCombination')\n",
      "('031', 'night_noglasses', 'sleepyCombination')\n",
      "('031', 'night_noglasses', 'slowBlinkWithNodding')\n",
      "('031', 'night_noglasses', 'yawning')\n",
      "('031', 'nightglasses', 'nonsleepyCombination')\n",
      "('031', 'nightglasses', 'sleepyCombination')\n",
      "('031', 'nightglasses', 'slowBlinkWithNodding')\n",
      "('031', 'nightglasses', 'yawning')\n",
      "('031', 'noglasses', 'nonsleepyCombination')\n",
      "('031', 'noglasses', 'sleepyCombination')\n",
      "('031', 'noglasses', 'slowBlinkWithNodding')\n",
      "('031', 'noglasses', 'yawning')\n",
      "('032', 'glasses', 'nonsleepyCombination')\n",
      "('032', 'glasses', 'sleepyCombination')\n",
      "('032', 'glasses', 'slowBlinkWithNodding')\n",
      "('032', 'glasses', 'yawning')\n",
      "('032', 'night_noglasses', 'nonsleepyCombination')\n",
      "('032', 'night_noglasses', 'sleepyCombination')\n",
      "('032', 'night_noglasses', 'slowBlinkWithNodding')\n",
      "('032', 'night_noglasses', 'yawning')\n",
      "('032', 'nightglasses', 'nonsleepyCombination')\n",
      "('032', 'nightglasses', 'sleepyCombination')\n",
      "('032', 'nightglasses', 'slowBlinkWithNodding')\n",
      "('032', 'nightglasses', 'yawning')\n",
      "('032', 'noglasses', 'nonsleepyCombination')\n",
      "('032', 'noglasses', 'sleepyCombination')\n",
      "('032', 'noglasses', 'slowBlinkWithNodding')\n",
      "('032', 'noglasses', 'yawning')\n",
      "('033', 'glasses', 'nonsleepyCombination')\n",
      "('033', 'glasses', 'sleepyCombination')\n",
      "('033', 'glasses', 'slowBlinkWithNodding')\n",
      "('033', 'glasses', 'yawning')\n",
      "('033', 'night_noglasses', 'nonsleepyCombination')\n",
      "('033', 'night_noglasses', 'sleepyCombination')\n",
      "('033', 'night_noglasses', 'slowBlinkWithNodding')\n",
      "('033', 'night_noglasses', 'yawning')\n",
      "('033', 'nightglasses', 'nonsleepyCombination')\n",
      "('033', 'nightglasses', 'sleepyCombination')\n",
      "('033', 'nightglasses', 'slowBlinkWithNodding')\n",
      "('033', 'nightglasses', 'yawning')\n",
      "('033', 'noglasses', 'nonsleepyCombination')\n",
      "('033', 'noglasses', 'sleepyCombination')\n",
      "('033', 'noglasses', 'slowBlinkWithNodding')\n",
      "('033', 'noglasses', 'yawning')\n",
      "('034', 'glasses', 'nonsleepyCombination')\n",
      "('034', 'glasses', 'sleepyCombination')\n",
      "('034', 'glasses', 'slowBlinkWithNodding')\n",
      "('034', 'glasses', 'yawning')\n",
      "('034', 'night_noglasses', 'nonsleepyCombination')\n",
      "('034', 'night_noglasses', 'sleepyCombination')\n",
      "('034', 'night_noglasses', 'slowBlinkWithNodding')\n",
      "('034', 'night_noglasses', 'yawning')\n",
      "('034', 'nightglasses', 'nonsleepyCombination')\n",
      "('034', 'nightglasses', 'sleepyCombination')\n",
      "('034', 'nightglasses', 'slowBlinkWithNodding')\n",
      "('034', 'nightglasses', 'yawning')\n",
      "('034', 'noglasses', 'nonsleepyCombination')\n",
      "('034', 'noglasses', 'sleepyCombination')\n",
      "('034', 'noglasses', 'slowBlinkWithNodding')\n",
      "('034', 'noglasses', 'yawning')\n",
      "('035', 'glasses', 'nonsleepyCombination')\n",
      "('035', 'glasses', 'sleepyCombination')\n",
      "('035', 'glasses', 'slowBlinkWithNodding')\n",
      "('035', 'glasses', 'yawning')\n",
      "('035', 'night_noglasses', 'nonsleepyCombination')\n",
      "('035', 'night_noglasses', 'sleepyCombination')\n",
      "('035', 'night_noglasses', 'slowBlinkWithNodding')\n",
      "('035', 'night_noglasses', 'yawning')\n",
      "('035', 'nightglasses', 'nonsleepyCombination')\n",
      "('035', 'nightglasses', 'sleepyCombination')\n",
      "('035', 'nightglasses', 'slowBlinkWithNodding')\n",
      "('035', 'nightglasses', 'yawning')\n",
      "('035', 'noglasses', 'nonsleepyCombination')\n",
      "('035', 'noglasses', 'sleepyCombination')\n",
      "('035', 'noglasses', 'slowBlinkWithNodding')\n",
      "('035', 'noglasses', 'yawning')\n",
      "('036', 'glasses', 'nonsleepyCombination')\n",
      "('036', 'glasses', 'sleepyCombination')\n",
      "('036', 'glasses', 'slowBlinkWithNodding')\n",
      "('036', 'glasses', 'yawning')\n",
      "('036', 'night_noglasses', 'nonsleepyCombination')\n",
      "('036', 'night_noglasses', 'sleepyCombination')\n",
      "('036', 'night_noglasses', 'slowBlinkWithNodding')\n",
      "('036', 'night_noglasses', 'yawning')\n",
      "('036', 'nightglasses', 'nonsleepyCombination')\n",
      "('036', 'nightglasses', 'sleepyCombination')\n",
      "('036', 'nightglasses', 'slowBlinkWithNodding')\n",
      "('036', 'nightglasses', 'yawning')\n",
      "('036', 'noglasses', 'nonsleepyCombination')\n",
      "('036', 'noglasses', 'sleepyCombination')\n",
      "('036', 'noglasses', 'slowBlinkWithNodding')\n",
      "('036', 'noglasses', 'yawning')\n"
     ]
    }
   ],
   "source": [
    "g = df_original2.groupby([\"subject\", \"external_factors\", \"facial_actions\"])\n",
    "len(g.groups.keys())\n",
    "\n",
    "train_list = []\n",
    "test_list = []\n",
    "\n",
    "for key in g.groups.keys():\n",
    "    print(key)\n",
    "    if key[0] in ['004', '022', '026', '030']:\n",
    "        test_list.append(g.get_group(key))\n",
    "    else:\n",
    "        train_list.append(g.get_group(key))\n"
   ]
  },
  {
   "cell_type": "code",
   "execution_count": 9,
   "metadata": {
    "execution": {
     "iopub.execute_input": "2020-12-17T05:43:06.322678Z",
     "iopub.status.busy": "2020-12-17T05:43:06.321964Z",
     "iopub.status.idle": "2020-12-17T05:43:06.325668Z",
     "shell.execute_reply": "2020-12-17T05:43:06.325020Z"
    },
    "papermill": {
     "duration": 0.027622,
     "end_time": "2020-12-17T05:43:06.325793",
     "exception": false,
     "start_time": "2020-12-17T05:43:06.298171",
     "status": "completed"
    },
    "tags": []
   },
   "outputs": [],
   "source": [
    "import os\n",
    "import sys\n",
    "scriptpath = \"../input/feriha/\"\n",
    "\n",
    "# Add the directory containing your module to the Python path (wants absolute paths)\n",
    "sys.path.append(os.path.abspath(scriptpath))"
   ]
  },
  {
   "cell_type": "code",
   "execution_count": 10,
   "metadata": {
    "execution": {
     "iopub.execute_input": "2020-12-17T05:43:06.368761Z",
     "iopub.status.busy": "2020-12-17T05:43:06.367979Z",
     "iopub.status.idle": "2020-12-17T05:43:06.383972Z",
     "shell.execute_reply": "2020-12-17T05:43:06.383340Z"
    },
    "papermill": {
     "duration": 0.041724,
     "end_time": "2020-12-17T05:43:06.384128",
     "exception": false,
     "start_time": "2020-12-17T05:43:06.342404",
     "status": "completed"
    },
    "tags": []
   },
   "outputs": [],
   "source": [
    "df = test_list[0]\n",
    "df = df.iloc[:, 4:12]\n",
    "df = pd.concat([df]*4, axis=1)\n",
    "df_arr = np.repeat(df.values,32,axis=0)\n",
    "df_arr=np.reshape(df_arr, (-1, 32, 32, 1))"
   ]
  },
  {
   "cell_type": "code",
   "execution_count": 11,
   "metadata": {
    "execution": {
     "iopub.execute_input": "2020-12-17T05:43:06.431947Z",
     "iopub.status.busy": "2020-12-17T05:43:06.431183Z",
     "iopub.status.idle": "2020-12-17T05:43:22.851589Z",
     "shell.execute_reply": "2020-12-17T05:43:22.850912Z"
    },
    "papermill": {
     "duration": 16.45061,
     "end_time": "2020-12-17T05:43:22.851724",
     "exception": false,
     "start_time": "2020-12-17T05:43:06.401114",
     "status": "completed"
    },
    "tags": []
   },
   "outputs": [
    {
     "name": "stdout",
     "output_type": "stream",
     "text": [
      "Collecting imutils\r\n",
      "  Downloading imutils-0.5.3.tar.gz (17 kB)\r\n",
      "Building wheels for collected packages: imutils\r\n",
      "  Building wheel for imutils (setup.py) ... \u001b[?25l-\b \b\\\b \bdone\r\n",
      "\u001b[?25h  Created wheel for imutils: filename=imutils-0.5.3-py3-none-any.whl size=25850 sha256=2cc1fd6652898041cdd2f496dbe0bd28c93b28400abb7b7075515e3ac07b35b0\r\n",
      "  Stored in directory: /root/.cache/pip/wheels/fc/9c/6d/1826267c72afa51b564c9c6e0f66abc806879338bc593a2270\r\n",
      "Successfully built imutils\r\n",
      "Installing collected packages: imutils\r\n",
      "Successfully installed imutils-0.5.3\r\n",
      "\u001b[33mWARNING: You are using pip version 20.2.4; however, version 20.3.3 is available.\r\n",
      "You should consider upgrading via the '/opt/conda/bin/python3.7 -m pip install --upgrade pip' command.\u001b[0m\r\n",
      "[INFO] loading images...\n"
     ]
    }
   ],
   "source": [
    "!pip install imutils\n",
    "# set the matplotlib backend so figures can be saved in the background\n",
    "import matplotlib\n",
    "matplotlib.use(\"Agg\")\n",
    "# import the necessary packages\n",
    "from sklearn.preprocessing import LabelEncoder\n",
    "from sklearn.model_selection import train_test_split\n",
    "from sklearn.metrics import classification_report\n",
    "from tensorflow.keras.preprocessing.image import ImageDataGenerator\n",
    "from imutils import paths\n",
    "import matplotlib.pyplot as plt\n",
    "import numpy as np\n",
    "import argparse\n",
    "import cv2\n",
    "import os\n",
    "\n",
    "\n",
    "# grab the list of images in our dataset directory, then initialize\n",
    "# the list of data (i.e., images) and class images\n",
    "print(\"[INFO] loading images...\")\n",
    "image_path=\"../input/deneme-resimler/deneme\"\n",
    "imagePaths = list(paths.list_images(image_path))\n",
    "data = []\n",
    "\n",
    "# loop over the image paths\n",
    "for imagePath in imagePaths:\n",
    "    # extract the class label from the filename, load the image, and\n",
    "    # resize it to be a fixed 64x64 pixels, ignoring aspect ratio\n",
    "\n",
    "    image = cv2.imread(imagePath)\n",
    "    #image = cv2.resize(image, (64, 64))\n",
    "    # update the data and labels lists, respectively\n",
    "    data.append(image)"
   ]
  },
  {
   "cell_type": "code",
   "execution_count": 12,
   "metadata": {
    "execution": {
     "iopub.execute_input": "2020-12-17T05:43:22.901470Z",
     "iopub.status.busy": "2020-12-17T05:43:22.900502Z",
     "iopub.status.idle": "2020-12-17T05:43:22.905573Z",
     "shell.execute_reply": "2020-12-17T05:43:22.904681Z"
    },
    "papermill": {
     "duration": 0.033952,
     "end_time": "2020-12-17T05:43:22.905779",
     "exception": false,
     "start_time": "2020-12-17T05:43:22.871827",
     "status": "completed"
    },
    "tags": []
   },
   "outputs": [
    {
     "name": "stdout",
     "output_type": "stream",
     "text": [
      "max h: 198 max_w: 143\n"
     ]
    }
   ],
   "source": [
    "max_h=0\n",
    "max_w=0\n",
    "for image in data:\n",
    "    h,w,c = image.shape\n",
    "    if h>max_h:\n",
    "        max_h=h\n",
    "    if w>max_w:\n",
    "        max_w=w\n",
    "        \n",
    "print(\"max h:\", max_h, \"max_w:\", max_w)"
   ]
  },
  {
   "cell_type": "code",
   "execution_count": 13,
   "metadata": {
    "execution": {
     "iopub.execute_input": "2020-12-17T05:43:22.959029Z",
     "iopub.status.busy": "2020-12-17T05:43:22.958323Z",
     "iopub.status.idle": "2020-12-17T05:43:23.802285Z",
     "shell.execute_reply": "2020-12-17T05:43:23.801645Z"
    },
    "papermill": {
     "duration": 0.874377,
     "end_time": "2020-12-17T05:43:23.802424",
     "exception": false,
     "start_time": "2020-12-17T05:43:22.928047",
     "status": "completed"
    },
    "tags": []
   },
   "outputs": [],
   "source": [
    "padded_list=[]\n",
    "for image in data:\n",
    "    h,w,c = image.shape\n",
    "    x=np.zeros((max_h,max_w,3),dtype=int)*255\n",
    "    x[:h,:w,:]=image\n",
    "    padded_list.append(x)"
   ]
  },
  {
   "cell_type": "code",
   "execution_count": 14,
   "metadata": {
    "execution": {
     "iopub.execute_input": "2020-12-17T05:43:23.856232Z",
     "iopub.status.busy": "2020-12-17T05:43:23.855413Z",
     "iopub.status.idle": "2020-12-17T05:43:24.086264Z",
     "shell.execute_reply": "2020-12-17T05:43:24.085669Z"
    },
    "papermill": {
     "duration": 0.26244,
     "end_time": "2020-12-17T05:43:24.086407",
     "exception": false,
     "start_time": "2020-12-17T05:43:23.823967",
     "status": "completed"
    },
    "tags": []
   },
   "outputs": [
    {
     "data": {
      "image/png": "[encoded data removed]",
      "text/plain": [
       "<Figure size 432x288 with 1 Axes>"
      ]
     },
     "metadata": {
      "needs_background": "light"
     },
     "output_type": "display_data"
    }
   ],
   "source": [
    "%matplotlib inline \n",
    "plt.imshow(padded_list[0], interpolation='nearest')\n",
    "plt.show()"
   ]
  },
  {
   "cell_type": "code",
   "execution_count": 15,
   "metadata": {
    "execution": {
     "iopub.execute_input": "2020-12-17T05:43:24.139757Z",
     "iopub.status.busy": "2020-12-17T05:43:24.138891Z",
     "iopub.status.idle": "2020-12-17T05:43:24.462600Z",
     "shell.execute_reply": "2020-12-17T05:43:24.463319Z"
    },
    "papermill": {
     "duration": 0.352858,
     "end_time": "2020-12-17T05:43:24.463625",
     "exception": false,
     "start_time": "2020-12-17T05:43:24.110767",
     "status": "completed"
    },
    "tags": []
   },
   "outputs": [
    {
     "data": {
      "text/plain": [
       "(733, 198, 143, 3)"
      ]
     },
     "execution_count": 15,
     "metadata": {},
     "output_type": "execute_result"
    }
   ],
   "source": [
    "padded_arr=np.array(padded_list)\n",
    "padded_arr.shape"
   ]
  },
  {
   "cell_type": "code",
   "execution_count": 16,
   "metadata": {
    "execution": {
     "iopub.execute_input": "2020-12-17T05:43:24.520363Z",
     "iopub.status.busy": "2020-12-17T05:43:24.519581Z",
     "iopub.status.idle": "2020-12-17T05:43:24.553128Z",
     "shell.execute_reply": "2020-12-17T05:43:24.552422Z"
    },
    "papermill": {
     "duration": 0.066255,
     "end_time": "2020-12-17T05:43:24.553255",
     "exception": false,
     "start_time": "2020-12-17T05:43:24.487000",
     "status": "completed"
    },
    "tags": []
   },
   "outputs": [],
   "source": [
    "import numpy as np\n",
    "import argparse\n",
    "#import i3d_inception\n",
    "from i3d_inception import Inception_Inflated3d\n",
    "\n",
    "def evaluate(images):\n",
    "    NUM_FRAMES,FRAME_HEIGHT,FRAME_WIDTH,NUM_RGB_CHANNELS = images.shape\n",
    "    NUM_CLASSES = 2\n",
    "\n",
    "    rgb_model = Inception_Inflated3d(\n",
    "                    include_top=True, endpoint_logit=False,\n",
    "                    weights=None,\n",
    "                    input_shape=(NUM_FRAMES, FRAME_HEIGHT, FRAME_WIDTH, NUM_RGB_CHANNELS),\n",
    "        classes=NUM_CLASSES)\n",
    "    \n",
    "    # make prediction\n",
    "    rgb_pred = rgb_model.predict(df_arr)\n",
    "    \n",
    "    return rgb_pred"
   ]
  },
  {
   "cell_type": "code",
   "execution_count": 17,
   "metadata": {
    "execution": {
     "iopub.execute_input": "2020-12-17T05:43:24.606872Z",
     "iopub.status.busy": "2020-12-17T05:43:24.606220Z",
     "iopub.status.idle": "2020-12-17T05:43:27.109736Z",
     "shell.execute_reply": "2020-12-17T05:43:27.109055Z"
    },
    "papermill": {
     "duration": 2.532518,
     "end_time": "2020-12-17T05:43:27.109851",
     "exception": false,
     "start_time": "2020-12-17T05:43:24.577333",
     "status": "completed"
    },
    "tags": []
   },
   "outputs": [
    {
     "ename": "ValueError",
     "evalue": "Negative dimension size caused by subtracting 7 from 5 for '{{node global_avg_pool/AvgPool3D}} = AvgPool3D[T=DT_FLOAT, data_format=\"NDHWC\", ksize=[1, 2, 7, 7, 1], padding=\"VALID\", strides=[1, 1, 1, 1, 1]](Mixed_5c/concat)' with input shapes: [?,92,7,5,1024].",
     "output_type": "error",
     "traceback": [
      "\u001b[0;31m---------------------------------------------------------------------------\u001b[0m",
      "\u001b[0;31mInvalidArgumentError\u001b[0m                      Traceback (most recent call last)",
      "\u001b[0;32m/opt/conda/lib/python3.7/site-packages/tensorflow/python/framework/ops.py\u001b[0m in \u001b[0;36m_create_c_op\u001b[0;34m(graph, node_def, inputs, control_inputs, op_def)\u001b[0m\n\u001b[1;32m   1811\u001b[0m   \u001b[0;32mtry\u001b[0m\u001b[0;34m:\u001b[0m\u001b[0;34m\u001b[0m\u001b[0;34m\u001b[0m\u001b[0m\n\u001b[0;32m-> 1812\u001b[0;31m     \u001b[0mc_op\u001b[0m \u001b[0;34m=\u001b[0m \u001b[0mpywrap_tf_session\u001b[0m\u001b[0;34m.\u001b[0m\u001b[0mTF_FinishOperation\u001b[0m\u001b[0;34m(\u001b[0m\u001b[0mop_desc\u001b[0m\u001b[0;34m)\u001b[0m\u001b[0;34m\u001b[0m\u001b[0;34m\u001b[0m\u001b[0m\n\u001b[0m\u001b[1;32m   1813\u001b[0m   \u001b[0;32mexcept\u001b[0m \u001b[0merrors\u001b[0m\u001b[0;34m.\u001b[0m\u001b[0mInvalidArgumentError\u001b[0m \u001b[0;32mas\u001b[0m \u001b[0me\u001b[0m\u001b[0;34m:\u001b[0m\u001b[0;34m\u001b[0m\u001b[0;34m\u001b[0m\u001b[0m\n",
      "\u001b[0;31mInvalidArgumentError\u001b[0m: Negative dimension size caused by subtracting 7 from 5 for '{{node global_avg_pool/AvgPool3D}} = AvgPool3D[T=DT_FLOAT, data_format=\"NDHWC\", ksize=[1, 2, 7, 7, 1], padding=\"VALID\", strides=[1, 1, 1, 1, 1]](Mixed_5c/concat)' with input shapes: [?,92,7,5,1024].",
      "\nDuring handling of the above exception, another exception occurred:\n",
      "\u001b[0;31mValueError\u001b[0m                                Traceback (most recent call last)",
      "\u001b[0;32m<ipython-input-17-49d187301eb8>\u001b[0m in \u001b[0;36m<module>\u001b[0;34m\u001b[0m\n\u001b[0;32m----> 1\u001b[0;31m \u001b[0mevaluate\u001b[0m\u001b[0;34m(\u001b[0m\u001b[0mpadded_arr\u001b[0m\u001b[0;34m)\u001b[0m\u001b[0;34m\u001b[0m\u001b[0;34m\u001b[0m\u001b[0m\n\u001b[0m",
      "\u001b[0;32m<ipython-input-16-97ad74f53d3f>\u001b[0m in \u001b[0;36mevaluate\u001b[0;34m(images)\u001b[0m\n\u001b[1;32m     12\u001b[0m                     \u001b[0mweights\u001b[0m\u001b[0;34m=\u001b[0m\u001b[0;32mNone\u001b[0m\u001b[0;34m,\u001b[0m\u001b[0;34m\u001b[0m\u001b[0;34m\u001b[0m\u001b[0m\n\u001b[1;32m     13\u001b[0m                     \u001b[0minput_shape\u001b[0m\u001b[0;34m=\u001b[0m\u001b[0;34m(\u001b[0m\u001b[0mNUM_FRAMES\u001b[0m\u001b[0;34m,\u001b[0m \u001b[0mFRAME_HEIGHT\u001b[0m\u001b[0;34m,\u001b[0m \u001b[0mFRAME_WIDTH\u001b[0m\u001b[0;34m,\u001b[0m \u001b[0mNUM_RGB_CHANNELS\u001b[0m\u001b[0;34m)\u001b[0m\u001b[0;34m,\u001b[0m\u001b[0;34m\u001b[0m\u001b[0;34m\u001b[0m\u001b[0m\n\u001b[0;32m---> 14\u001b[0;31m         classes=NUM_CLASSES)\n\u001b[0m\u001b[1;32m     15\u001b[0m \u001b[0;34m\u001b[0m\u001b[0m\n\u001b[1;32m     16\u001b[0m     \u001b[0;31m# make prediction\u001b[0m\u001b[0;34m\u001b[0m\u001b[0;34m\u001b[0m\u001b[0;34m\u001b[0m\u001b[0m\n",
      "\u001b[0;32m/kaggle/input/feriha/i3d_inception.py\u001b[0m in \u001b[0;36mInception_Inflated3d\u001b[0;34m(include_top, weights, input_tensor, input_shape, dropout_prob, endpoint_logit, classes)\u001b[0m\n\u001b[1;32m    497\u001b[0m     \u001b[0;32mif\u001b[0m \u001b[0minclude_top\u001b[0m\u001b[0;34m:\u001b[0m\u001b[0;34m\u001b[0m\u001b[0;34m\u001b[0m\u001b[0m\n\u001b[1;32m    498\u001b[0m         \u001b[0;31m# Classification block\u001b[0m\u001b[0;34m\u001b[0m\u001b[0;34m\u001b[0m\u001b[0;34m\u001b[0m\u001b[0m\n\u001b[0;32m--> 499\u001b[0;31m         \u001b[0mx\u001b[0m \u001b[0;34m=\u001b[0m \u001b[0mAveragePooling3D\u001b[0m\u001b[0;34m(\u001b[0m\u001b[0;34m(\u001b[0m\u001b[0;36m2\u001b[0m\u001b[0;34m,\u001b[0m \u001b[0;36m7\u001b[0m\u001b[0;34m,\u001b[0m \u001b[0;36m7\u001b[0m\u001b[0;34m)\u001b[0m\u001b[0;34m,\u001b[0m \u001b[0mstrides\u001b[0m\u001b[0;34m=\u001b[0m\u001b[0;34m(\u001b[0m\u001b[0;36m1\u001b[0m\u001b[0;34m,\u001b[0m \u001b[0;36m1\u001b[0m\u001b[0;34m,\u001b[0m \u001b[0;36m1\u001b[0m\u001b[0;34m)\u001b[0m\u001b[0;34m,\u001b[0m \u001b[0mpadding\u001b[0m\u001b[0;34m=\u001b[0m\u001b[0;34m'valid'\u001b[0m\u001b[0;34m,\u001b[0m \u001b[0mname\u001b[0m\u001b[0;34m=\u001b[0m\u001b[0;34m'global_avg_pool'\u001b[0m\u001b[0;34m)\u001b[0m\u001b[0;34m(\u001b[0m\u001b[0mx\u001b[0m\u001b[0;34m)\u001b[0m\u001b[0;34m\u001b[0m\u001b[0;34m\u001b[0m\u001b[0m\n\u001b[0m\u001b[1;32m    500\u001b[0m         \u001b[0mx\u001b[0m \u001b[0;34m=\u001b[0m \u001b[0mDropout\u001b[0m\u001b[0;34m(\u001b[0m\u001b[0mdropout_prob\u001b[0m\u001b[0;34m)\u001b[0m\u001b[0;34m(\u001b[0m\u001b[0mx\u001b[0m\u001b[0;34m)\u001b[0m\u001b[0;34m\u001b[0m\u001b[0;34m\u001b[0m\u001b[0m\n\u001b[1;32m    501\u001b[0m \u001b[0;34m\u001b[0m\u001b[0m\n",
      "\u001b[0;32m/opt/conda/lib/python3.7/site-packages/tensorflow/python/keras/engine/base_layer.py\u001b[0m in \u001b[0;36m__call__\u001b[0;34m(self, *args, **kwargs)\u001b[0m\n\u001b[1;32m    924\u001b[0m     \u001b[0;32mif\u001b[0m \u001b[0m_in_functional_construction_mode\u001b[0m\u001b[0;34m(\u001b[0m\u001b[0mself\u001b[0m\u001b[0;34m,\u001b[0m \u001b[0minputs\u001b[0m\u001b[0;34m,\u001b[0m \u001b[0margs\u001b[0m\u001b[0;34m,\u001b[0m \u001b[0mkwargs\u001b[0m\u001b[0;34m,\u001b[0m \u001b[0minput_list\u001b[0m\u001b[0;34m)\u001b[0m\u001b[0;34m:\u001b[0m\u001b[0;34m\u001b[0m\u001b[0;34m\u001b[0m\u001b[0m\n\u001b[1;32m    925\u001b[0m       return self._functional_construction_call(inputs, args, kwargs,\n\u001b[0;32m--> 926\u001b[0;31m                                                 input_list)\n\u001b[0m\u001b[1;32m    927\u001b[0m \u001b[0;34m\u001b[0m\u001b[0m\n\u001b[1;32m    928\u001b[0m     \u001b[0;31m# Maintains info about the `Layer.call` stack.\u001b[0m\u001b[0;34m\u001b[0m\u001b[0;34m\u001b[0m\u001b[0;34m\u001b[0m\u001b[0m\n",
      "\u001b[0;32m/opt/conda/lib/python3.7/site-packages/tensorflow/python/keras/engine/base_layer.py\u001b[0m in \u001b[0;36m_functional_construction_call\u001b[0;34m(self, inputs, args, kwargs, input_list)\u001b[0m\n\u001b[1;32m   1115\u001b[0m           \u001b[0;32mtry\u001b[0m\u001b[0;34m:\u001b[0m\u001b[0;34m\u001b[0m\u001b[0;34m\u001b[0m\u001b[0m\n\u001b[1;32m   1116\u001b[0m             \u001b[0;32mwith\u001b[0m \u001b[0mops\u001b[0m\u001b[0;34m.\u001b[0m\u001b[0menable_auto_cast_variables\u001b[0m\u001b[0;34m(\u001b[0m\u001b[0mself\u001b[0m\u001b[0;34m.\u001b[0m\u001b[0m_compute_dtype_object\u001b[0m\u001b[0;34m)\u001b[0m\u001b[0;34m:\u001b[0m\u001b[0;34m\u001b[0m\u001b[0;34m\u001b[0m\u001b[0m\n\u001b[0;32m-> 1117\u001b[0;31m               \u001b[0moutputs\u001b[0m \u001b[0;34m=\u001b[0m \u001b[0mcall_fn\u001b[0m\u001b[0;34m(\u001b[0m\u001b[0mcast_inputs\u001b[0m\u001b[0;34m,\u001b[0m \u001b[0;34m*\u001b[0m\u001b[0margs\u001b[0m\u001b[0;34m,\u001b[0m \u001b[0;34m**\u001b[0m\u001b[0mkwargs\u001b[0m\u001b[0;34m)\u001b[0m\u001b[0;34m\u001b[0m\u001b[0;34m\u001b[0m\u001b[0m\n\u001b[0m\u001b[1;32m   1118\u001b[0m \u001b[0;34m\u001b[0m\u001b[0m\n\u001b[1;32m   1119\u001b[0m           \u001b[0;32mexcept\u001b[0m \u001b[0merrors\u001b[0m\u001b[0;34m.\u001b[0m\u001b[0mOperatorNotAllowedInGraphError\u001b[0m \u001b[0;32mas\u001b[0m \u001b[0me\u001b[0m\u001b[0;34m:\u001b[0m\u001b[0;34m\u001b[0m\u001b[0;34m\u001b[0m\u001b[0m\n",
      "\u001b[0;32m/opt/conda/lib/python3.7/site-packages/tensorflow/python/keras/layers/pooling.py\u001b[0m in \u001b[0;36mcall\u001b[0;34m(self, inputs)\u001b[0m\n\u001b[1;32m    568\u001b[0m         \u001b[0mksize\u001b[0m\u001b[0;34m=\u001b[0m\u001b[0mpool_shape\u001b[0m\u001b[0;34m,\u001b[0m\u001b[0;34m\u001b[0m\u001b[0;34m\u001b[0m\u001b[0m\n\u001b[1;32m    569\u001b[0m         \u001b[0mstrides\u001b[0m\u001b[0;34m=\u001b[0m\u001b[0mstrides\u001b[0m\u001b[0;34m,\u001b[0m\u001b[0;34m\u001b[0m\u001b[0;34m\u001b[0m\u001b[0m\n\u001b[0;32m--> 570\u001b[0;31m         padding=self.padding.upper())\n\u001b[0m\u001b[1;32m    571\u001b[0m \u001b[0;34m\u001b[0m\u001b[0m\n\u001b[1;32m    572\u001b[0m     \u001b[0;32mif\u001b[0m \u001b[0mself\u001b[0m\u001b[0;34m.\u001b[0m\u001b[0mdata_format\u001b[0m \u001b[0;34m==\u001b[0m \u001b[0;34m'channels_first'\u001b[0m\u001b[0;34m:\u001b[0m\u001b[0;34m\u001b[0m\u001b[0;34m\u001b[0m\u001b[0m\n",
      "\u001b[0;32m/opt/conda/lib/python3.7/site-packages/tensorflow/python/util/dispatch.py\u001b[0m in \u001b[0;36mwrapper\u001b[0;34m(*args, **kwargs)\u001b[0m\n\u001b[1;32m    199\u001b[0m     \u001b[0;34m\"\"\"Call target, and fall back on dispatchers if there is a TypeError.\"\"\"\u001b[0m\u001b[0;34m\u001b[0m\u001b[0;34m\u001b[0m\u001b[0m\n\u001b[1;32m    200\u001b[0m     \u001b[0;32mtry\u001b[0m\u001b[0;34m:\u001b[0m\u001b[0;34m\u001b[0m\u001b[0;34m\u001b[0m\u001b[0m\n\u001b[0;32m--> 201\u001b[0;31m       \u001b[0;32mreturn\u001b[0m \u001b[0mtarget\u001b[0m\u001b[0;34m(\u001b[0m\u001b[0;34m*\u001b[0m\u001b[0margs\u001b[0m\u001b[0;34m,\u001b[0m \u001b[0;34m**\u001b[0m\u001b[0mkwargs\u001b[0m\u001b[0;34m)\u001b[0m\u001b[0;34m\u001b[0m\u001b[0;34m\u001b[0m\u001b[0m\n\u001b[0m\u001b[1;32m    202\u001b[0m     \u001b[0;32mexcept\u001b[0m \u001b[0;34m(\u001b[0m\u001b[0mTypeError\u001b[0m\u001b[0;34m,\u001b[0m \u001b[0mValueError\u001b[0m\u001b[0;34m)\u001b[0m\u001b[0;34m:\u001b[0m\u001b[0;34m\u001b[0m\u001b[0;34m\u001b[0m\u001b[0m\n\u001b[1;32m    203\u001b[0m       \u001b[0;31m# Note: convert_to_eager_tensor currently raises a ValueError, not a\u001b[0m\u001b[0;34m\u001b[0m\u001b[0;34m\u001b[0m\u001b[0;34m\u001b[0m\u001b[0m\n",
      "\u001b[0;32m/opt/conda/lib/python3.7/site-packages/tensorflow/python/ops/nn_ops.py\u001b[0m in \u001b[0;36mavg_pool3d\u001b[0;34m(input, ksize, strides, padding, data_format, name)\u001b[0m\n\u001b[1;32m   4407\u001b[0m         \u001b[0mpadding\u001b[0m\u001b[0;34m=\u001b[0m\u001b[0mpadding\u001b[0m\u001b[0;34m,\u001b[0m\u001b[0;34m\u001b[0m\u001b[0;34m\u001b[0m\u001b[0m\n\u001b[1;32m   4408\u001b[0m         \u001b[0mdata_format\u001b[0m\u001b[0;34m=\u001b[0m\u001b[0mdata_format\u001b[0m\u001b[0;34m,\u001b[0m\u001b[0;34m\u001b[0m\u001b[0;34m\u001b[0m\u001b[0m\n\u001b[0;32m-> 4409\u001b[0;31m         name=name)\n\u001b[0m\u001b[1;32m   4410\u001b[0m \u001b[0;34m\u001b[0m\u001b[0m\n\u001b[1;32m   4411\u001b[0m \u001b[0;34m\u001b[0m\u001b[0m\n",
      "\u001b[0;32m/opt/conda/lib/python3.7/site-packages/tensorflow/python/ops/gen_nn_ops.py\u001b[0m in \u001b[0;36mavg_pool3d\u001b[0;34m(input, ksize, strides, padding, data_format, name)\u001b[0m\n\u001b[1;32m    188\u001b[0m   _, _, _op, _outputs = _op_def_library._apply_op_helper(\n\u001b[1;32m    189\u001b[0m         \u001b[0;34m\"AvgPool3D\"\u001b[0m\u001b[0;34m,\u001b[0m \u001b[0minput\u001b[0m\u001b[0;34m=\u001b[0m\u001b[0minput\u001b[0m\u001b[0;34m,\u001b[0m \u001b[0mksize\u001b[0m\u001b[0;34m=\u001b[0m\u001b[0mksize\u001b[0m\u001b[0;34m,\u001b[0m \u001b[0mstrides\u001b[0m\u001b[0;34m=\u001b[0m\u001b[0mstrides\u001b[0m\u001b[0;34m,\u001b[0m\u001b[0;34m\u001b[0m\u001b[0;34m\u001b[0m\u001b[0m\n\u001b[0;32m--> 190\u001b[0;31m                      padding=padding, data_format=data_format, name=name)\n\u001b[0m\u001b[1;32m    191\u001b[0m   \u001b[0m_result\u001b[0m \u001b[0;34m=\u001b[0m \u001b[0m_outputs\u001b[0m\u001b[0;34m[\u001b[0m\u001b[0;34m:\u001b[0m\u001b[0;34m]\u001b[0m\u001b[0;34m\u001b[0m\u001b[0;34m\u001b[0m\u001b[0m\n\u001b[1;32m    192\u001b[0m   \u001b[0;32mif\u001b[0m \u001b[0m_execute\u001b[0m\u001b[0;34m.\u001b[0m\u001b[0mmust_record_gradient\u001b[0m\u001b[0;34m(\u001b[0m\u001b[0;34m)\u001b[0m\u001b[0;34m:\u001b[0m\u001b[0;34m\u001b[0m\u001b[0;34m\u001b[0m\u001b[0m\n",
      "\u001b[0;32m/opt/conda/lib/python3.7/site-packages/tensorflow/python/framework/op_def_library.py\u001b[0m in \u001b[0;36m_apply_op_helper\u001b[0;34m(op_type_name, name, **keywords)\u001b[0m\n\u001b[1;32m    742\u001b[0m       op = g._create_op_internal(op_type_name, inputs, dtypes=None,\n\u001b[1;32m    743\u001b[0m                                  \u001b[0mname\u001b[0m\u001b[0;34m=\u001b[0m\u001b[0mscope\u001b[0m\u001b[0;34m,\u001b[0m \u001b[0minput_types\u001b[0m\u001b[0;34m=\u001b[0m\u001b[0minput_types\u001b[0m\u001b[0;34m,\u001b[0m\u001b[0;34m\u001b[0m\u001b[0;34m\u001b[0m\u001b[0m\n\u001b[0;32m--> 744\u001b[0;31m                                  attrs=attr_protos, op_def=op_def)\n\u001b[0m\u001b[1;32m    745\u001b[0m \u001b[0;34m\u001b[0m\u001b[0m\n\u001b[1;32m    746\u001b[0m     \u001b[0;31m# `outputs` is returned as a separate return value so that the output\u001b[0m\u001b[0;34m\u001b[0m\u001b[0;34m\u001b[0m\u001b[0;34m\u001b[0m\u001b[0m\n",
      "\u001b[0;32m/opt/conda/lib/python3.7/site-packages/tensorflow/python/framework/func_graph.py\u001b[0m in \u001b[0;36m_create_op_internal\u001b[0;34m(self, op_type, inputs, dtypes, input_types, name, attrs, op_def, compute_device)\u001b[0m\n\u001b[1;32m    591\u001b[0m     return super(FuncGraph, self)._create_op_internal(  # pylint: disable=protected-access\n\u001b[1;32m    592\u001b[0m         \u001b[0mop_type\u001b[0m\u001b[0;34m,\u001b[0m \u001b[0minputs\u001b[0m\u001b[0;34m,\u001b[0m \u001b[0mdtypes\u001b[0m\u001b[0;34m,\u001b[0m \u001b[0minput_types\u001b[0m\u001b[0;34m,\u001b[0m \u001b[0mname\u001b[0m\u001b[0;34m,\u001b[0m \u001b[0mattrs\u001b[0m\u001b[0;34m,\u001b[0m \u001b[0mop_def\u001b[0m\u001b[0;34m,\u001b[0m\u001b[0;34m\u001b[0m\u001b[0;34m\u001b[0m\u001b[0m\n\u001b[0;32m--> 593\u001b[0;31m         compute_device)\n\u001b[0m\u001b[1;32m    594\u001b[0m \u001b[0;34m\u001b[0m\u001b[0m\n\u001b[1;32m    595\u001b[0m   \u001b[0;32mdef\u001b[0m \u001b[0mcapture\u001b[0m\u001b[0;34m(\u001b[0m\u001b[0mself\u001b[0m\u001b[0;34m,\u001b[0m \u001b[0mtensor\u001b[0m\u001b[0;34m,\u001b[0m \u001b[0mname\u001b[0m\u001b[0;34m=\u001b[0m\u001b[0;32mNone\u001b[0m\u001b[0;34m,\u001b[0m \u001b[0mshape\u001b[0m\u001b[0;34m=\u001b[0m\u001b[0;32mNone\u001b[0m\u001b[0;34m)\u001b[0m\u001b[0;34m:\u001b[0m\u001b[0;34m\u001b[0m\u001b[0;34m\u001b[0m\u001b[0m\n",
      "\u001b[0;32m/opt/conda/lib/python3.7/site-packages/tensorflow/python/framework/ops.py\u001b[0m in \u001b[0;36m_create_op_internal\u001b[0;34m(self, op_type, inputs, dtypes, input_types, name, attrs, op_def, compute_device)\u001b[0m\n\u001b[1;32m   3483\u001b[0m           \u001b[0minput_types\u001b[0m\u001b[0;34m=\u001b[0m\u001b[0minput_types\u001b[0m\u001b[0;34m,\u001b[0m\u001b[0;34m\u001b[0m\u001b[0;34m\u001b[0m\u001b[0m\n\u001b[1;32m   3484\u001b[0m           \u001b[0moriginal_op\u001b[0m\u001b[0;34m=\u001b[0m\u001b[0mself\u001b[0m\u001b[0;34m.\u001b[0m\u001b[0m_default_original_op\u001b[0m\u001b[0;34m,\u001b[0m\u001b[0;34m\u001b[0m\u001b[0;34m\u001b[0m\u001b[0m\n\u001b[0;32m-> 3485\u001b[0;31m           op_def=op_def)\n\u001b[0m\u001b[1;32m   3486\u001b[0m       \u001b[0mself\u001b[0m\u001b[0;34m.\u001b[0m\u001b[0m_create_op_helper\u001b[0m\u001b[0;34m(\u001b[0m\u001b[0mret\u001b[0m\u001b[0;34m,\u001b[0m \u001b[0mcompute_device\u001b[0m\u001b[0;34m=\u001b[0m\u001b[0mcompute_device\u001b[0m\u001b[0;34m)\u001b[0m\u001b[0;34m\u001b[0m\u001b[0;34m\u001b[0m\u001b[0m\n\u001b[1;32m   3487\u001b[0m     \u001b[0;32mreturn\u001b[0m \u001b[0mret\u001b[0m\u001b[0;34m\u001b[0m\u001b[0;34m\u001b[0m\u001b[0m\n",
      "\u001b[0;32m/opt/conda/lib/python3.7/site-packages/tensorflow/python/framework/ops.py\u001b[0m in \u001b[0;36m__init__\u001b[0;34m(self, node_def, g, inputs, output_types, control_inputs, input_types, original_op, op_def)\u001b[0m\n\u001b[1;32m   1973\u001b[0m         \u001b[0mop_def\u001b[0m \u001b[0;34m=\u001b[0m \u001b[0mself\u001b[0m\u001b[0;34m.\u001b[0m\u001b[0m_graph\u001b[0m\u001b[0;34m.\u001b[0m\u001b[0m_get_op_def\u001b[0m\u001b[0;34m(\u001b[0m\u001b[0mnode_def\u001b[0m\u001b[0;34m.\u001b[0m\u001b[0mop\u001b[0m\u001b[0;34m)\u001b[0m\u001b[0;34m\u001b[0m\u001b[0;34m\u001b[0m\u001b[0m\n\u001b[1;32m   1974\u001b[0m       self._c_op = _create_c_op(self._graph, node_def, inputs,\n\u001b[0;32m-> 1975\u001b[0;31m                                 control_input_ops, op_def)\n\u001b[0m\u001b[1;32m   1976\u001b[0m       \u001b[0mname\u001b[0m \u001b[0;34m=\u001b[0m \u001b[0mcompat\u001b[0m\u001b[0;34m.\u001b[0m\u001b[0mas_str\u001b[0m\u001b[0;34m(\u001b[0m\u001b[0mnode_def\u001b[0m\u001b[0;34m.\u001b[0m\u001b[0mname\u001b[0m\u001b[0;34m)\u001b[0m\u001b[0;34m\u001b[0m\u001b[0;34m\u001b[0m\u001b[0m\n\u001b[1;32m   1977\u001b[0m     \u001b[0;31m# pylint: enable=protected-access\u001b[0m\u001b[0;34m\u001b[0m\u001b[0;34m\u001b[0m\u001b[0;34m\u001b[0m\u001b[0m\n",
      "\u001b[0;32m/opt/conda/lib/python3.7/site-packages/tensorflow/python/framework/ops.py\u001b[0m in \u001b[0;36m_create_c_op\u001b[0;34m(graph, node_def, inputs, control_inputs, op_def)\u001b[0m\n\u001b[1;32m   1813\u001b[0m   \u001b[0;32mexcept\u001b[0m \u001b[0merrors\u001b[0m\u001b[0;34m.\u001b[0m\u001b[0mInvalidArgumentError\u001b[0m \u001b[0;32mas\u001b[0m \u001b[0me\u001b[0m\u001b[0;34m:\u001b[0m\u001b[0;34m\u001b[0m\u001b[0;34m\u001b[0m\u001b[0m\n\u001b[1;32m   1814\u001b[0m     \u001b[0;31m# Convert to ValueError for backwards compatibility.\u001b[0m\u001b[0;34m\u001b[0m\u001b[0;34m\u001b[0m\u001b[0;34m\u001b[0m\u001b[0m\n\u001b[0;32m-> 1815\u001b[0;31m     \u001b[0;32mraise\u001b[0m \u001b[0mValueError\u001b[0m\u001b[0;34m(\u001b[0m\u001b[0mstr\u001b[0m\u001b[0;34m(\u001b[0m\u001b[0me\u001b[0m\u001b[0;34m)\u001b[0m\u001b[0;34m)\u001b[0m\u001b[0;34m\u001b[0m\u001b[0;34m\u001b[0m\u001b[0m\n\u001b[0m\u001b[1;32m   1816\u001b[0m \u001b[0;34m\u001b[0m\u001b[0m\n\u001b[1;32m   1817\u001b[0m   \u001b[0;32mreturn\u001b[0m \u001b[0mc_op\u001b[0m\u001b[0;34m\u001b[0m\u001b[0;34m\u001b[0m\u001b[0m\n",
      "\u001b[0;31mValueError\u001b[0m: Negative dimension size caused by subtracting 7 from 5 for '{{node global_avg_pool/AvgPool3D}} = AvgPool3D[T=DT_FLOAT, data_format=\"NDHWC\", ksize=[1, 2, 7, 7, 1], padding=\"VALID\", strides=[1, 1, 1, 1, 1]](Mixed_5c/concat)' with input shapes: [?,92,7,5,1024]."
     ]
    }
   ],
   "source": [
    "evaluate(padded_arr)"
   ]
  },
  {
   "cell_type": "code",
   "execution_count": 18,
   "metadata": {
    "execution": {
     "iopub.execute_input": "2020-12-17T05:43:27.162382Z",
     "iopub.status.busy": "2020-12-17T05:43:27.161716Z",
     "iopub.status.idle": "2020-12-17T05:43:27.165883Z",
     "shell.execute_reply": "2020-12-17T05:43:27.166542Z"
    },
    "papermill": {
     "duration": 0.033174,
     "end_time": "2020-12-17T05:43:27.166692",
     "exception": false,
     "start_time": "2020-12-17T05:43:27.133518",
     "status": "completed"
    },
    "tags": []
   },
   "outputs": [
    {
     "ename": "SyntaxError",
     "evalue": "unexpected EOF while parsing (<ipython-input-18-8d2f8acd3c5c>, line 3)",
     "output_type": "error",
     "traceback": [
      "\u001b[0;36m  File \u001b[0;32m\"<ipython-input-18-8d2f8acd3c5c>\"\u001b[0;36m, line \u001b[0;32m3\u001b[0m\n\u001b[0;31m    \u001b[0m\n\u001b[0m    ^\u001b[0m\n\u001b[0;31mSyntaxError\u001b[0m\u001b[0;31m:\u001b[0m unexpected EOF while parsing\n"
     ]
    }
   ],
   "source": [
    "for video in test_list:\n",
    "    #evaluate(video)\n",
    "    "
   ]
  },
  {
   "cell_type": "code",
   "execution_count": null,
   "metadata": {
    "papermill": {
     "duration": 0.023306,
     "end_time": "2020-12-17T05:43:27.214915",
     "exception": false,
     "start_time": "2020-12-17T05:43:27.191609",
     "status": "completed"
    },
    "tags": []
   },
   "outputs": [],
   "source": []
  }
 ],
 "metadata": {
  "kernelspec": {
   "display_name": "Python 3",
   "language": "python",
   "name": "python3"
  },
  "language_info": {
   "codemirror_mode": {
    "name": "ipython",
    "version": 3
   },
   "file_extension": ".py",
   "mimetype": "text/x-python",
   "name": "python",
   "nbconvert_exporter": "python",
   "pygments_lexer": "ipython3",
   "version": "3.7.6"
  },
  "papermill": {
   "duration": 41.22077,
   "end_time": "2020-12-17T05:43:27.350131",
   "environment_variables": {},
   "exception": null,
   "input_path": "__notebook__.ipynb",
   "output_path": "__notebook__.ipynb",
   "parameters": {},
   "start_time": "2020-12-17T05:42:46.129361",
   "version": "2.1.0"
  }
 },
 "nbformat": 4,
 "nbformat_minor": 4
}
